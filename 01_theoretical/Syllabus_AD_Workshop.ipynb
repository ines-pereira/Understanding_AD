{
 "cells": [
  {
   "cell_type": "markdown",
   "metadata": {
    "slideshow": {
     "slide_type": "slide"
    }
   },
   "source": [
    "# <span style=\"color:#ffca28\">Understanding Algorithmic Design:</span> learning algorithms through illustrations"
   ]
  },
  {
   "cell_type": "markdown",
   "metadata": {
    "slideshow": {
     "slide_type": "-"
    }
   },
   "source": [
    "<center><img src=\"images/UnderstandingAlgorithmicDesign.jpg\" width=\"1000\" height=\"600\"></center>"
   ]
  },
  {
   "cell_type": "markdown",
   "metadata": {
    "slideshow": {
     "slide_type": "subslide"
    }
   },
   "source": [
    "## Meet the team"
   ]
  },
  {
   "cell_type": "markdown",
   "metadata": {
    "slideshow": {
     "slide_type": "fragment"
    }
   },
   "source": [
    "<center><img src=\"images/team.jpg\" width=\"1100\" height=\"600\"></center>"
   ]
  },
  {
   "cell_type": "markdown",
   "metadata": {
    "slideshow": {
     "slide_type": "slide"
    }
   },
   "source": [
    "## Introduction"
   ]
  },
  {
   "cell_type": "markdown",
   "metadata": {
    "slideshow": {
     "slide_type": "subslide"
    }
   },
   "source": [
    "### Workshop **Goals**"
   ]
  },
  {
   "cell_type": "markdown",
   "metadata": {
    "slideshow": {
     "slide_type": "fragment"
    }
   },
   "source": [
    "- Learn <span style=\"color:#40E0D0\">Algorithmic Design</span> principles with the help of graphical documentation."
   ]
  },
  {
   "cell_type": "markdown",
   "metadata": {
    "slideshow": {
     "slide_type": "fragment"
    }
   },
   "source": [
    "- Explore <span style=\"color:#CCCCFF\">Khepri</span> (an AD tool for architectural design) and its semi-automatic illustration system."
   ]
  },
  {
   "cell_type": "markdown",
   "metadata": {
    "slideshow": {
     "slide_type": "fragment"
    }
   },
   "source": [
    "- Practice computational concepts through hands-on design tasks.  "
   ]
  },
  {
   "cell_type": "markdown",
   "metadata": {
    "slideshow": {
     "slide_type": "fragment"
    }
   },
   "source": [
    "- Use <span style=\"color:#6495ED\">Jupyter</span> notebooks to integrate AD scripts with illustrations.  "
   ]
  },
  {
   "cell_type": "markdown",
   "metadata": {
    "slideshow": {
     "slide_type": "fragment"
    }
   },
   "source": [
    "- Provide feedback via a <span style=\"color:\">survey</span> to improve future workshops. "
   ]
  },
  {
   "cell_type": "markdown",
   "metadata": {
    "slideshow": {
     "slide_type": "subslide"
    }
   },
   "source": [
    "### Workshop **Structure**"
   ]
  },
  {
   "cell_type": "markdown",
   "metadata": {
    "slideshow": {
     "slide_type": "fragment"
    }
   },
   "source": [
    "<span style=\"color:#a1a1cf\">**Part I**</span>\n",
    "- Introduction to Algorithmic Design.\n",
    "- Workshop tools presentation.\n"
   ]
  },
  {
   "cell_type": "markdown",
   "metadata": {
    "slideshow": {
     "slide_type": "fragment"
    }
   },
   "source": [
    "<span style=\"color:#b8a1cf\">**Part II**</span>\n",
    "- Programming languages.\n",
    "- The Julia language: syntax, language elements, and function definition.\n",
    "- Algorithmic strutures.\n",
    "- 2D Modelling: coordinate systems and geomteric primitives.\n",
    "- Geometric shape parametrization.\n",
    "- Iteration.\n",
    "- Randomness."
   ]
  },
  {
   "cell_type": "markdown",
   "metadata": {
    "slideshow": {
     "slide_type": "subslide"
    }
   },
   "source": [
    "<span style=\"color:#cfa1cf\">**Part III**</span>\n",
    "- Tools installation.\n",
    "- Hands-on exercises.\n",
    "- Feedback survey."
   ]
  },
  {
   "cell_type": "markdown",
   "metadata": {
    "slideshow": {
     "slide_type": "slide"
    }
   },
   "source": [
    "# <span style=\"color:#a1a1cf\">**Part I**</span>"
   ]
  },
  {
   "cell_type": "markdown",
   "metadata": {
    "slideshow": {
     "slide_type": "subslide"
    }
   },
   "source": [
    "## What is **Algorithmic Design**?"
   ]
  },
  {
   "cell_type": "markdown",
   "metadata": {
    "slideshow": {
     "slide_type": "fragment"
    }
   },
   "source": [
    "<center><img src=\"images/AD_whatIsAD.png\" width=\"1200\" height=\"900\"></center>"
   ]
  },
  {
   "cell_type": "markdown",
   "metadata": {
    "slideshow": {
     "slide_type": "subslide"
    }
   },
   "source": [
    "### Applications & advantages"
   ]
  },
  {
   "cell_type": "markdown",
   "metadata": {
    "slideshow": {
     "slide_type": "fragment"
    }
   },
   "source": [
    "<center><img src=\"images/AD_advantages.png\" width=\"1400\" height=\"800\"></center>"
   ]
  },
  {
   "cell_type": "markdown",
   "metadata": {
    "slideshow": {
     "slide_type": "subslide"
    }
   },
   "source": [
    "### Those who already use it"
   ]
  },
  {
   "cell_type": "markdown",
   "metadata": {
    "slideshow": {
     "slide_type": "fragment"
    }
   },
   "source": [
    "<center><img src=\"images/studios.jpg\" width=\"1400\" height=\"800\"></center>"
   ]
  },
  {
   "cell_type": "markdown",
   "metadata": {
    "slideshow": {
     "slide_type": "subslide"
    }
   },
   "source": [
    "### Pratical examples - <span style=\"color:#a1a1cf\">Students' Works</span>"
   ]
  },
  {
   "cell_type": "markdown",
   "metadata": {
    "slideshow": {
     "slide_type": "fragment"
    }
   },
   "source": [
    "<center><img src=\"images/students_examples.png\" width=\"1400\" height=\"800\"></center>"
   ]
  },
  {
   "cell_type": "markdown",
   "metadata": {
    "slideshow": {
     "slide_type": "subslide"
    }
   },
   "source": [
    "### Pratical example - <span style=\"color:#a1a1cf\">The Al Bahar Towers</span>"
   ]
  },
  {
   "cell_type": "markdown",
   "metadata": {
    "slideshow": {
     "slide_type": "skip"
    }
   },
   "source": [
    "**Algorithmic Design allows us to easily create design <span style=\"color:#a1a1cf\">variations</span>**"
   ]
  },
  {
   "cell_type": "markdown",
   "metadata": {
    "slideshow": {
     "slide_type": "-"
    }
   },
   "source": [
    "<div style=\"display: flex; align-items: flex-start;\">\n",
    "  <div style=\"flex: 1; padding-right: 10px;\">\n",
    "\n",
    "<center><img src=\"images/albahar2-Temp0052.png\" width=\"1500\" height=\"800\"></center>\n",
    "\n",
    "</div> \n",
    "\n",
    "<div style=\"flex: 1; padding-left: 10px;\">\n",
    "<center><img src=\"images/albahar2-Temp0050.png\" width=\"1500\" height=\"800\"></center>\n",
    "</div>\n",
    "\n",
    "</div>"
   ]
  },
  {
   "cell_type": "markdown",
   "metadata": {
    "slideshow": {
     "slide_type": "subslide"
    }
   },
   "source": [
    "**But before achieving that level of detail, we start our algorithmic design project as any other architectural project...**"
   ]
  },
  {
   "cell_type": "markdown",
   "metadata": {
    "slideshow": {
     "slide_type": "fragment"
    }
   },
   "source": [
    "\n",
    "<div style=\"text-align: right\"><strong>...by <span style=\"color:#a1a1cf\">sketching</span> our ideas.</strong></div>"
   ]
  },
  {
   "cell_type": "markdown",
   "metadata": {
    "slideshow": {
     "slide_type": "-"
    }
   },
   "source": [
    "<center><img src=\"images/albahar_multiple_skecthes.png\" width=\"1000\" height=\"800\"></center>"
   ]
  },
  {
   "cell_type": "markdown",
   "metadata": {
    "slideshow": {
     "slide_type": "subslide"
    }
   },
   "source": [
    "#### Sketches help us understand the <span style=\"color:#a1a1cf\">parameters</span> we want in our program and the <span style=\"color:#a1a1cf\">relations</span> between them."
   ]
  },
  {
   "cell_type": "markdown",
   "metadata": {
    "slideshow": {
     "slide_type": "fragment"
    }
   },
   "source": [
    "<center><img src=\"images/estrela_sketch.png\" width=\"1400\" height=\"800\"></center>\n"
   ]
  },
  {
   "cell_type": "markdown",
   "metadata": {
    "slideshow": {
     "slide_type": "subslide"
    }
   },
   "source": [
    "### But what should we do when our program's output does not match our plan?"
   ]
  },
  {
   "cell_type": "markdown",
   "metadata": {
    "slideshow": {
     "slide_type": "fragment"
    }
   },
   "source": [
    "<div style=\"display: flex; align-items: flex-start;\">\n",
    "  <div style=\"flex: 1; padding-left: 150px; padding-right: 200px;\">\n",
    "\n",
    "<center><img src=\"images/sketch_albahar.png\" width=\"600\" height=\"800\"></center>\n",
    "\n",
    "</div> \n",
    "\n",
    "<div style=\"flex: 1; padding-left: 10px;\">\n",
    "<br />\n",
    "<center><img src=\"images/star_wrong.svg\" width=\"700\" height=\"800\"></center>\n",
    "</div>\n",
    "\n",
    "</div>"
   ]
  },
  {
   "cell_type": "markdown",
   "metadata": {
    "slideshow": {
     "slide_type": "subslide"
    }
   },
   "source": [
    "### Can an illustration helps us identify where the error is?"
   ]
  },
  {
   "cell_type": "markdown",
   "metadata": {
    "slideshow": {
     "slide_type": "fragment"
    }
   },
   "source": [
    "<center><img src=\"images/star_illustration_2.svg\" width=\"800\" height=\"800\"></center>"
   ]
  },
  {
   "cell_type": "markdown",
   "metadata": {
    "slideshow": {
     "slide_type": "fragment"
    }
   },
   "source": [
    "The calculations for the third $in_v$ point are happening, but the point is not being created."
   ]
  },
  {
   "cell_type": "markdown",
   "metadata": {
    "slideshow": {
     "slide_type": "subslide"
    }
   },
   "source": [
    "## Software"
   ]
  },
  {
   "cell_type": "markdown",
   "metadata": {
    "slideshow": {
     "slide_type": "fragment"
    }
   },
   "source": [
    "<center><img src=\"images/tools.jpg\" width=\"1200\" height=\"700\"> </center>"
   ]
  },
  {
   "cell_type": "markdown",
   "metadata": {
    "slideshow": {
     "slide_type": "slide"
    }
   },
   "source": [
    "# <span style=\"color:#b8a1cf\">**Part II**</span>"
   ]
  },
  {
   "cell_type": "markdown",
   "metadata": {
    "slideshow": {
     "slide_type": "slide"
    }
   },
   "source": [
    "## Programming Languages"
   ]
  },
  {
   "cell_type": "markdown",
   "metadata": {
    "slideshow": {
     "slide_type": "fragment"
    }
   },
   "source": [
    "<center><img src=\"images/PLs.png\" width=\"1000\" height=\"700\"> </center>"
   ]
  },
  {
   "cell_type": "markdown",
   "metadata": {
    "slideshow": {
     "slide_type": "subslide"
    }
   },
   "source": [
    "Volume of frustum of square pyramid - Modern Math\n",
    "$$\n",
    "Volume(h,b,t) = \\frac{h}{3}\\,(b^2+bt+t^2)\n",
    "$$"
   ]
  },
  {
   "cell_type": "markdown",
   "metadata": {
    "slideshow": {
     "slide_type": "fragment"
    }
   },
   "source": [
    "Volume of frustum of square pyramid - Julia\n",
    "```julia\n",
    "volume(h,b,t) = h/3*(b^2 + b*t + t^2)\n",
    "```"
   ]
  },
  {
   "cell_type": "markdown",
   "metadata": {
    "slideshow": {
     "slide_type": "fragment"
    }
   },
   "source": [
    "Volume of frustum of square pyramid - Python\n",
    "```python\n",
    "def volume (h,b,t):\n",
    "    return h/3.0*(pow(b,2)+b*t+pow(t,2))\n",
    "```"
   ]
  },
  {
   "cell_type": "markdown",
   "metadata": {
    "slideshow": {
     "slide_type": "subslide"
    }
   },
   "source": [
    "Volume of frustum of square pyramid - Racket\n",
    "```lisp\n",
    "(define (volume h b t)\n",
    "    (* (/ h 3) (+ (expt b 2) (* b t) (expt t 2))))\n",
    "```"
   ]
  },
  {
   "cell_type": "markdown",
   "metadata": {
    "slideshow": {
     "slide_type": "fragment"
    }
   },
   "source": [
    "Volume of frustum of square pyramid - Grasshopper\n",
    "\n",
    "<center><img src=\"images/VolumeFrustrumSquarePyramid0.png\" width=\"600\" height=\"130\"></center>"
   ]
  },
  {
   "cell_type": "markdown",
   "metadata": {
    "slideshow": {
     "slide_type": "slide"
    }
   },
   "source": [
    "## <span style=\"color:#b8a1cf\">Julia</span> Language"
   ]
  },
  {
   "cell_type": "markdown",
   "metadata": {
    "slideshow": {
     "slide_type": "fragment"
    }
   },
   "source": [
    "<center><img src=\"images/julia_lang.png\" width=\"1100\" height=\"780\"></center>"
   ]
  },
  {
   "cell_type": "markdown",
   "metadata": {
    "slideshow": {
     "slide_type": "subslide"
    }
   },
   "source": [
    "### Characteristics"
   ]
  },
  {
   "cell_type": "markdown",
   "metadata": {
    "slideshow": {
     "slide_type": "fragment"
    }
   },
   "source": [
    "Julia has a simple syntax and semanthics:\n",
    "\n",
    "$ \\frac{1}{2}+\\sqrt{3}+\\sin^\\frac{5}{2}{2} $\n",
    "\n",
    "\n",
    "```julia\n",
    "\n",
    "1/2 + sqrt(3) + sin(2)^(5/2)\n",
    "```\n"
   ]
  },
  {
   "cell_type": "markdown",
   "metadata": {
    "slideshow": {
     "slide_type": "fragment"
    }
   },
   "source": [
    "$ \\cos^{5}{\\cos{\\cos{0.5}}} $\n",
    "\n",
    "```julia\n",
    "\n",
    "cos(cos(cos(0.5)))^5\n",
    "```"
   ]
  },
  {
   "cell_type": "markdown",
   "metadata": {
    "slideshow": {
     "slide_type": "subslide"
    }
   },
   "source": [
    "### <span style=\"color:#9d8189;\">Functions</span> in Julia"
   ]
  },
  {
   "cell_type": "markdown",
   "metadata": {
    "slideshow": {
     "slide_type": "subslide"
    }
   },
   "source": [
    "#### <span style=\"color:#cfa1cf;\">1.</span> Definition"
   ]
  },
  {
   "cell_type": "markdown",
   "metadata": {
    "slideshow": {
     "slide_type": "fragment"
    }
   },
   "source": [
    "Example:\n",
    "$$\n",
    "square(x) = x \\times x\n",
    "$$\n",
    "\n",
    "<br>\n",
    "<center>where</center>\n",
    "<br>\n",
    "\n",
    "$$\n",
    "square \\rightarrow \\text{function name}\n",
    "\\\\\n",
    "\\text{}\n",
    "\\\\\n",
    "x \\times x \\rightarrow \\text{function body}\n",
    "$$\n"
   ]
  },
  {
   "cell_type": "markdown",
   "metadata": {
    "slideshow": {
     "slide_type": "fragment"
    }
   },
   "source": [
    "**General case:**\n",
    "\n",
    "$\\mathcal{name(parameter_1, \\dots, parameter_n) = body}$\n",
    "\n",
    "where $\\mathcal{parameter_1, \\dots, parameter_n}$ are the function’s parameters (**formal parameters**)."
   ]
  },
  {
   "cell_type": "markdown",
   "metadata": {
    "slideshow": {
     "slide_type": "subslide"
    }
   },
   "source": [
    "Julia:"
   ]
  },
  {
   "cell_type": "code",
   "execution_count": null,
   "metadata": {
    "scrolled": false
   },
   "outputs": [],
   "source": [
    "square(x) = x*x"
   ]
  },
  {
   "cell_type": "markdown",
   "metadata": {
    "slideshow": {
     "slide_type": "skip"
    }
   },
   "source": [
    "**Formal parameters** are used in the body of the function to refer to the corresponding **arguments** (or *actual parameters*). \n",
    "\n",
    "```julia\n",
    "square(x) = x*x\n",
    "\n",
    "> square(5)\n",
    "```\n",
    "\n",
    "$\\mathcal{5}$ → *argument* of the function $\\mathcal{square}$."
   ]
  },
  {
   "cell_type": "markdown",
   "metadata": {
    "slideshow": {
     "slide_type": "subslide"
    }
   },
   "source": [
    "#### <span style=\"color:#cfa1cf;\">2.</span> Evaluation"
   ]
  },
  {
   "cell_type": "code",
   "execution_count": null,
   "metadata": {
    "scrolled": false,
    "slideshow": {
     "slide_type": "fragment"
    }
   },
   "outputs": [],
   "source": [
    "square(5)"
   ]
  },
  {
   "cell_type": "markdown",
   "metadata": {
    "slideshow": {
     "slide_type": "fragment"
    }
   },
   "source": [
    "Steps:\n",
    "\n",
    "* $\\mathcal{square}$ is associated with the procedure $\\mathcal{x \\rightarrow x \\times x}$"
   ]
  },
  {
   "cell_type": "markdown",
   "metadata": {
    "slideshow": {
     "slide_type": "fragment"
    }
   },
   "source": [
    "* $\\mathcal{5}$ is associated with the parameter $\\mathcal{x}$."
   ]
  },
  {
   "cell_type": "markdown",
   "metadata": {
    "slideshow": {
     "slide_type": "fragment"
    }
   },
   "source": [
    "* $x$ is replaced by 5 in $x \\times x$."
   ]
  },
  {
   "cell_type": "markdown",
   "metadata": {
    "slideshow": {
     "slide_type": "fragment"
    }
   },
   "source": [
    "* the result is $25$."
   ]
  },
  {
   "cell_type": "code",
   "execution_count": null,
   "metadata": {
    "slideshow": {
     "slide_type": "subslide"
    }
   },
   "outputs": [],
   "source": [
    "square(square(1 + 2))"
   ]
  },
  {
   "cell_type": "markdown",
   "metadata": {
    "slideshow": {
     "slide_type": "fragment"
    }
   },
   "source": [
    "Steps:"
   ]
  },
  {
   "cell_type": "markdown",
   "metadata": {
    "slideshow": {
     "slide_type": "-"
    }
   },
   "source": [
    "$$\\mathsf{square(square(1+2))}$$\n",
    "\n",
    "$$\\downarrow$$\n",
    "$$\\mathsf{square(square(3))}$$\n",
    "\n",
    "$$\\downarrow$$\n",
    "$$\\mathsf{square(3 \\times 3)}$$\n",
    "\n",
    "$$\\downarrow$$\n",
    "$$\\mathsf{square(9)}$$\n",
    "\n",
    "$$\\downarrow$$\n",
    "$$\\mathsf{9 \\times 9}$$\n",
    "\n",
    "$$\\downarrow$$\n",
    "$$\\mathsf{81}$$"
   ]
  },
  {
   "cell_type": "markdown",
   "metadata": {
    "slideshow": {
     "slide_type": "subslide"
    }
   },
   "source": [
    "#### <span style=\"color:#cfa1cf;\">3.</span> Naming rules"
   ]
  },
  {
   "cell_type": "markdown",
   "metadata": {
    "slideshow": {
     "slide_type": "fragment"
    }
   },
   "source": [
    "<span style=\"color:#f4acb7;\">1.</span> Separate multiple-word names with an underscore (_)."
   ]
  },
  {
   "cell_type": "markdown",
   "metadata": {
    "slideshow": {
     "slide_type": "fragment"
    }
   },
   "source": [
    "<span style=\"color:#f4acb7;\">2.</span> Use names that reflect the function's behaviour."
   ]
  },
  {
   "cell_type": "markdown",
   "metadata": {
    "slideshow": {
     "slide_type": "fragment"
    }
   },
   "source": [
    "<span style=\"color:#f4acb7;\">3.</span> Avoid accented characters for portability reasons."
   ]
  },
  {
   "cell_type": "markdown",
   "metadata": {
    "slideshow": {
     "slide_type": "fragment"
    }
   },
   "source": [
    "$$ \n",
    "\\mathsf{A}(b,c)=\\frac{b \\times c}{2} \n",
    "\\\\\n",
    "\\text{} \n",
    "\\\\\n",
    "\\text{VS} \n",
    "\\\\\n",
    "\\text{} \n",
    "\\\\\n",
    "\\text{triangle}\\_\\text{area}(base,height)=\\frac{base \\times height}{2}\n",
    "$$"
   ]
  },
  {
   "cell_type": "code",
   "execution_count": null,
   "metadata": {
    "scrolled": false,
    "slideshow": {
     "slide_type": "fragment"
    }
   },
   "outputs": [],
   "source": [
    "triangle_area(base, height) = base*height/2"
   ]
  },
  {
   "cell_type": "code",
   "execution_count": null,
   "metadata": {
    "scrolled": false,
    "slideshow": {
     "slide_type": "fragment"
    }
   },
   "outputs": [],
   "source": [
    "triangle_area(4, 2)"
   ]
  },
  {
   "cell_type": "markdown",
   "metadata": {
    "slideshow": {
     "slide_type": "subslide"
    }
   },
   "source": [
    "### Let's try"
   ]
  },
  {
   "cell_type": "markdown",
   "metadata": {
    "slideshow": {
     "slide_type": "fragment"
    }
   },
   "source": [
    "<span style=\"color:#cfa1cf;\">1.</span> Define a function that calculates the perimeter of a circle given its radius. \n",
    "\n",
    "$ perimeter(r) = 2 \\pi\\times r$"
   ]
  },
  {
   "cell_type": "code",
   "execution_count": null,
   "metadata": {
    "scrolled": false
   },
   "outputs": [],
   "source": [
    "# this is a function the circle perimeter\n",
    "circle_perimeter(n) = # TODO "
   ]
  },
  {
   "cell_type": "code",
   "execution_count": null,
   "metadata": {
    "scrolled": false
   },
   "outputs": [],
   "source": [
    "circle_perimeter(5)"
   ]
  },
  {
   "cell_type": "markdown",
   "metadata": {
    "slideshow": {
     "slide_type": "subslide"
    }
   },
   "source": [
    "<span style=\"color:#cfa1cf;\">2.</span> Define the function `radians_from_degrees` that receives an angle in degrees and computes the corresponding value in radians. Note that **180** degrees are $\\pi$ radians."
   ]
  },
  {
   "cell_type": "code",
   "execution_count": null,
   "metadata": {
    "scrolled": false
   },
   "outputs": [],
   "source": [
    "radians_from_degrees(n) = # TODOs"
   ]
  },
  {
   "cell_type": "code",
   "execution_count": null,
   "metadata": {
    "scrolled": false
   },
   "outputs": [],
   "source": [
    "radians_from_degrees(90)"
   ]
  },
  {
   "cell_type": "markdown",
   "metadata": {
    "slideshow": {
     "slide_type": "subslide"
    }
   },
   "source": [
    "<span style=\"color:#cfa1cf;\">3.</span> Define a function average that calculates the average value between two numbers. For example: ```average(2, 3) →  2.5 ```"
   ]
  },
  {
   "cell_type": "code",
   "execution_count": null,
   "metadata": {},
   "outputs": [],
   "source": [
    "average(a, b, c) = # TODO"
   ]
  },
  {
   "cell_type": "code",
   "execution_count": null,
   "metadata": {
    "scrolled": false
   },
   "outputs": [],
   "source": [
    "average(2, 3, 4)"
   ]
  },
  {
   "cell_type": "markdown",
   "metadata": {
    "slideshow": {
     "slide_type": "subslide"
    }
   },
   "source": [
    "## <span style=\"color:#b8a1cf;\">Conditional</span> Expressions"
   ]
  },
  {
   "cell_type": "markdown",
   "metadata": {
    "slideshow": {
     "slide_type": "fragment"
    }
   },
   "source": [
    "$$\n",
    "|x|= \\begin{cases} \n",
    "x & \\text{if } x \\geq 0 \\\\\n",
    "-x & \\text{otherwise} \n",
    "\\end{cases}\n",
    "$$"
   ]
  },
  {
   "cell_type": "markdown",
   "metadata": {
    "slideshow": {
     "slide_type": "fragment"
    }
   },
   "source": [
    "<center> An expression whose value depends on one condition. </center>"
   ]
  },
  {
   "cell_type": "markdown",
   "metadata": {
    "slideshow": {
     "slide_type": "subslide"
    }
   },
   "source": [
    "**Conditional Expression**\n",
    "$$\n",
    "\\begin{cases} \n",
    "\\color{#b65aff}{β}, & \\text{if } \\color{#33ceff}{α} \\\\\n",
    "\\color{#FF00FF}{γ}, & \\text{otherwise}\n",
    "\\end{cases}\n",
    "$$"
   ]
  },
  {
   "cell_type": "markdown",
   "metadata": {
    "slideshow": {
     "slide_type": "fragment"
    }
   },
   "source": [
    "* <span style=\"color:#33ceff\">α</span> is the **condition**: its value can be *<span style=\"color:#81bb7d\">true</span>* or *<span style=\"color:#f54326\">false</span>* "
   ]
  },
  {
   "cell_type": "markdown",
   "metadata": {
    "slideshow": {
     "slide_type": "fragment"
    }
   },
   "source": [
    "* <span style=\"color:#b65aff\">β</span> is the **consequent**: *“if α is <span style=\"color:#81bb7d\">true</span>, the result is <span style=\"color:#b65aff\">β</span>.\"* \n",
    "    "
   ]
  },
  {
   "cell_type": "markdown",
   "metadata": {
    "slideshow": {
     "slide_type": "fragment"
    }
   },
   "source": [
    "* <span style=\"color:#FF00FF\">γ</span> is the **alternative**: *\"if α is <span style=\"color:#f54326\">false</span>, the result is <span style=\"color:#FF00FF\">γ</span>.”*"
   ]
  },
  {
   "cell_type": "markdown",
   "metadata": {
    "slideshow": {
     "slide_type": "fragment"
    }
   },
   "source": [
    "$$\n",
    "\\begin{cases} \n",
    "\\color{#b65aff}{consequent}, & \\text{if } \\color{#33ceff}{condition} \\\\\n",
    "\\color{#FF00FF}{alternative}, & \\text{otherwise}\n",
    "\\end{cases}\n",
    "$$"
   ]
  },
  {
   "cell_type": "markdown",
   "metadata": {
    "slideshow": {
     "slide_type": "subslide"
    }
   },
   "source": [
    "### Conditional structure"
   ]
  },
  {
   "cell_type": "markdown",
   "metadata": {
    "slideshow": {
     "slide_type": "fragment"
    }
   },
   "source": [
    "##### <span style=\"color:#f4acb7\">Logical value</span> \n",
    "Represents truthness and falseness.\n",
    "\n",
    "```julia \n",
    "true, false \n",
    "```"
   ]
  },
  {
   "cell_type": "markdown",
   "metadata": {
    "slideshow": {
     "slide_type": "fragment"
    }
   },
   "source": [
    "##### <span style=\"color:#f4acb7\">Predicate</span> \n",
    "A function (or operator) that returns *<span style=\"color:#81bb7d\">true</span>* or *<span style=\"color:#f54326\">false</span>* \n"
   ]
  },
  {
   "cell_type": "markdown",
   "metadata": {
    "slideshow": {
     "slide_type": "subslide"
    }
   },
   "source": [
    "$\\mathsf{<, >, =, ≤, ≥,}$ and $\\mathsf{\\ne}$ are <span style=\"color:#f4acb7;\"> predicates</span>."
   ]
  },
  {
   "cell_type": "markdown",
   "metadata": {},
   "source": [
    "In Julia:\n",
    "\n",
    "```julia\n",
    "< > == <= >= !=\n",
    "```"
   ]
  },
  {
   "cell_type": "code",
   "execution_count": null,
   "metadata": {
    "scrolled": false,
    "slideshow": {
     "slide_type": "fragment"
    }
   },
   "outputs": [],
   "source": [
    "1 > 0"
   ]
  },
  {
   "cell_type": "code",
   "execution_count": null,
   "metadata": {
    "scrolled": false,
    "slideshow": {
     "slide_type": "fragment"
    }
   },
   "outputs": [],
   "source": [
    "2 > 3"
   ]
  },
  {
   "cell_type": "code",
   "execution_count": null,
   "metadata": {
    "scrolled": false,
    "slideshow": {
     "slide_type": "fragment"
    }
   },
   "outputs": [],
   "source": [
    "1 < 2 < 3"
   ]
  },
  {
   "cell_type": "markdown",
   "metadata": {
    "slideshow": {
     "slide_type": "subslide"
    }
   },
   "source": [
    " $\\mathsf{iszero}$ is a <span style=\"color:#f4acb7;\"> predicate</span>."
   ]
  },
  {
   "cell_type": "code",
   "execution_count": null,
   "metadata": {
    "scrolled": false,
    "slideshow": {
     "slide_type": "fragment"
    }
   },
   "outputs": [],
   "source": [
    "iszero(0)"
   ]
  },
  {
   "cell_type": "code",
   "execution_count": null,
   "metadata": {
    "scrolled": false,
    "slideshow": {
     "slide_type": "fragment"
    }
   },
   "outputs": [],
   "source": [
    "iszero(1)"
   ]
  },
  {
   "cell_type": "markdown",
   "metadata": {
    "slideshow": {
     "slide_type": "subslide"
    }
   },
   "source": [
    "##### <span style=\"color:#f4acb7\">Logical Operators</span> "
   ]
  },
  {
   "cell_type": "markdown",
   "metadata": {
    "slideshow": {
     "slide_type": "fragment"
    }
   },
   "source": [
    "Combine <span style=\"color:#f4acb7\">logical expressions</span>\n",
    "\n",
    "* conjunction `&&`\n",
    "\n",
    "* disjunction `||`\n",
    "     \n",
    "* negation `!`"
   ]
  },
  {
   "cell_type": "markdown",
   "metadata": {
    "slideshow": {
     "slide_type": "fragment"
    }
   },
   "source": [
    "`&&` evaluates arguments from left to right until one of them is *<span style=\"color:#f54326\">false</span>*, returning *<span style=\"color:#f54326\">false</span>*. \\\n",
    "Otherwise, returns *<span style=\"color:#81bb7d\">true</span>*."
   ]
  },
  {
   "cell_type": "markdown",
   "metadata": {
    "slideshow": {
     "slide_type": "fragment"
    }
   },
   "source": [
    "\n",
    "`||` evaluates arguments from left to right until one of them is *<span style=\"color:#81bb7d\">true</span>*, returning *<span style=\"color:#81bb7d\">true</span>*. \\\n",
    "Otherwise, returns *<span style=\"color:#f54326\">false</span>*."
   ]
  },
  {
   "cell_type": "markdown",
   "metadata": {
    "slideshow": {
     "slide_type": "fragment"
    }
   },
   "source": [
    "`!` evaluates to *<span style=\"color:#81bb7d\">true</span>* if the argument is *<span style=\"color:#f54326\">false</span>*, and vice-versa."
   ]
  },
  {
   "cell_type": "markdown",
   "metadata": {
    "slideshow": {
     "slide_type": "subslide"
    }
   },
   "source": [
    "**Exercises**: What is the value of the following expressions?"
   ]
  },
  {
   "cell_type": "code",
   "execution_count": null,
   "metadata": {
    "scrolled": false,
    "slideshow": {
     "slide_type": "fragment"
    }
   },
   "outputs": [],
   "source": [
    "1 < 2 || 1 == 2 || 1 > 2"
   ]
  },
  {
   "cell_type": "code",
   "execution_count": null,
   "metadata": {
    "scrolled": false,
    "slideshow": {
     "slide_type": "fragment"
    }
   },
   "outputs": [],
   "source": [
    "!(1 == 2 || 2 == 3)"
   ]
  },
  {
   "cell_type": "code",
   "execution_count": null,
   "metadata": {
    "scrolled": false,
    "slideshow": {
     "slide_type": "fragment"
    }
   },
   "outputs": [],
   "source": [
    "(2 > 3 || !(2 == 3)) && 2 < 3"
   ]
  },
  {
   "cell_type": "markdown",
   "metadata": {
    "slideshow": {
     "slide_type": "subslide"
    }
   },
   "source": [
    "### Conditional expressions in <span style=\"color:#b8a1cf;\">Julia</span>\n",
    "$$\n",
    "\\begin{cases} \n",
    "\\color{#b65aff}{β}, & \\text{if } \\color{#33ceff}{α} \\\\\n",
    "\\color{#FF00FF}{γ}, & \\text{otherwise}\n",
    "\\end{cases}\n",
    "$$"
   ]
  },
  {
   "cell_type": "markdown",
   "metadata": {
    "slideshow": {
     "slide_type": "fragment"
    }
   },
   "source": [
    "<span style=\"color:#33ceff\">α</span> ? <span style=\"color:#b65aff\">β</span> : <span style=\"color:#FF00FF\">γ</span>"
   ]
  },
  {
   "cell_type": "markdown",
   "metadata": {
    "slideshow": {
     "slide_type": "fragment"
    }
   },
   "source": [
    "if <span style=\"color:#33ceff\">α</span> <br> &nbsp;&nbsp;&nbsp;&nbsp; <span style=\"color:#b65aff\">β</span> <br> else <br> &nbsp;&nbsp;&nbsp;&nbsp; <span style=\"color:#FF00FF\">γ</span> <br> end"
   ]
  },
  {
   "cell_type": "markdown",
   "metadata": {
    "slideshow": {
     "slide_type": "skip"
    }
   },
   "source": [
    "##### <span style=\"color:#cfa1cf;\">Absolute value</span> function\n",
    "$$\n",
    "|x|= \\begin{cases} \n",
    "x & \\text{if } x \\geq 0 \\\\\n",
    "-x & \\text{otherwise} \n",
    "\\end{cases}\n",
    "$$"
   ]
  },
  {
   "cell_type": "markdown",
   "metadata": {
    "slideshow": {
     "slide_type": "skip"
    }
   },
   "source": [
    "```julia\n",
    "abs(x) = x >= 0 ? x : -x\n",
    "```"
   ]
  },
  {
   "cell_type": "markdown",
   "metadata": {
    "slideshow": {
     "slide_type": "skip"
    }
   },
   "source": [
    "```julia\n",
    "abs(x) =\n",
    "    if x >= 0\n",
    "        x\n",
    "    else\n",
    "        -x\n",
    "    end\n",
    "```"
   ]
  },
  {
   "cell_type": "markdown",
   "metadata": {
    "slideshow": {
     "slide_type": "subslide"
    }
   },
   "source": [
    "##### <span style=\"color:#cfa1cf;\">Maximum</span>  function\n",
    "$$\n",
    "max(x,y)= \\begin{cases} \n",
    "x & \\text{if } x \\geq y \\\\\n",
    "y & \\text{otherwise}\n",
    "\\end{cases}\n",
    "$$"
   ]
  },
  {
   "cell_type": "markdown",
   "metadata": {
    "slideshow": {
     "slide_type": "fragment"
    }
   },
   "source": [
    "```julia\n",
    "max(x, y) = x >= y ? x : y\n",
    "```"
   ]
  },
  {
   "cell_type": "markdown",
   "metadata": {
    "slideshow": {
     "slide_type": "fragment"
    }
   },
   "source": [
    "```julia\n",
    "max(x, y) =\n",
    "    if x >= y\n",
    "        x\n",
    "    else\n",
    "        y\n",
    "    end\n",
    "```"
   ]
  },
  {
   "cell_type": "markdown",
   "metadata": {
    "slideshow": {
     "slide_type": "subslide"
    }
   },
   "source": [
    "##### <span style=\"color:#cfa1cf;\">Sign</span> function (Option 1)\n",
    "$$\n",
    "\\text{sign}(x) = \\begin{cases} \n",
    "1 & \\text{if } x > 0 \\\\\n",
    "\\begin{cases}\n",
    "0 & \\text{if } x = 0 \\\\\n",
    "-1 & \\text{otherwise}\n",
    "\\end{cases} & \\text{otherwise}\n",
    "\\end{cases}\n",
    "$$"
   ]
  },
  {
   "cell_type": "markdown",
   "metadata": {
    "slideshow": {
     "slide_type": "fragment"
    }
   },
   "source": [
    "```julia\n",
    "sgn(x) =\n",
    "    if x > 0\n",
    "        1\n",
    "    else\n",
    "        if x == 0\n",
    "            0\n",
    "        else\n",
    "            -1\n",
    "        end\n",
    "    end\n",
    "```"
   ]
  },
  {
   "cell_type": "markdown",
   "metadata": {
    "slideshow": {
     "slide_type": "subslide"
    }
   },
   "source": [
    "##### <span style=\"color:#cfa1cf;\">Sign</span> function (Option 2)\n",
    "$$\n",
    "\\text{sign}(x) = \\begin{cases} \n",
    "1 & \\text{if } x > 0 \\\\\n",
    "0 & \\text{if } x = 0 \\\\\n",
    "-1 & \\text{otherwise} \n",
    "\\end{cases}\n",
    "$$"
   ]
  },
  {
   "cell_type": "markdown",
   "metadata": {
    "slideshow": {
     "slide_type": "fragment"
    }
   },
   "source": [
    "```julia\n",
    "sgn(x) =\n",
    "    if x > 0\n",
    "        1\n",
    "    elseif x == 0\n",
    "        0\n",
    "    else\n",
    "        -1\n",
    "    end\n",
    "```"
   ]
  },
  {
   "cell_type": "markdown",
   "metadata": {
    "slideshow": {
     "slide_type": "subslide"
    }
   },
   "source": [
    "#### <span style=\"color:#cfa1cf;\">Exercises</span> \n",
    "1. Create the predicate `is_zero_1`."
   ]
  },
  {
   "cell_type": "code",
   "execution_count": null,
   "metadata": {
    "scrolled": false
   },
   "outputs": [],
   "source": [
    "is_zero_1(x) = # TODO"
   ]
  },
  {
   "cell_type": "code",
   "execution_count": null,
   "metadata": {
    "scrolled": false,
    "slideshow": {
     "slide_type": "fragment"
    }
   },
   "outputs": [],
   "source": [
    "is_zero_1(-1)"
   ]
  },
  {
   "cell_type": "code",
   "execution_count": null,
   "metadata": {
    "scrolled": false,
    "slideshow": {
     "slide_type": "fragment"
    }
   },
   "outputs": [],
   "source": [
    "is_zero_2(0)"
   ]
  },
  {
   "cell_type": "markdown",
   "metadata": {
    "slideshow": {
     "slide_type": "subslide"
    }
   },
   "source": [
    "2. Create the predicate `is_odd`."
   ]
  },
  {
   "cell_type": "code",
   "execution_count": null,
   "metadata": {
    "scrolled": false
   },
   "outputs": [],
   "source": [
    "is_odd(x) = # TODO"
   ]
  },
  {
   "cell_type": "code",
   "execution_count": null,
   "metadata": {
    "scrolled": false,
    "slideshow": {
     "slide_type": "fragment"
    }
   },
   "outputs": [],
   "source": [
    "is_odd(4)"
   ]
  },
  {
   "cell_type": "code",
   "execution_count": null,
   "metadata": {
    "scrolled": false,
    "slideshow": {
     "slide_type": "fragment"
    }
   },
   "outputs": [],
   "source": [
    "is_odd(5)"
   ]
  },
  {
   "cell_type": "markdown",
   "metadata": {
    "slideshow": {
     "slide_type": "subslide"
    }
   },
   "source": [
    "## <span style=\"color:#b8a1cf;\">Local</span> and <span style=\"color:#b8a1cf;\">Global</span> Variables"
   ]
  },
  {
   "cell_type": "markdown",
   "metadata": {
    "slideshow": {
     "slide_type": "subslide"
    }
   },
   "source": [
    "### <span style=\"color:#cfa1cf;\">Local</span> variables"
   ]
  },
  {
   "cell_type": "markdown",
   "metadata": {
    "slideshow": {
     "slide_type": "fragment"
    }
   },
   "source": [
    "<center><img src=\"images/local_vars.svg\" width=\"480\" height=\"300\"></center>"
   ]
  },
  {
   "cell_type": "markdown",
   "metadata": {
    "slideshow": {
     "slide_type": "fragment"
    }
   },
   "source": [
    "Create a function in **Julia** that calculates the area of the triangle from the parameters <span style=\"color:#9a348e\">a</span>, <span style=\"color:#da627d\">b</span>, and <span style=\"color:#a1a1cf\">c</span>."
   ]
  },
  {
   "cell_type": "markdown",
   "metadata": {
    "slideshow": {
     "slide_type": "fragment"
    }
   },
   "source": [
    "Heron’s formula:\n",
    " $$\n",
    "   A = \\sqrt{s(s - \\color{#9a348e}{a})(s - \\color{#da627d}{b})(s - \\color{#a1a1cf}{c})}\n",
    "   \\\\\n",
    "\\text{}\n",
    "\\\\\n",
    "\\text{where}\n",
    "\\\\\n",
    "\\text{ }\n",
    "\\\\\n",
    "s = \\frac{\\color{#9a348e}{a} + \\color{#da627d}{b} + \\color{#a1a1cf}{c}}{2}\n",
    "$$"
   ]
  },
  {
   "cell_type": "markdown",
   "metadata": {
    "slideshow": {
     "slide_type": "subslide"
    }
   },
   "source": [
    "$s$ is a <span style=\"color:#cfa1b8;\">local variable</span>: visible only in the <span style=\"color:#cfa1b8;\">scope</span> of function A.\n",
    "* Defined by the `let/end` structure.\n",
    "\n",
    "* Exists only between the `let` and `end` keywords."
   ]
  },
  {
   "cell_type": "markdown",
   "metadata": {
    "slideshow": {
     "slide_type": "fragment"
    }
   },
   "source": [
    "```plaintext\n",
    "let name1 = expr1, \n",
    "    name2 = expr2, \n",
    "    ... \n",
    "  body \n",
    "end\n",
    "\n"
   ]
  },
  {
   "cell_type": "markdown",
   "metadata": {
    "slideshow": {
     "slide_type": "subslide"
    }
   },
   "source": [
    "Heron’s formula:\n",
    " $$\n",
    "   A = \\sqrt{s(s - \\color{#9a348e}{a})(s - \\color{#da627d}{b})(s - \\color{#a1a1cf}{c})}\n",
    "   \\\\\n",
    "\\text{}\n",
    "\\\\\n",
    "\\text{where}\n",
    "\\\\\n",
    "\\text{ }\n",
    "\\\\\n",
    "s = \\frac{\\color{#9a348e}{a} + \\color{#da627d}{b} + \\color{#a1a1cf}{c}}{2}\n",
    "$$"
   ]
  },
  {
   "cell_type": "markdown",
   "metadata": {
    "slideshow": {
     "slide_type": "fragment"
    }
   },
   "source": [
    "In Julia:"
   ]
  },
  {
   "cell_type": "code",
   "execution_count": null,
   "metadata": {},
   "outputs": [],
   "source": [
    "triangle_area(a, b, c) =\n",
    "    let s = (a+b+c)/2\n",
    "        sqrt(s*(s-a)*(s-b)*(s-c))\n",
    "    end\n",
    "    \n",
    "# Instead of\n",
    "# triangle_area(a, b, c) = sqrt((a+b+c)/2*((a+b+c)/2-a)*((a+b+c)/2-b)*((a+b+c)/2-c))"
   ]
  },
  {
   "cell_type": "code",
   "execution_count": null,
   "metadata": {
    "slideshow": {
     "slide_type": "fragment"
    }
   },
   "outputs": [],
   "source": [
    "triangle_area(4, 2.5, 2.85)"
   ]
  },
  {
   "cell_type": "markdown",
   "metadata": {
    "slideshow": {
     "slide_type": "subslide"
    }
   },
   "source": [
    "### <span style=\"color:#cfa1cf;\">Global</span> variables\n"
   ]
  },
  {
   "cell_type": "markdown",
   "metadata": {
    "slideshow": {
     "slide_type": "fragment"
    }
   },
   "source": [
    "* Visible in the entire program.\n",
    "\n",
    "* Should be <span style=\"color:#cfa1b8;\">constants</span> in most cases (e.g., $\\pi$ and *Golden Ratio* ϕ)"
   ]
  },
  {
   "cell_type": "markdown",
   "metadata": {
    "slideshow": {
     "slide_type": "fragment"
    }
   },
   "source": [
    "$\\pi = 3.14159$\n",
    "\n",
    "$ \\phi = \\frac{1 + \\sqrt{5}}{2} \\approx 1.6180339887 $"
   ]
  },
  {
   "cell_type": "code",
   "execution_count": null,
   "metadata": {
    "scrolled": false,
    "slideshow": {
     "slide_type": "fragment"
    }
   },
   "outputs": [],
   "source": [
    "area_circle(r) = pi*r*r"
   ]
  },
  {
   "cell_type": "code",
   "execution_count": null,
   "metadata": {
    "scrolled": false,
    "slideshow": {
     "slide_type": "fragment"
    }
   },
   "outputs": [],
   "source": [
    "area_circle(5)"
   ]
  },
  {
   "cell_type": "markdown",
   "metadata": {
    "slideshow": {
     "slide_type": "slide"
    }
   },
   "source": [
    "## <span style=\"color:#b8a1cf;\">Coordinates</span> and <span style=\"color:#b8a1cf;\">Vectors</span>"
   ]
  },
  {
   "cell_type": "markdown",
   "metadata": {
    "slideshow": {
     "slide_type": "subslide"
    }
   },
   "source": [
    "### <span style=\"color:#cfa1cf\">Coordinates</span>     \n",
    "A sequence of numbers that identifies a point in space."
   ]
  },
  {
   "cell_type": "markdown",
   "metadata": {
    "slideshow": {
     "slide_type": "fragment"
    }
   },
   "source": [
    "<center><img src=\"images/coordinates.svg\" width=\"480\" height=\"380\"></center>"
   ]
  },
  {
   "cell_type": "markdown",
   "metadata": {
    "slideshow": {
     "slide_type": "subslide"
    }
   },
   "source": [
    "### <span style=\"color:#cfa1cf;\">Coordinate Systems</span>"
   ]
  },
  {
   "cell_type": "markdown",
   "metadata": {
    "slideshow": {
     "slide_type": "fragment"
    }
   },
   "source": [
    "- Cartesian $(x, y, z)$\n",
    "- Polar $(r, \\theta)$\n",
    "- Cylindrical $(r, \\theta, z)$\n",
    "- Spherical $(r, \\theta, \\phi)$"
   ]
  },
  {
   "cell_type": "markdown",
   "metadata": {
    "slideshow": {
     "slide_type": "subslide"
    }
   },
   "source": [
    "#### <span style=\"color:#cfa1b8;\">Cartesian</span> coordinates"
   ]
  },
  {
   "cell_type": "markdown",
   "metadata": {
    "slideshow": {
     "slide_type": "fragment"
    }
   },
   "source": [
    "##### Spatial locations"
   ]
  },
  {
   "cell_type": "markdown",
   "metadata": {
    "slideshow": {
     "slide_type": "fragment"
    }
   },
   "source": [
    "<span style=\"color:#cfa1a1\">Constructors</span>: Create points in Cartesian coordinates $(x, y, z)$.\n",
    "\n",
    "3-Dimensional: `xyz`\n",
    "\n",
    "2-Dimensional: `xy`, `xz`, `yz`\n",
    "\n",
    "1-Dimensional: `x`, `y`, `z`"
   ]
  },
  {
   "cell_type": "code",
   "execution_count": null,
   "metadata": {
    "scrolled": false,
    "slideshow": {
     "slide_type": "subslide"
    }
   },
   "outputs": [],
   "source": [
    "using KhepriTikZ"
   ]
  },
  {
   "cell_type": "code",
   "execution_count": null,
   "metadata": {
    "slideshow": {
     "slide_type": "fragment"
    }
   },
   "outputs": [],
   "source": [
    "render_size(300, 200)"
   ]
  },
  {
   "cell_type": "code",
   "execution_count": null,
   "metadata": {
    "scrolled": false,
    "slideshow": {
     "slide_type": "fragment"
    }
   },
   "outputs": [],
   "source": [
    "rectangle(xy(-0.5, -0.5), 8, 7)\n",
    "render_view()"
   ]
  },
  {
   "cell_type": "code",
   "execution_count": null,
   "metadata": {
    "scrolled": false,
    "slideshow": {
     "slide_type": "subslide"
    }
   },
   "outputs": [],
   "source": [
    "circle(xy(1, 1), 1)\n",
    "render_view()"
   ]
  },
  {
   "cell_type": "code",
   "execution_count": null,
   "metadata": {
    "scrolled": false,
    "slideshow": {
     "slide_type": "fragment"
    }
   },
   "outputs": [],
   "source": [
    "circle(xy(2,2), 2)\n",
    "render_view()"
   ]
  },
  {
   "cell_type": "code",
   "execution_count": null,
   "metadata": {
    "scrolled": false,
    "slideshow": {
     "slide_type": "fragment"
    }
   },
   "outputs": [],
   "source": [
    "circle(xy(2*3, 4+1), 1)\n",
    "render_view()"
   ]
  },
  {
   "cell_type": "markdown",
   "metadata": {
    "slideshow": {
     "slide_type": "subslide"
    }
   },
   "source": [
    "<span style=\"color:#cfa1a1\">Selectors</span>: to get the $x$, $y$, and $z$ of a given location `p`.\n",
    "\n",
    "`cx(p)`, `cy(p)`, `cz(p)` OR `p.x`, `p.y`, `p.z`"
   ]
  },
  {
   "cell_type": "markdown",
   "metadata": {
    "slideshow": {
     "slide_type": "skip"
    }
   },
   "source": [
    "```julia\n",
    "p = xyz(x, y, z)\n",
    "\n",
    "cx(p) =  x\n",
    "\n",
    "cy(p) =  y\n",
    "\n",
    "cz(p) =  z\n",
    "```"
   ]
  },
  {
   "cell_type": "code",
   "execution_count": null,
   "metadata": {
    "scrolled": false,
    "slideshow": {
     "slide_type": "fragment"
    }
   },
   "outputs": [],
   "source": [
    "p = xy(1,2)"
   ]
  },
  {
   "cell_type": "code",
   "execution_count": null,
   "metadata": {
    "scrolled": false,
    "slideshow": {
     "slide_type": "fragment"
    }
   },
   "outputs": [],
   "source": [
    "cx(p)"
   ]
  },
  {
   "cell_type": "code",
   "execution_count": null,
   "metadata": {
    "scrolled": false,
    "slideshow": {
     "slide_type": "fragment"
    }
   },
   "outputs": [],
   "source": [
    "cy(p)"
   ]
  },
  {
   "cell_type": "code",
   "execution_count": null,
   "metadata": {
    "scrolled": false,
    "slideshow": {
     "slide_type": "fragment"
    }
   },
   "outputs": [],
   "source": [
    "cz(p)"
   ]
  },
  {
   "cell_type": "code",
   "execution_count": null,
   "metadata": {
    "scrolled": false,
    "slideshow": {
     "slide_type": "fragment"
    }
   },
   "outputs": [],
   "source": [
    "p.x"
   ]
  },
  {
   "cell_type": "code",
   "execution_count": null,
   "metadata": {
    "scrolled": false,
    "slideshow": {
     "slide_type": "fragment"
    }
   },
   "outputs": [],
   "source": [
    "p.y"
   ]
  },
  {
   "cell_type": "code",
   "execution_count": null,
   "metadata": {
    "scrolled": false,
    "slideshow": {
     "slide_type": "fragment"
    }
   },
   "outputs": [],
   "source": [
    "p.z"
   ]
  },
  {
   "cell_type": "markdown",
   "metadata": {
    "slideshow": {
     "slide_type": "subslide"
    }
   },
   "source": [
    "##### Vectors"
   ]
  },
  {
   "cell_type": "markdown",
   "metadata": {
    "slideshow": {
     "slide_type": "fragment"
    }
   },
   "source": [
    "<span style=\"color:#cfa1a1\">Constructors</span>: create vectors in Cartesian coordinates $(Δ_x,Δ_y,Δ_z)$.\n",
    "\n",
    "3-Dimensional: `vxyz`\n",
    "\n",
    "2-Dimensional: `vxy`, `vxz`, `vyz`\n",
    "\n",
    "1-Dimensional: `vx`, `vy`, `vz`"
   ]
  },
  {
   "cell_type": "code",
   "execution_count": null,
   "metadata": {
    "scrolled": false,
    "slideshow": {
     "slide_type": "fragment"
    }
   },
   "outputs": [],
   "source": [
    "render_size(500, 200)\n",
    "\n",
    "delete_all_shapes()\n",
    "rectangle(xy(-0.5, -1.5), 13, 6);"
   ]
  },
  {
   "cell_type": "code",
   "execution_count": null,
   "metadata": {
    "slideshow": {
     "slide_type": "subslide"
    }
   },
   "outputs": [],
   "source": [
    "p = x(1)\n",
    "\n",
    "circle(p, 1)\n",
    "render_view()"
   ]
  },
  {
   "cell_type": "code",
   "execution_count": null,
   "metadata": {
    "scrolled": false,
    "slideshow": {
     "slide_type": "fragment"
    }
   },
   "outputs": [],
   "source": [
    "circle(p + vx(10), 1)\n",
    "render_view()"
   ]
  },
  {
   "cell_type": "code",
   "execution_count": null,
   "metadata": {
    "scrolled": false,
    "slideshow": {
     "slide_type": "fragment"
    }
   },
   "outputs": [],
   "source": [
    "circle(p + vy(3), 1)\n",
    "render_view()"
   ]
  },
  {
   "cell_type": "markdown",
   "metadata": {
    "slideshow": {
     "slide_type": "subslide"
    }
   },
   "source": [
    "<span style=\"color:#cfa1b8\">Difference</span> between two positions:\n",
    "\n",
    "$P_1-P_2=\\overrightarrow{v}$"
   ]
  },
  {
   "cell_type": "code",
   "execution_count": null,
   "metadata": {
    "scrolled": false,
    "slideshow": {
     "slide_type": "fragment"
    }
   },
   "outputs": [],
   "source": [
    "x(10) - x(5)"
   ]
  },
  {
   "cell_type": "code",
   "execution_count": null,
   "metadata": {
    "scrolled": false,
    "slideshow": {
     "slide_type": "fragment"
    }
   },
   "outputs": [],
   "source": [
    "xy(10,10) - y(5)"
   ]
  },
  {
   "cell_type": "markdown",
   "metadata": {
    "slideshow": {
     "slide_type": "subslide"
    }
   },
   "source": [
    "<span style=\"color:#cfa1b8\">Sum/difference</span> between two vectors:\n",
    "\n",
    "$\\overrightarrow{v}_1 - \\overrightarrow{v}_2 = \\overrightarrow{v}_3$\n",
    "\n",
    "$\\overrightarrow{v}_1 + \\overrightarrow{v}_2 = \\overrightarrow{v}_3$"
   ]
  },
  {
   "cell_type": "code",
   "execution_count": null,
   "metadata": {
    "scrolled": false,
    "slideshow": {
     "slide_type": "fragment"
    }
   },
   "outputs": [],
   "source": [
    "vx(1) + vx(1)"
   ]
  },
  {
   "cell_type": "code",
   "execution_count": null,
   "metadata": {
    "scrolled": false,
    "slideshow": {
     "slide_type": "fragment"
    }
   },
   "outputs": [],
   "source": [
    "vx(1) - vx(1)"
   ]
  },
  {
   "cell_type": "markdown",
   "metadata": {
    "slideshow": {
     "slide_type": "subslide"
    }
   },
   "source": [
    "<span style=\"color:#cfa1a1\">Selectors</span>: get the $x$, $y$, and $z$ of a given vector.\n",
    "\n",
    "`cx`, `cy`, `cz` OR `.x`, `.y`, `.z`"
   ]
  },
  {
   "cell_type": "code",
   "execution_count": null,
   "metadata": {
    "scrolled": false,
    "slideshow": {
     "slide_type": "fragment"
    }
   },
   "outputs": [],
   "source": [
    "vxyz(1,12,3).y"
   ]
  },
  {
   "cell_type": "code",
   "execution_count": null,
   "metadata": {
    "scrolled": false,
    "slideshow": {
     "slide_type": "fragment"
    }
   },
   "outputs": [],
   "source": [
    "vxy(2,3).x"
   ]
  },
  {
   "cell_type": "markdown",
   "metadata": {
    "slideshow": {
     "slide_type": "subslide"
    }
   },
   "source": [
    "##### <span style=\"color:#cfa1cf\">Example 1</span>: Distance between two points (P and Q)"
   ]
  },
  {
   "cell_type": "markdown",
   "metadata": {
    "slideshow": {
     "slide_type": "fragment"
    }
   },
   "source": [
    "$$\n",
    "d = \\sqrt{(q_x - p_x)^2 + (q_y - p_y)^2 + (q_z - p_z)^2} \\\\\n",
    "\\text{ } \\\\\n",
    "\\text{where} \\\\\n",
    "\\text{ } \\\\\n",
    "(p_x, p_y, p_z) \\rightarrow \n",
    " \\text{ coordinates of point P} \\\\\n",
    "(q_x, q_y, q_z) \\rightarrow\n",
    "\\text{ coordinates of point Q}\n",
    "$$"
   ]
  },
  {
   "cell_type": "markdown",
   "metadata": {
    "slideshow": {
     "slide_type": "subslide"
    }
   },
   "source": [
    "*We need...*"
   ]
  },
  {
   "cell_type": "markdown",
   "metadata": {
    "slideshow": {
     "slide_type": "fragment"
    }
   },
   "source": [
    "> <span style=\"color:#cfa1a1\">Constructors</span>: To create the points $P$ and $Q$."
   ]
  },
  {
   "cell_type": "markdown",
   "metadata": {
    "slideshow": {
     "slide_type": "fragment"
    }
   },
   "source": [
    "```julia\n",
    "P = xyz(px, py, pz)\n",
    "Q = xyz(qx, qy, qz)\n",
    "```"
   ]
  },
  {
   "cell_type": "markdown",
   "metadata": {
    "slideshow": {
     "slide_type": "fragment"
    }
   },
   "source": [
    "> <span style=\"color:#cfa1a1\">Selectors</span>: to get the $x$, $y$, and $z$ of the given points $P$ and $Q$."
   ]
  },
  {
   "cell_type": "markdown",
   "metadata": {
    "slideshow": {
     "slide_type": "skip"
    }
   },
   "source": [
    "\n",
    "$\\mathsf{dist(p, q)} = \\mathsf{sqrt((}q_x?-p_x?)^2+(q_y?-p_y?)^2+(q_z?-p_z?)^2)$"
   ]
  },
  {
   "cell_type": "markdown",
   "metadata": {
    "slideshow": {
     "slide_type": "subslide"
    }
   },
   "source": [
    "$$d = \\sqrt{(q_x - p_x)^2 + (q_y - p_y)^2 + (q_z - p_z)^2}$$"
   ]
  },
  {
   "cell_type": "markdown",
   "metadata": {
    "slideshow": {
     "slide_type": "fragment"
    }
   },
   "source": [
    "Option 1"
   ]
  },
  {
   "cell_type": "code",
   "execution_count": null,
   "metadata": {
    "slideshow": {
     "slide_type": "fragment"
    }
   },
   "outputs": [],
   "source": [
    "dist(p, q) = \n",
    "    sqrt((cx(q)-cx(p))^2 + \n",
    "         (cy(q)-cy(p))^2 + \n",
    "         (cz(q)-cz(p))^2);"
   ]
  },
  {
   "cell_type": "code",
   "execution_count": null,
   "metadata": {
    "slideshow": {
     "slide_type": "fragment"
    }
   },
   "outputs": [],
   "source": [
    "p = xyz(2, 1, 3)\n",
    "q = xyz(5, 6, 4);"
   ]
  },
  {
   "cell_type": "code",
   "execution_count": null,
   "metadata": {
    "slideshow": {
     "slide_type": "fragment"
    }
   },
   "outputs": [],
   "source": [
    "dist(p, q)"
   ]
  },
  {
   "cell_type": "markdown",
   "metadata": {
    "slideshow": {
     "slide_type": "fragment"
    }
   },
   "source": [
    "Option 2"
   ]
  },
  {
   "cell_type": "code",
   "execution_count": null,
   "metadata": {
    "slideshow": {
     "slide_type": "fragment"
    }
   },
   "outputs": [],
   "source": [
    "dist(p, q) = \n",
    "    sqrt((q.x-p.x)^2 +\n",
    "         (q.y-p.y)^2 +\n",
    "         (q.z-p.z)^2)"
   ]
  },
  {
   "cell_type": "code",
   "execution_count": null,
   "metadata": {
    "slideshow": {
     "slide_type": "fragment"
    }
   },
   "outputs": [],
   "source": [
    "p = xyz(1, 5, 8)\n",
    "dist(p, q)"
   ]
  },
  {
   "cell_type": "markdown",
   "metadata": {
    "slideshow": {
     "slide_type": "subslide"
    }
   },
   "source": [
    "##### <span style=\"color:#cfa1cf\">Example 2</span>: Intermediate position between two points"
   ]
  },
  {
   "cell_type": "markdown",
   "metadata": {
    "slideshow": {
     "slide_type": "fragment"
    }
   },
   "source": [
    "<center><img src=\"images/midpoint.png\" width=\"480\" height=\"300\"></center>"
   ]
  },
  {
   "cell_type": "markdown",
   "metadata": {
    "slideshow": {
     "slide_type": "fragment"
    }
   },
   "source": [
    "$$\n",
    "\\text{midpoint}(p,q)=\\left( \\frac{p_x + q_x}{2}, \\frac{p_y + q_y}{2}, \\frac{p_z + q_z}{2} \\right) \\\\\n",
    "\\text{ } \\\\\n",
    "\\text{where} \\\\\n",
    "\\text{ } \\\\\n",
    "P \\rightarrow (p_x,p_y,p_z) \\\\\n",
    "Q \\rightarrow (q_x,q_y,q_z) \\\\\n",
    "$$"
   ]
  },
  {
   "cell_type": "markdown",
   "metadata": {
    "slideshow": {
     "slide_type": "subslide"
    }
   },
   "source": [
    "*We need...*"
   ]
  },
  {
   "cell_type": "markdown",
   "metadata": {
    "slideshow": {
     "slide_type": "fragment"
    }
   },
   "source": [
    "> <span style=\"color:#cfa1a1\">Constructors</span>: To create the intermediate point between $P$ and $Q$.\n",
    "\n",
    "```plaintext\n",
    "    XYZ(?,?,?)\n",
    "```"
   ]
  },
  {
   "cell_type": "markdown",
   "metadata": {
    "slideshow": {
     "slide_type": "fragment"
    }
   },
   "source": [
    "> <span style=\"color:#cfa1a1\">Selectors</span>: to calculate the values for each dimension `x`, `y`, `z`.\n"
   ]
  },
  {
   "cell_type": "markdown",
   "metadata": {
    "slideshow": {
     "slide_type": "fragment"
    }
   },
   "source": [
    "```julia\n",
    "    X = (p.x + q.x)/2\n",
    "\n",
    "    Y = (p.y + q.y)/2\n",
    "    \n",
    "    Z = (p.z + q.z)/2\n",
    "    \n",
    "```"
   ]
  },
  {
   "cell_type": "markdown",
   "metadata": {
    "slideshow": {
     "slide_type": "subslide"
    }
   },
   "source": [
    "$$\\text{midpoint}(p,q)=\\left( \\frac{p_x + q_x}{2}, \\frac{p_y + q_y}{2}, \\frac{p_z + q_z}{2} \\right)$$"
   ]
  },
  {
   "cell_type": "markdown",
   "metadata": {
    "slideshow": {
     "slide_type": "fragment"
    }
   },
   "source": [
    "In <span style=\"color:#a1a1cf\">Julia</span>:"
   ]
  },
  {
   "cell_type": "code",
   "execution_count": null,
   "metadata": {
    "scrolled": false,
    "slideshow": {
     "slide_type": "fragment"
    }
   },
   "outputs": [],
   "source": [
    "midpoint(p,q) =\n",
    "    xyz((p.x + q.x)/2, \n",
    "        (p.y + q.y)/2, \n",
    "        (p.z + q.z)/2)"
   ]
  },
  {
   "cell_type": "code",
   "execution_count": null,
   "metadata": {
    "slideshow": {
     "slide_type": "subslide"
    }
   },
   "outputs": [],
   "source": [
    "render_size(300, 150)\n",
    "delete_all_shapes()\n",
    "rectangle(xy(1, 1), 8, 4);"
   ]
  },
  {
   "cell_type": "code",
   "execution_count": null,
   "metadata": {
    "scrolled": false,
    "slideshow": {
     "slide_type": "fragment"
    }
   },
   "outputs": [],
   "source": [
    "p1 = xy(2,2)\n",
    "circle(p1, 0.1)\n",
    "render_view()"
   ]
  },
  {
   "cell_type": "code",
   "execution_count": null,
   "metadata": {
    "slideshow": {
     "slide_type": "fragment"
    }
   },
   "outputs": [],
   "source": [
    "p2 = xy(8,4)\n",
    "circle(p2, 0.1)\n",
    "render_view()"
   ]
  },
  {
   "cell_type": "code",
   "execution_count": null,
   "metadata": {
    "slideshow": {
     "slide_type": "fragment"
    }
   },
   "outputs": [],
   "source": [
    "mid = midpoint(p1, p2)\n",
    "circle(mid, 0.2)\n",
    "render_view() "
   ]
  },
  {
   "cell_type": "code",
   "execution_count": null,
   "metadata": {
    "slideshow": {
     "slide_type": "skip"
    }
   },
   "outputs": [],
   "source": [
    "delete_all_shapes()\n",
    "rectangle(xy(1, -1), 10, 6);"
   ]
  },
  {
   "cell_type": "code",
   "execution_count": null,
   "metadata": {
    "scrolled": false,
    "slideshow": {
     "slide_type": "skip"
    }
   },
   "outputs": [],
   "source": [
    "p1 = xy(10, 4)\n",
    "circle(p1, 0.2)\n",
    "render_view()"
   ]
  },
  {
   "cell_type": "code",
   "execution_count": null,
   "metadata": {
    "slideshow": {
     "slide_type": "skip"
    }
   },
   "outputs": [],
   "source": [
    "p2 = xy(2,0)\n",
    "circle(xy(2,0), 0.2)\n",
    "render_view()"
   ]
  },
  {
   "cell_type": "code",
   "execution_count": null,
   "metadata": {
    "slideshow": {
     "slide_type": "skip"
    }
   },
   "outputs": [],
   "source": [
    "mid = midpoint(p1, p2)\n",
    "circle(mid, 0.3)\n",
    "render_view()"
   ]
  },
  {
   "cell_type": "markdown",
   "metadata": {
    "slideshow": {
     "slide_type": "subslide"
    }
   },
   "source": [
    "##### <span style=\"color:#cfa1cf\">Exercises</span>"
   ]
  },
  {
   "cell_type": "markdown",
   "metadata": {
    "slideshow": {
     "slide_type": "fragment"
    }
   },
   "source": [
    "<span style=\"color:#cfa1b8\">**1.**</span> Define a function that calculates the **minimum number of stair risers** needed for a flight of stairs to connect $P_0$ to $P_1$.\n",
    "\n",
    "Consider the **maximum rise height** allowed for each step as $0.18 m$.\n",
    "\n",
    "<center><img src=\"images/Exercise1_coords.svg\" width=\"480\" height=\"300\"></center>\n"
   ]
  },
  {
   "cell_type": "code",
   "execution_count": null,
   "metadata": {
    "scrolled": false
   },
   "outputs": [],
   "source": [
    "min_number_stairs(p0, p1) =\n",
    "    let h = p1.y - p0.y # OR h = cy(p1) - cy(p0)\n",
    "        ceil(h/0.18)\n",
    "    end"
   ]
  },
  {
   "cell_type": "code",
   "execution_count": null,
   "metadata": {},
   "outputs": [],
   "source": [
    "min_number_stairs(x(0), xy(10, 10)) # 56"
   ]
  },
  {
   "cell_type": "markdown",
   "metadata": {
    "slideshow": {
     "slide_type": "skip"
    }
   },
   "source": [
    "<span style=\"color:#cfa1b8\">**2.**</span> Define a function that calculates the **area** between three points ($P_1$, $P_2$, $P_3$). \n",
    "\n",
    "\n",
    "$$\n",
    "\\text{Area} = \\frac{1}{2} \\left| P_1x(P_2y - P_3y) + P_2x(P_3y - P_1y) + P3_x(P_1y - P_2y) \\right|\n",
    "$$"
   ]
  },
  {
   "cell_type": "code",
   "execution_count": null,
   "metadata": {
    "scrolled": false,
    "slideshow": {
     "slide_type": "skip"
    }
   },
   "outputs": [],
   "source": [
    "area_three_points(p1, p2, p3) = \n",
    "    1/2 * abs(p1.x*(p2.y - p3.y) + p2.x*(p3.y - p1.y) + p3.x*(p1.y - p2.y))"
   ]
  },
  {
   "cell_type": "code",
   "execution_count": null,
   "metadata": {
    "slideshow": {
     "slide_type": "skip"
    }
   },
   "outputs": [],
   "source": [
    "area_three_points(xy(0, 0), xy(1, 1), xy(0, 2))"
   ]
  },
  {
   "cell_type": "markdown",
   "metadata": {
    "slideshow": {
     "slide_type": "subslide"
    }
   },
   "source": [
    "#### <span style=\"color:#cfa1b8;\">Polar</span> coordinates"
   ]
  },
  {
   "cell_type": "markdown",
   "metadata": {
    "slideshow": {
     "slide_type": "fragment"
    }
   },
   "source": [
    "Useful to place $N$ elements equally spaced and with the distance <span style=\"color:#cfa1a1\">*d*</span> from the origin point ($O$):\n",
    "\n",
    "<center><img src=\"images/polar_coords.jpg\" width=\"530\" height=\"340\"></center>\n"
   ]
  },
  {
   "cell_type": "markdown",
   "metadata": {
    "slideshow": {
     "slide_type": "skip"
    }
   },
   "source": [
    "Taking the $X$ axis as a reference:"
   ]
  },
  {
   "cell_type": "markdown",
   "metadata": {
    "slideshow": {
     "slide_type": "skip"
    }
   },
   "source": [
    "- The first element ($P_1$) will be positioned at distance <span style=\"color:#cfa1a1\">*d*</span> from the origin point ($O$).\n"
   ]
  },
  {
   "cell_type": "markdown",
   "metadata": {
    "slideshow": {
     "slide_type": "skip"
    }
   },
   "source": [
    "- The second element ($P_2$) will be positioned at the same distance (<span style=\"color:#cfa1a1\">*d*</span>) but on a axis making a <span style=\"color:#9d8189\">2π/n</span> angle with $X$.\n"
   ]
  },
  {
   "cell_type": "markdown",
   "metadata": {
    "slideshow": {
     "slide_type": "skip"
    }
   },
   "source": [
    "- The third element ($P_3$) will also have the same distance (<span style=\"color:#cfa1a1\">*d*</span>) but will be positioned on a <span style=\"color:#9d8189\">4π/n</span> angle axis.\n"
   ]
  },
  {
   "cell_type": "markdown",
   "metadata": {
    "slideshow": {
     "slide_type": "skip"
    }
   },
   "source": [
    "- And so on."
   ]
  },
  {
   "cell_type": "markdown",
   "metadata": {
    "slideshow": {
     "slide_type": "fragment"
    }
   },
   "source": [
    "> <span style=\"color:#cfa1a1\">Constructor</span>: `pol` (abbreviation of <span style=\"color:#9d8189\">**Pol**</span>ar)\n",
    "\n",
    "\n",
    "> <span style=\"color:#cfa1a1\">Selectors</span>: to get the $\\rho$ and $\\phi$ values: `pol_rho` and `pol_phi`."
   ]
  },
  {
   "cell_type": "code",
   "execution_count": null,
   "metadata": {
    "scrolled": false,
    "slideshow": {
     "slide_type": "subslide"
    }
   },
   "outputs": [],
   "source": [
    "render_size(200, 200)\n",
    "delete_all_shapes()\n",
    "rectangle(xy(-1.5, -1.5), pol(4, pi/4));"
   ]
  },
  {
   "cell_type": "code",
   "execution_count": null,
   "metadata": {
    "scrolled": false,
    "slideshow": {
     "slide_type": "fragment"
    }
   },
   "outputs": [],
   "source": [
    "circle(pol(1, 0), 1)\n",
    "render_view()"
   ]
  },
  {
   "cell_type": "code",
   "execution_count": null,
   "metadata": {
    "scrolled": false,
    "slideshow": {
     "slide_type": "fragment"
    }
   },
   "outputs": [],
   "source": [
    "circle(pol(sqrt(2), pi/4), 1)\n",
    "render_view()"
   ]
  },
  {
   "cell_type": "code",
   "execution_count": null,
   "metadata": {
    "scrolled": false,
    "slideshow": {
     "slide_type": "fragment"
    }
   },
   "outputs": [],
   "source": [
    "circle(pol(1, pi/2),1)\n",
    "render_view()"
   ]
  },
  {
   "cell_type": "markdown",
   "metadata": {
    "slideshow": {
     "slide_type": "subslide"
    }
   },
   "source": [
    "> <span style=\"color:#cfa1a1\">Vectors</span>: `vpol`\n",
    "\n",
    "\n",
    "<center><img src=\"images/polar_coords_scheme2.svg\" width=\"380\" height=\"240\"></center>"
   ]
  },
  {
   "cell_type": "code",
   "execution_count": null,
   "metadata": {
    "scrolled": false,
    "slideshow": {
     "slide_type": "subslide"
    }
   },
   "outputs": [],
   "source": [
    "render_size(200, 200)\n",
    "delete_all_shapes()\n",
    "rectangle(xy(-0.5, 0.5), 4, 4);"
   ]
  },
  {
   "cell_type": "code",
   "execution_count": null,
   "metadata": {
    "scrolled": false,
    "slideshow": {
     "slide_type": "fragment"
    }
   },
   "outputs": [],
   "source": [
    "p = xy(1, 2)\n",
    "circle(p + vpol(sqrt(2), pi/4), 1)\n",
    "render_view()"
   ]
  },
  {
   "cell_type": "code",
   "execution_count": null,
   "metadata": {
    "scrolled": false,
    "slideshow": {
     "slide_type": "fragment"
    }
   },
   "outputs": [],
   "source": [
    "circle(p + vpol(1, 0), 1)\n",
    "render_view()"
   ]
  },
  {
   "cell_type": "code",
   "execution_count": null,
   "metadata": {
    "scrolled": false,
    "slideshow": {
     "slide_type": "fragment"
    }
   },
   "outputs": [],
   "source": [
    "circle(p + vpol(1, pi/2), 1)\n",
    "render_view()"
   ]
  },
  {
   "cell_type": "markdown",
   "metadata": {
    "slideshow": {
     "slide_type": "slide"
    }
   },
   "source": [
    "## Two-Dimensional <span style=\"color:#b8a1cf;\">Geometric Primitives</span> "
   ]
  },
  {
   "cell_type": "markdown",
   "metadata": {
    "slideshow": {
     "slide_type": "subslide"
    }
   },
   "source": [
    "### <span style=\"color:#cfa1cf;\">Predefined</span> functions"
   ]
  },
  {
   "cell_type": "markdown",
   "metadata": {
    "slideshow": {
     "slide_type": "fragment"
    }
   },
   "source": [
    "<span style=\"color:#cfa1b8\">Circle</span>: `circle(P,r)` \n"
   ]
  },
  {
   "cell_type": "markdown",
   "metadata": {
    "slideshow": {
     "slide_type": "fragment"
    }
   },
   "source": [
    "Creates a circle centered in $P$ and with radius $r$:\n",
    "\n",
    "<center><img src=\"images/circulo.png\" width=\"250\" height=\"250\"></center>"
   ]
  },
  {
   "cell_type": "code",
   "execution_count": null,
   "metadata": {
    "slideshow": {
     "slide_type": "subslide"
    }
   },
   "outputs": [],
   "source": [
    "delete_all_shapes()\n",
    "render_size(600, 600)\n",
    "\n",
    "circle(pol(0, 0), 4)\n",
    "circle(pol(4, pi/4), 2)\n",
    "circle(pol(6, pi/4), 1)\n",
    "\n",
    "render_view()"
   ]
  },
  {
   "cell_type": "markdown",
   "metadata": {
    "slideshow": {
     "slide_type": "subslide"
    }
   },
   "source": [
    "<span style=\"color:#cfa1b8\">Line</span>: `line(Ps)`\n"
   ]
  },
  {
   "cell_type": "markdown",
   "metadata": {
    "slideshow": {
     "slide_type": "fragment"
    }
   },
   "source": [
    "Creates a line passing through the set of $n$ points ($P_s$): \\\n",
    "$P_s=\\{ p_1, p_2, p_3, \\ldots, p_n \\}$"
   ]
  },
  {
   "cell_type": "markdown",
   "metadata": {
    "slideshow": {
     "slide_type": "fragment"
    }
   },
   "source": [
    "<center><img src=\"images/line.png\" width=\"325\" height=\"125\"></center>\n",
    "\n",
    "```julia\n",
    "line(xy(0, 0), xy(2, 0), xy(4, 1))\n",
    "\n",
    "```"
   ]
  },
  {
   "cell_type": "code",
   "execution_count": null,
   "metadata": {
    "slideshow": {
     "slide_type": "fragment"
    }
   },
   "outputs": [],
   "source": [
    "render_size(600, 200)\n",
    "delete_all_shapes()\n",
    "\n",
    "line(xy(0, 0), xy(2, 0), xy(4, 1))\n",
    "render_view()"
   ]
  },
  {
   "cell_type": "markdown",
   "metadata": {
    "slideshow": {
     "slide_type": "subslide"
    }
   },
   "source": [
    "<span style=\"color:#cfa1b8\">Polygon</span>: `polygon(Ps)` "
   ]
  },
  {
   "cell_type": "markdown",
   "metadata": {
    "slideshow": {
     "slide_type": "fragment"
    }
   },
   "source": [
    "Creates a closed-line passing through the set of $n$ points ($P_s$): \\\n",
    "$P_s=\\{ p_1, p_2, p_3, \\ldots, p_n \\}$"
   ]
  },
  {
   "cell_type": "markdown",
   "metadata": {
    "slideshow": {
     "slide_type": "fragment"
    }
   },
   "source": [
    "<center><img src=\"images/poligono.png\" width=\"350\" height=\"350\"></center>\n"
   ]
  },
  {
   "cell_type": "code",
   "execution_count": null,
   "metadata": {
    "slideshow": {
     "slide_type": "subslide"
    }
   },
   "outputs": [],
   "source": [
    "delete_all_shapes()\n",
    "render_size(400, 400)\n",
    "\n",
    "polygon(pol(1, 0),\n",
    "        pol(1, 2pi/5),\n",
    "        pol(1, 2pi*2/5),\n",
    "        pol(1, 2pi*3/5),\n",
    "        pol(1, 2pi*4/5))\n",
    "\n",
    "render_view()"
   ]
  },
  {
   "cell_type": "markdown",
   "metadata": {
    "slideshow": {
     "slide_type": "subslide"
    }
   },
   "source": [
    "<span style=\"color:#cfa1b8\">Regular polygon</span>: `regular_polygon(n,P,r,𝛼)`\n"
   ]
  },
  {
   "cell_type": "markdown",
   "metadata": {
    "slideshow": {
     "slide_type": "fragment"
    }
   },
   "source": [
    "Creates a regular polygon centered at point $P$ with $n$ sides, radius $r$, and rotation angle $\\alpha$:\n",
    "\n",
    "<center><img src=\"images/poligono_regular.png\" width=\"400\" height=\"400\"></center>"
   ]
  },
  {
   "cell_type": "code",
   "execution_count": null,
   "metadata": {
    "scrolled": false,
    "slideshow": {
     "slide_type": "subslide"
    }
   },
   "outputs": [],
   "source": [
    "delete_all_shapes()\n",
    "render_size(900, 300)\n",
    "\n",
    "regular_polygon(3, xy(0, 0), 1, 0, true)\n",
    "regular_polygon(3, xy(0, 0), 1, pi/3, true)\n",
    "\n",
    "regular_polygon(4, xy(3, 0), 1, 0, true)\n",
    "regular_polygon(4, xy(3, 0), 1, pi/4, true)\n",
    "\n",
    "regular_polygon(5, xy(6, 0), 1, 0, true)\n",
    "regular_polygon(5, xy(6, 0), 1, pi/5, true)\n",
    "\n",
    "render_view()"
   ]
  },
  {
   "cell_type": "markdown",
   "metadata": {
    "slideshow": {
     "slide_type": "subslide"
    }
   },
   "source": [
    "<span style=\"color:#cfa1b8\">Rectangle</span>: `rectangle(P,Q)` or `rectangle(P,l,w)`"
   ]
  },
  {
   "cell_type": "markdown",
   "metadata": {
    "slideshow": {
     "slide_type": "fragment"
    }
   },
   "source": [
    "Creates a rectangle with the bottom left corner at $P$ and:\n"
   ]
  },
  {
   "cell_type": "markdown",
   "metadata": {
    "slideshow": {
     "slide_type": "fragment"
    }
   },
   "source": [
    "* top right corner at $Q$\n",
    "\n",
    "<center><img src=\"images/rectangle.png\" width=\"300\" height=\"200\"></center>\n"
   ]
  },
  {
   "cell_type": "code",
   "execution_count": null,
   "metadata": {
    "slideshow": {
     "slide_type": "fragment"
    }
   },
   "outputs": [],
   "source": [
    "delete_all_shapes()\n",
    "render_size(900, 250)\n",
    "\n",
    "rectangle(xy(0, 0), xy(4, 2))\n",
    "render_view()"
   ]
  },
  {
   "cell_type": "markdown",
   "metadata": {
    "slideshow": {
     "slide_type": "subslide"
    }
   },
   "source": [
    "*  or length $l$ and width $w$.\n",
    "\n",
    "<center><img src=\"images/rectangle2.png\" width=\"300\" height=\"200\"></center>\n"
   ]
  },
  {
   "cell_type": "code",
   "execution_count": null,
   "metadata": {
    "slideshow": {
     "slide_type": "fragment"
    }
   },
   "outputs": [],
   "source": [
    "delete_all_shapes()\n",
    "\n",
    "rectangle(xy(0, 0), 4, 2)\n",
    "render_view()"
   ]
  },
  {
   "cell_type": "code",
   "execution_count": null,
   "metadata": {
    "scrolled": false,
    "slideshow": {
     "slide_type": "subslide"
    }
   },
   "outputs": [],
   "source": [
    "delete_all_shapes()\n",
    "render_size(900, 500)\n",
    "\n",
    "rectangle(xy(0, 1), xy(3, 2))\n",
    "rectangle(xy(3, 2), 1, 2)\n",
    "\n",
    "render_view()"
   ]
  },
  {
   "cell_type": "markdown",
   "metadata": {
    "slideshow": {
     "slide_type": "subslide"
    }
   },
   "source": [
    "### <span style=\"color:#cfa1cf;\">Exercises</span>"
   ]
  },
  {
   "cell_type": "markdown",
   "metadata": {
    "slideshow": {
     "slide_type": "fragment"
    }
   },
   "source": [
    "<span style=\"color:#cfa1b8\">**1.**</span> Place two <span style=\"color:#cfa1a1\">circles</span> with unit radius around the origin so that the circles are tangent to each other:\n",
    "\n",
    "<center><img src=\"images/2circles.svg\" width=\"200\" height=\"200\"></center>"
   ]
  },
  {
   "cell_type": "code",
   "execution_count": null,
   "metadata": {
    "scrolled": false
   },
   "outputs": [],
   "source": [
    "delete_all_shapes()\n",
    "render_size(300, 300);"
   ]
  },
  {
   "cell_type": "code",
   "execution_count": null,
   "metadata": {
    "scrolled": false,
    "slideshow": {
     "slide_type": "-"
    }
   },
   "outputs": [],
   "source": [
    "p = x(0)\n",
    "circle(p-vx(1), 1)\n",
    "circle(p+vx(1), 1)\n",
    "render_view()"
   ]
  },
  {
   "cell_type": "markdown",
   "metadata": {
    "slideshow": {
     "slide_type": "skip"
    }
   },
   "source": [
    "<span style=\"color:#cfa1b8\">**2.**</span> Place four <span style=\"color:#cfa1a1\">circles</span> with unit radius around the origin so that the circles are tangent to each other:\n",
    "\n",
    "<center><img src=\"images/4circles.svg\" width=\"200\" height=\"200\"></center>"
   ]
  },
  {
   "cell_type": "code",
   "execution_count": null,
   "metadata": {
    "scrolled": false,
    "slideshow": {
     "slide_type": "skip"
    }
   },
   "outputs": [],
   "source": [
    "delete_all_shapes()"
   ]
  },
  {
   "cell_type": "code",
   "execution_count": null,
   "metadata": {
    "scrolled": false,
    "slideshow": {
     "slide_type": "skip"
    }
   },
   "outputs": [],
   "source": [
    "p=xy(10, 10)\n",
    "circle(p + vxy(1, 1), 1)\n",
    "circle(p + vxy(-1, 1), 1)\n",
    "circle(p + vxy(-1, -1), 1)\n",
    "circle(p + vxy(1, -1), 1)\n",
    "render_view()"
   ]
  },
  {
   "cell_type": "markdown",
   "metadata": {
    "slideshow": {
     "slide_type": "slide"
    }
   },
   "source": [
    "## <span style=\"color:#b8a1cf\">Compound</span> expressions"
   ]
  },
  {
   "cell_type": "markdown",
   "metadata": {
    "slideshow": {
     "slide_type": "subslide"
    }
   },
   "source": [
    "Julia provides a way of using geometric functions sequentially, i.e., one after the other $\\rightarrow$ `begin/end` structure:"
   ]
  },
  {
   "cell_type": "markdown",
   "metadata": {
    "slideshow": {
     "slide_type": "fragment"
    }
   },
   "source": [
    "**Example**\n",
    "\n",
    "<center><img src=\"images/sequenting1.svg\" width=\"250\" height=\"250\"></center>\n",
    "\n",
    "\n",
    "A function that draws a <span style=\"color:#cfa1b8\">circle</span> of radius $r$, centered on the position $P$, with an inscribed <span style=\"color:#cfa1b8\">square</span>:"
   ]
  },
  {
   "cell_type": "code",
   "execution_count": null,
   "metadata": {},
   "outputs": [],
   "source": [
    "circle_square_inscribed(p, r) =\n",
    "    begin\n",
    "        circle(p, r)\n",
    "        rectangle(p + vpol(r, 5/4*π), p + vpol(r, 1/4*π))\n",
    "    end"
   ]
  },
  {
   "cell_type": "markdown",
   "metadata": {
    "slideshow": {
     "slide_type": "subslide"
    }
   },
   "source": [
    "Imagine we want the function to create either inscribed or circumscribed squares based on a condition `is_inscribed`:\n",
    "\n",
    "<center><img src=\"images/sequenting.svg\" width=\"500\" height=\"250\"></center>"
   ]
  },
  {
   "cell_type": "markdown",
   "metadata": {
    "slideshow": {
     "slide_type": "fragment"
    }
   },
   "source": [
    "We can use te conditional (`if/else`) structure:"
   ]
  },
  {
   "cell_type": "code",
   "execution_count": null,
   "metadata": {
    "slideshow": {
     "slide_type": "fragment"
    }
   },
   "outputs": [],
   "source": [
    "circle_square(p, r, is_inscribed) =\n",
    "  if is_inscribed\n",
    "    circle(p, r)\n",
    "    rectangle(p + vpol(r, 5/4*π), p + vpol(r, 1/4*π))\n",
    "  else\n",
    "    circle(p, r)\n",
    "    rectangle(p - vxy(r, r), p + vxy(r, r))\n",
    "  end"
   ]
  },
  {
   "cell_type": "markdown",
   "metadata": {
    "slideshow": {
     "slide_type": "fragment"
    }
   },
   "source": [
    "This structure has implicit `begin/end` on each clause."
   ]
  },
  {
   "cell_type": "code",
   "execution_count": null,
   "metadata": {
    "slideshow": {
     "slide_type": "subslide"
    }
   },
   "outputs": [],
   "source": [
    "delete_all_shapes()\n",
    "render_size(1000, 500)\n",
    "\n",
    "circle_square(xy(1,1), 3, true) \n",
    "circle_square(xy(9,1), 3, false) \n",
    "render_view()"
   ]
  },
  {
   "cell_type": "markdown",
   "metadata": {
    "slideshow": {
     "slide_type": "subslide"
    }
   },
   "source": [
    "The <span style=\"color:#cfa1b8\">circle</span> is always created whether `is_inscribed` is <span style=\"color:#81bb7d\">true</span> or <span style=\"color:#f54326\">false</span>."
   ]
  },
  {
   "cell_type": "code",
   "execution_count": null,
   "metadata": {
    "slideshow": {
     "slide_type": "fragment"
    }
   },
   "outputs": [],
   "source": [
    "circle_square(p, r, is_inscribed) =\n",
    "  begin\n",
    "    circle(p, r)\n",
    "    if is_inscribed\n",
    "      rectangle(p + vpol(r, 5/4*π), p + vpol(r, 1/4*π))\n",
    "    else\n",
    "      rectangle(p - vxy(r, r), p + vxy(r, r))\n",
    "    end\n",
    "  end"
   ]
  },
  {
   "cell_type": "code",
   "execution_count": null,
   "metadata": {
    "slideshow": {
     "slide_type": "fragment"
    }
   },
   "outputs": [],
   "source": [
    "delete_all_shapes()\n",
    "circle_square(xy(1,1), 3, true) \n",
    "circle_square(xy(9,1), 3, false) \n",
    "render_view()"
   ]
  },
  {
   "cell_type": "markdown",
   "metadata": {
    "slideshow": {
     "slide_type": "subslide"
    }
   },
   "source": [
    "### <span style=\"color:#cfa1cf;\">Recap</span>\n",
    "Julia provides two <span style=\"color:#cfa1b8\">equivalent syntaxes</span> for:\n",
    "- Function definitions\n",
    "- Conditional expressions\n",
    "- Compound expressions"
   ]
  },
  {
   "cell_type": "markdown",
   "metadata": {
    "slideshow": {
     "slide_type": "fragment"
    }
   },
   "source": [
    "<table>\n",
    "  <tr>\n",
    "    <th>Function definitions</th>\n",
    "    <th>Conditional expressions</th>\n",
    "    <th>Compound expressions</th>\n",
    "  </tr>\n",
    "  <tr>\n",
    "    <td><pre>name(param1, ..., paramN) <span style=\"color:#9d8189\">=</span> \n",
    "  body</pre></td>\n",
    "    <td><pre>cond <span style=\"color:#9d8189\">?</span> option1 <span style=\"color:#9d8189\">:</span> option2</pre>\n",
    "    </td>\n",
    "    <td>\n",
    "      <pre><span style=\"color:#9d8189\">(</span>expr1<span style=\"color:#9d8189\">;</span> ...<span style=\"color:#9d8189\">;</span> exprN<span style=\"color:#9d8189\">)</span></pre>\n",
    "    </td>\n",
    "  </tr>\n",
    "  <tr>\n",
    "    <td style=\"background-color:white;\"><pre><span style=\"color:#9d8189\">function</span> name(param1, ..., paramN)\n",
    "  body\n",
    "<span style=\"color:#9d8189\">end</span></pre>\n",
    "    </td>\n",
    "    <td style=\"background-color:white;\"><pre><span style=\"color:#9d8189\">if</span> cond\n",
    "    option1\n",
    "<span style=\"color:#9d8189\">else</span>\n",
    "    option2\n",
    "<span style=\"color:#9d8189\">end</span></pre></td>\n",
    "    <td style=\"background-color:white;\"><pre><span style=\"color:#9d8189\">begin</span>\n",
    "    expr1\n",
    "    ...\n",
    "    exprN\n",
    "<span style=\"color:#9d8189\">end</span></pre></td>\n",
    "  </tr>\n",
    "</table>\n"
   ]
  },
  {
   "cell_type": "markdown",
   "metadata": {
    "slideshow": {
     "slide_type": "slide"
    }
   },
   "source": [
    "## <span style=\"color:#b8a1cf\">Parametrization</span> of Geometric Shapes"
   ]
  },
  {
   "cell_type": "markdown",
   "metadata": {
    "slideshow": {
     "slide_type": "subslide"
    }
   },
   "source": [
    "Function `circle_square` is an example of <span style=\"color:#cfa1cf\">Geometric Parametrization</span>.\n",
    "```julia\n",
    "circle_square(p, r, is_inscribed)\n",
    "```"
   ]
  },
  {
   "cell_type": "markdown",
   "metadata": {
    "slideshow": {
     "slide_type": "fragment"
    }
   },
   "source": [
    "The resulting shapes depend on:\n"
   ]
  },
  {
   "cell_type": "markdown",
   "metadata": {
    "slideshow": {
     "slide_type": "fragment"
    }
   },
   "source": [
    "- <span style=\"color:#cfa1b8\">Parameters</span>:\n",
    "  - A spatial location: `p`\n",
    "  - A dimension: `r`\n",
    "  - A Boolean value: `is_inscribed`\n"
   ]
  },
  {
   "cell_type": "markdown",
   "metadata": {
    "slideshow": {
     "slide_type": "fragment"
    }
   },
   "source": [
    "- <span style=\"color:#cfa1b8\">Rules</span>:\n",
    "  - `p` controls both the *circle* and *square* <span style=\"color:#cfa1a1\">location</span>.\n",
    "  - `r` controls the *circle* <span style=\"color:#cfa1a1\"> size</span>, which togheter with\n",
    "  - `is_inscribed` dictates the *square* <span style=\"color:#cfa1a1\">size</span>."
   ]
  },
  {
   "cell_type": "markdown",
   "metadata": {
    "slideshow": {
     "slide_type": "subslide"
    },
    "tags": [
     "custom-height"
    ]
   },
   "source": [
    "Illustrating the function's <span style=\"color:#cfa1b8\">parameters</span> can improve comprehension:\n",
    "\n",
    "\n"
   ]
  },
  {
   "cell_type": "code",
   "execution_count": null,
   "metadata": {
    "scrolled": false,
    "slideshow": {
     "slide_type": "fragment"
    }
   },
   "outputs": [],
   "source": [
    "using KhepriIllustrator"
   ]
  },
  {
   "cell_type": "code",
   "execution_count": null,
   "metadata": {},
   "outputs": [],
   "source": [
    "render_size(400, 400);"
   ]
  },
  {
   "cell_type": "markdown",
   "metadata": {
    "slideshow": {
     "slide_type": "fragment"
    }
   },
   "source": [
    "\n",
    " `@illustrator`: the operation that <span style=\"color:#cfa1b8\">illustrates</span> the function's behaviour.\n",
    "\n"
   ]
  },
  {
   "cell_type": "markdown",
   "metadata": {
    "slideshow": {
     "slide_type": "fragment"
    }
   },
   "source": [
    "\n",
    "```julia\n",
    "@illustrator circle_square(p, r, is_inscribed) =\n",
    "    ...\n",
    "```"
   ]
  },
  {
   "cell_type": "code",
   "execution_count": null,
   "metadata": {
    "scrolled": false,
    "slideshow": {
     "slide_type": "subslide"
    }
   },
   "outputs": [],
   "source": [
    "@illustrator circle_square(p, r, is_inscribed) =\n",
    "    begin\n",
    "        circle(p, r)\n",
    "        if is_inscribed\n",
    "          let p_1 = p + vpol(r, 5/4*π),\n",
    "              p_2 = p + vpol(r, 1/4*π)\n",
    "            rectangle(p_1, p_2)\n",
    "          end\n",
    "        else\n",
    "          let p_1 = p - vxy(r, r),\n",
    "              p_2 = p + vxy(r, r)\n",
    "            rectangle(p_1, p_2)\n",
    "          end\n",
    "        end\n",
    "    end;"
   ]
  },
  {
   "cell_type": "code",
   "execution_count": null,
   "metadata": {
    "slideshow": {
     "slide_type": "fragment"
    }
   },
   "outputs": [],
   "source": [
    "# Inscribed\n",
    "delete_all_shapes()\n",
    "@illustrator circle_square(x(0), 3, true)\n",
    "render_view()"
   ]
  },
  {
   "cell_type": "code",
   "execution_count": null,
   "metadata": {
    "scrolled": false,
    "slideshow": {
     "slide_type": "subslide"
    }
   },
   "outputs": [],
   "source": [
    "@illustrator circle_square(p, r, is_inscribed) =\n",
    "    begin\n",
    "        circle(p, r)\n",
    "        if is_inscribed\n",
    "          let p_1 = p + vpol(r, 5/4*π),\n",
    "              p_2 = p + vpol(r, 1/4*π)\n",
    "            rectangle(p_1, p_2)\n",
    "          end\n",
    "        else\n",
    "          let p_1 = p - vxy(r, r),\n",
    "              p_2 = p + vxy(r, r)\n",
    "            rectangle(p_1, p_2)\n",
    "          end\n",
    "        end\n",
    "    end;"
   ]
  },
  {
   "cell_type": "code",
   "execution_count": null,
   "metadata": {
    "slideshow": {
     "slide_type": "-"
    }
   },
   "outputs": [],
   "source": [
    "### Circunscribed\n",
    "delete_all_shapes()\n",
    "@illustrator circle_square(x(0), 3, false)\n",
    "render_view()"
   ]
  },
  {
   "cell_type": "markdown",
   "metadata": {
    "slideshow": {
     "slide_type": "subslide"
    }
   },
   "source": [
    "### <span style=\"color:#cfa1cf;\">Exercises</span>"
   ]
  },
  {
   "cell_type": "markdown",
   "metadata": {
    "slideshow": {
     "slide_type": "fragment"
    }
   },
   "source": [
    "#### <span style=\"color:#cfa1b8\">**1.**</span> Side-by-side circles"
   ]
  },
  {
   "cell_type": "markdown",
   "metadata": {},
   "source": [
    "<div style=\"display: flex; align-items: flex-start;\">\n",
    "  <div style=\"flex: 1; padding-right: 215px;\">\n",
    "Previous exercise where we created two tangent circles <br> around the origin.\n",
    "\n",
    "\\\n",
    "Older (non-parametrized) version: \n",
    "```julia\n",
    "circle(xy(1,0),1)\n",
    "\n",
    "circle(xy(-1,0),1)\n",
    "```\n",
    "</div> \n",
    "\n",
    "<div style=\"flex: 1; padding-left: 10px;\">\n",
    "<center><img src=\"images/twocircles.jpg\" width=\"350\"></center>\n",
    "</div>\n",
    "\n",
    "</div>\n",
    "\n",
    "\n"
   ]
  },
  {
   "cell_type": "markdown",
   "metadata": {
    "slideshow": {
     "slide_type": "fragment"
    }
   },
   "source": [
    "*How can we parametrize it?*"
   ]
  },
  {
   "cell_type": "markdown",
   "metadata": {
    "slideshow": {
     "slide_type": "subslide"
    }
   },
   "source": [
    "<div style=\"display: flex; align-items: flex-start;\">\n",
    "  <div style=\"flex: 1; padding-right: 500px;\">\n",
    "\n",
    "<span style=\"color:#cfa1a1\">Step 1</span> - Setting the parameters\n",
    "\n",
    "- $P$ as the circles' tangent point.\n",
    "- $r$ as the circles radius\n",
    "\n",
    "</div> \n",
    "<div style=\"flex: 1; padding-left: 10px;\">\n",
    "<br>\n",
    "<center><img src=\"images/2circle-parms.jpg\" width=\"350\"></center>\n",
    "</div>\n",
    "\n",
    "</div>"
   ]
  },
  {
   "cell_type": "markdown",
   "metadata": {
    "slideshow": {
     "slide_type": "subslide"
    }
   },
   "source": [
    "<div style=\"display: flex; align-items: flex-start;\">\n",
    "  <div style=\"flex: 1; padding-right: 154px;\">\n",
    "  \n",
    "  <span style=\"color:#cfa1a1\">Step 2</span> - Setting the relationships between parameters <br> and outcomes\n",
    " \n",
    "- Both circles have the same radius size ($r$)\n",
    "- $P$ is the point of tangency of the circles.\n",
    "- One of the circles should be located to the right of $P$\n",
    "- The other circle should be positioned to the left of $P$. \n",
    "\n",
    "</div> \n",
    "<div style=\"flex: 1; padding-left: 10px; padding-top: 267px;\">\n",
    "<center><img src=\"images/2circle-rules.jpg\" width=\"350\"></center>\n",
    "</div>\n",
    "\n",
    "</div>"
   ]
  },
  {
   "cell_type": "markdown",
   "metadata": {
    "slideshow": {
     "slide_type": "fragment"
    }
   },
   "source": [
    "<span style=\"color:#cfa1a1\">Step 3</span> - Defining the function head (*name* + *formal parameters*)\n",
    "\n",
    "\n",
    "<pre>\n",
    "circles_pair(p, r) =\n",
    "    ...\n",
    "</pre>\n",
    "</div>\n",
    "\n"
   ]
  },
  {
   "cell_type": "markdown",
   "metadata": {
    "slideshow": {
     "slide_type": "subslide"
    }
   },
   "source": [
    "<span style=\"color:#cfa1a1\">Step 4</span> - Defining the function body\n",
    "\n",
    "<span style=\"color:#cfb8a1\">**1.**</span>  Calculate the circles center points $P_1$ and $P_2$:\n",
    "\n",
    "\n",
    "<pre>\n",
    "circles_pair(p, r) =\n",
    "    let <strong>p1</strong> = p + vx(r)\n",
    "        <strong>p2</strong> = p - vx(r)\n",
    "        ...\n",
    "    end"
   ]
  },
  {
   "cell_type": "markdown",
   "metadata": {
    "slideshow": {
     "slide_type": "fragment"
    }
   },
   "source": [
    "<span style=\"color:#cfb8a1\">**2.**</span>  Create the circles:\n",
    "\n",
    "\n",
    "<pre>\n",
    "circles_pair(p, r) =\n",
    "    let p1 = p + vx(r)\n",
    "        p2 = p - vx(r)\n",
    "     <strong>circle</strong>(p1, r)\n",
    "     <strong>circle</strong>(p2, r)\n",
    "    end"
   ]
  },
  {
   "cell_type": "markdown",
   "metadata": {
    "slideshow": {
     "slide_type": "subslide"
    }
   },
   "source": [
    "Calling the <span style=\"color:#cfa1b8\">Illustrator</span> to help us understand the result:"
   ]
  },
  {
   "cell_type": "code",
   "execution_count": null,
   "metadata": {
    "slideshow": {
     "slide_type": "fragment"
    }
   },
   "outputs": [],
   "source": [
    "@illustrator circles_pair(p,r) =\n",
    "    let p_1 = p + vx(r),\n",
    "        p_2 = p - vx(r)\n",
    "      circle(p_1, r)\n",
    "      circle(p_2, r)\n",
    "    end"
   ]
  },
  {
   "cell_type": "code",
   "execution_count": null,
   "metadata": {
    "slideshow": {
     "slide_type": "fragment"
    }
   },
   "outputs": [],
   "source": [
    "render_size(600, 400)\n",
    "delete_all_shapes()\n",
    "@illustrator circles_pair(u0(), 2)\n",
    "render_view()"
   ]
  },
  {
   "cell_type": "markdown",
   "metadata": {
    "slideshow": {
     "slide_type": "subslide"
    }
   },
   "source": [
    "#### <span style=\"color:#cfa1b8\">**2.**</span> Diagonal circles"
   ]
  },
  {
   "cell_type": "markdown",
   "metadata": {},
   "source": [
    "\n",
    "<div style=\"display: flex; align-items: flex-start;\">\n",
    "  <div style=\"flex: 1; padding-right: 500px;\">\n",
    "\n",
    "Original (*non-parametrized*) version:\n",
    "\n",
    "```julia\n",
    "circle(pol(0, 0), 4)\n",
    "\n",
    "circle(pol(4, pi/4), 2)\n",
    "\n",
    "circle(pol(6, pi/4), 1)\n",
    "```\n",
    "\n",
    "</div> \n",
    "\n",
    "<div style=\"flex: 1; padding-left: 10px;\">\n",
    "<center><img src=\"images/circles_diagonal.png\" width=\"350\" height=\"350\"></center>\n",
    "</div>\n",
    "\n",
    "</div>"
   ]
  },
  {
   "cell_type": "markdown",
   "metadata": {
    "slideshow": {
     "slide_type": "fragment"
    }
   },
   "source": [
    "*Let's create the parametrized version!*\n"
   ]
  },
  {
   "cell_type": "markdown",
   "metadata": {
    "slideshow": {
     "slide_type": "subslide"
    }
   },
   "source": [
    "\n",
    "<div style=\"display: flex; align-items: flex-start;\">\n",
    "  <div style=\"flex: 1; padding-right: 275px;\">\n",
    "\n",
    "<span style=\"color:#cfa1a1\">Step 1</span> - Parameters\n",
    "\n",
    "- The center of the largest circle: $P$\n",
    "- The orientation of the circles' distribution: $\\alpha$\n",
    "- The radius of the largest circle: $r$\n",
    "\n",
    "</div> \n",
    "\n",
    "<div style=\"flex: 1; padding-right: 10px;\">\n",
    "<center><img src=\"images/circles_diagonal-params.jpg\" width=\"350\" height=\"350\"></center>\n",
    "</div>\n",
    "\n",
    "</div>\n"
   ]
  },
  {
   "cell_type": "markdown",
   "metadata": {
    "slideshow": {
     "slide_type": "subslide"
    }
   },
   "source": [
    "<div style=\"display: flex; align-items: flex-start;\">\n",
    "  <div style=\"flex: 1; padding-right: 170px;\">\n",
    "\n",
    "<span style=\"color:#cfa1a1\">Step 2</span> - Rules\n",
    "\n",
    "- The first circle is centered at $P$ and has radius $r$.<br><br>\n",
    "- The second circle has half the radius size of the <br> first circle: $\\frac{r}{2}$<br><br>\n",
    "- The third circle has half the radius size of the <br> second circle: $\\frac{r}{4}$ (or $\\frac{r/2}{2}$)<br><br>\n",
    "- The second and third circles are distributed with <br> an inclination $\\alpha$ and are centered on the boundary <br> of the previous circle.\n",
    "\n",
    "</div> \n",
    "\n",
    "<div style=\"flex: 1; padding-left: 10px;\">\n",
    "    <br><br><br><br><br>\n",
    "<center><img src=\"images/circles_diagonal-rules.jpg\" width=\"350\" height=\"350\"></center>\n",
    "</div>\n",
    "\n",
    "</div>"
   ]
  },
  {
   "cell_type": "markdown",
   "metadata": {
    "slideshow": {
     "slide_type": "subslide"
    }
   },
   "source": [
    "\n",
    "<span style=\"color:#cfa1a1\">Step 3</span> - Function head\n",
    "- `diagonal_circles` as the function name.\n",
    "- $P$, $\\alpha$, and $r$ as formal parameters.\n",
    "\n",
    "\n",
    "<pre>\n",
    "diagonal_circles(p, α, r) =\n",
    "    ...\n",
    "</pre>\n",
    "\n"
   ]
  },
  {
   "cell_type": "markdown",
   "metadata": {
    "slideshow": {
     "slide_type": "subslide"
    }
   },
   "source": [
    "<span style=\"color:#9d8189\">Step 4</span> - Function body\n",
    "\n",
    "\n",
    "<span style=\"color:#cfb8a1\">**1.**</span>  Creating the first circle.\n",
    "<pre>\n",
    "circles_diagonal(p, α, r) =\n",
    "    begin\n",
    "        <strong>circle</strong>(p, r)\n",
    "        ...\n",
    "</pre>\n"
   ]
  },
  {
   "cell_type": "markdown",
   "metadata": {
    "slideshow": {
     "slide_type": "fragment"
    }
   },
   "source": [
    "<span style=\"color:#cfb8a1\">**2.**</span>  Calculating the center and radius of the second circle.\n",
    "\n",
    "<pre>\n",
    "circles_diagonal(p, α, r) =\n",
    "    let <strong>p2</strong> = p + vpol(r, α),\n",
    "        <strong>r2</strong> = r/2\n",
    "      circle(p, r)\n",
    "      ...\n",
    "    end\n",
    "\n",
    "</pre>"
   ]
  },
  {
   "cell_type": "markdown",
   "metadata": {
    "slideshow": {
     "slide_type": "subslide"
    }
   },
   "source": [
    "<span style=\"color:#cfb8a1\">**3.**</span>  Creating the second circle.\n",
    "\n",
    "\n",
    "<pre>\n",
    "circles_diagonal(p, α, r) =\n",
    "    let p2 = p + vpol(r, α),\n",
    "        r2 = r/2\n",
    "      circle(p, r)\n",
    "      <strong>circle</strong>(p2, r2)\n",
    "      ...\n",
    "    end\n",
    "</pre>\n",
    "\n",
    "\n"
   ]
  },
  {
   "cell_type": "markdown",
   "metadata": {
    "slideshow": {
     "slide_type": "fragment"
    }
   },
   "source": [
    "<span style=\"color:#cfb8a1\">**4.**</span>  Calculating the center and radius of the third circle.\n",
    "\n",
    "\n",
    "<pre>\n",
    "circles_diagonal(p, α, r) =\n",
    "    let p2 = p + vpol(r, α),\n",
    "        r2 = r/2,\n",
    "        <strong>p3</strong> = p + vpol(r + r2, α),\n",
    "        <strong>r3</strong> = r_2/2\n",
    "      circle(p, r)\n",
    "      circle(p2, r2)\n",
    "      ...\n",
    "    end\n",
    "</pre>\n",
    "\n"
   ]
  },
  {
   "cell_type": "markdown",
   "metadata": {
    "slideshow": {
     "slide_type": "subslide"
    }
   },
   "source": [
    "<span style=\"color:#cfb8a1\">**5.**</span>  Creating the third circle.\n",
    "\n",
    "<pre>\n",
    "circles_diagonal(p, α, r) =\n",
    "    let p2 = p + vpol(r, α),\n",
    "        r2 = r/2,\n",
    "        p3 = p + vpol(r + r2, α),\n",
    "        r3 = r2/2\n",
    "      circle(p, r)\n",
    "      circle(p2, r2)\n",
    "      <strong>circle</strong>(p3, r3)\n",
    "    end\n",
    "</pre>"
   ]
  },
  {
   "cell_type": "code",
   "execution_count": null,
   "metadata": {
    "slideshow": {
     "slide_type": "subslide"
    }
   },
   "outputs": [],
   "source": [
    "@illustrator circles_diagonal(p, α, r) =\n",
    "    let p_2 = p + vpol(r, α),\n",
    "        r_2 = r/2,\n",
    "        p_3 = p + vpol(r + r_2, α),\n",
    "        r_3 = r_2/2\n",
    "      circle(p, r)\n",
    "      circle(p_2, r_2)\n",
    "      circle(p_3, r_3)\n",
    "    end;"
   ]
  },
  {
   "cell_type": "code",
   "execution_count": null,
   "metadata": {
    "slideshow": {
     "slide_type": "fragment"
    }
   },
   "outputs": [],
   "source": [
    "render_size(600, 600)\n",
    "delete_all_shapes()\n",
    "@illustrator circles_diagonal(u0(), pi/2.5, 3) \n",
    "render_view()"
   ]
  },
  {
   "cell_type": "code",
   "execution_count": null,
   "metadata": {
    "slideshow": {
     "slide_type": "subslide"
    }
   },
   "outputs": [],
   "source": [
    "@illustrator circles_diagonal(p, α, r) =\n",
    "    let p_2 = p + vpol(r, α),\n",
    "        r_2 = r/2,\n",
    "        p_3 = p + vpol(r + r_2, α),\n",
    "        r_3 = r_2/2\n",
    "      circle(p, r)\n",
    "      circle(p_2, r_2)\n",
    "      circle(p_3, r_3)\n",
    "    end;"
   ]
  },
  {
   "cell_type": "code",
   "execution_count": null,
   "metadata": {
    "slideshow": {
     "slide_type": "-"
    }
   },
   "outputs": [],
   "source": [
    "delete_all_shapes()\n",
    "@illustrator circles_diagonal(u0(), pi/2, 3) \n",
    "render_view()"
   ]
  },
  {
   "cell_type": "markdown",
   "metadata": {
    "slideshow": {
     "slide_type": "subslide"
    }
   },
   "source": [
    "#### <span style=\"color:#cfa1b8\">**3.**</span> Arrow"
   ]
  },
  {
   "cell_type": "markdown",
   "metadata": {},
   "source": [
    "  <center><img src=\"images/arrow1.jpg\" width=\"400\" height=\"380\"></center>\n"
   ]
  },
  {
   "cell_type": "markdown",
   "metadata": {
    "slideshow": {
     "slide_type": "fragment"
    }
   },
   "source": [
    "It is parametrized by:\n",
    "- a point $P$, the arrow's starting point.\n",
    "- a distance $\\rho$, the arrow's length.\n",
    "- an angle $\\alpha$, the arrow's inclination.\n",
    "- another angle $\\beta$, the arrow's apperture amplitude.\n",
    "- and another distance $\\theta$, the length of the arrow's 'barb'."
   ]
  },
  {
   "cell_type": "markdown",
   "metadata": {
    "slideshow": {
     "slide_type": "subslide"
    }
   },
   "source": [
    "*Let's implement the function*\n",
    "\n",
    "<span style=\"color:#cfa1a1\">**1.**</span>  Defining the function's head\n",
    "\n",
    "<div style=\"display: flex; align-items: flex-start;\">\n",
    "  <div style=\"flex: 1; padding-right: 100px;\">\n",
    "\n",
    "<pre>\n",
    "arrow(p, ρ, α, θ, β) =\n",
    "    ...\n",
    "</pre>\n",
    "  </div> \n",
    "  <div style=\"flex: 1; padding-left: 10px;\">"
   ]
  },
  {
   "cell_type": "markdown",
   "metadata": {
    "slideshow": {
     "slide_type": "fragment"
    }
   },
   "source": [
    "<span style=\"color:#cfa1a1\">**2.**</span>  Starting the arrow\n",
    "\n",
    "<div style=\"display: flex; align-items: flex-start;\">\n",
    "  <div style=\"flex: 1; padding-right: 500px;\">\n",
    "\n",
    "<pre>\n",
    "arrow(p, ρ, α, θ, β) =\n",
    "    <strong>line</strong>(p, ...)\n",
    "    ...\n",
    "</pre>\n",
    "  </div> \n",
    "  <div style=\"flex: 1; padding-left: 10px;\">\n",
    "  <center><img src=\"images/arrow2.jpg\" width=\"450\" height=\"360\"></center>"
   ]
  },
  {
   "cell_type": "markdown",
   "metadata": {
    "slideshow": {
     "slide_type": "subslide"
    }
   },
   "source": [
    "<span style=\"color:#cfa1a1\">**3.**</span> Creating the arrowhead's tip\n",
    "\n",
    "<div style=\"display: flex; align-items: flex-start;\">\n",
    "  <div style=\"flex: 1; padding-right: 410px;\">\n",
    "\n",
    "<pre>\n",
    "arrow(p, ρ, α, θ, β) =\n",
    "    let <strong>p1</strong> = p + vpol(ρ, α)\n",
    "     line(p, <strong>p1</strong>, ...)\n",
    "    end\n",
    "</pre>\n",
    "  </div> \n",
    "  <div style=\"flex: 1; padding-left: 10px;\">\n",
    "  <center><img src=\"images/arrow3.jpg\" width=\"450\" height=\"360\"></center>\n",
    "\n"
   ]
  },
  {
   "cell_type": "markdown",
   "metadata": {
    "slideshow": {
     "slide_type": "subslide"
    }
   },
   "source": [
    "<span style=\"color:#cfa1a1\">**4.**</span> Creating the arrowhead's right point\n",
    "\n",
    "<div style=\"display: flex; align-items: flex-start;\">\n",
    "  <div style=\"flex: 1; padding-right: 250px;\">\n",
    "\n",
    "<pre>\n",
    "arrow(p, ρ, α, θ, β) =\n",
    "    let p1 = p + vpol(ρ, α)\n",
    "        <strong>p2</strong> = p1 + vpol(θ, α + π + β)\n",
    "     line(p, p1, <strong>p2</strong>, ...)\n",
    "    end\n",
    "</pre>\n",
    "  </div> \n",
    "  <div style=\"flex: 1; padding-left: 10px;\">\n",
    "  <center><img src=\"images/arrow4.jpg\" width=\"450\" height=\"360\"></center>\n"
   ]
  },
  {
   "cell_type": "markdown",
   "metadata": {
    "slideshow": {
     "slide_type": "subslide"
    }
   },
   "source": [
    "<span style=\"color:#cfa1a1\">**5.**</span> Creating the arrowhead's left point\n",
    "\n",
    "<div style=\"display: flex; align-items: flex-start;\">\n",
    "  <div style=\"flex: 1; padding-right: 250px;\">\n",
    "\n",
    "<pre>\n",
    "arrow(p, ρ, α, θ, β) =\n",
    "    let p1 = p + vpol(ρ, α)\n",
    "        p2 = p1 + vpol(θ, α + π + β)\n",
    "        <strong>p3</strong> = p1 + vpol(θ, α + π - β)\n",
    "     line(p, p1, p2, <strong>p3</strong>, ...)\n",
    "    end\n",
    "  </pre>\n",
    "  </div> \n",
    "  <div style=\"flex: 1; padding-left: 10px;\">\n",
    "  <center><img src=\"images/arrow5.jpg\" width=\"450\" height=\"360\"></center>\n",
    "  </div> \n"
   ]
  },
  {
   "cell_type": "markdown",
   "metadata": {
    "slideshow": {
     "slide_type": "subslide"
    }
   },
   "source": [
    "<span style=\"color:#cfa1a1\">**6.**</span> Completing the arrowhead\n",
    "\n",
    "<div style=\"display: flex; align-items: flex-start;\">\n",
    "  <div style=\"flex: 1; padding-right: 250px;\">\n",
    "\n",
    "<pre>\n",
    "arrow(p, ρ, α, θ, β) =\n",
    "    let p1 = p + vpol(ρ, α)\n",
    "        p2 = p1 + vpol(θ, α + π + β)\n",
    "        p3 = p1 + vpol(θ, α + π - β)\n",
    "     line(p, p1, p2, p3, <strong>p1</strong>)\n",
    "    end\n",
    "  </pre>\n",
    "  </div> \n",
    "  <div style=\"flex: 1; padding-left: 10px;\">\n",
    "  <center><img src=\"images/arrow6.jpg\" width=\"450\" height=\"360\"></center>\n"
   ]
  },
  {
   "cell_type": "code",
   "execution_count": null,
   "metadata": {
    "slideshow": {
     "slide_type": "subslide"
    }
   },
   "outputs": [],
   "source": [
    "@illustrator arrow(p, ρ, α, θ, β) =\n",
    "    let p_1 = p + vpol(ρ, α),\n",
    "        p_2 = p_1 + vpol(θ, α + π + β),\n",
    "        p_3 = p_1 + vpol(θ, α + π - β)\n",
    "     line(p, p_1, p_2, p_3, p_1)\n",
    "    end;"
   ]
  },
  {
   "cell_type": "code",
   "execution_count": null,
   "metadata": {
    "slideshow": {
     "slide_type": "fragment"
    }
   },
   "outputs": [],
   "source": [
    "delete_all_shapes()\n",
    "render_size(1000, 600)\n",
    "\n",
    "@illustrator begin\n",
    "    arrow(u0(), 8, pi/4, 4, pi/6)\n",
    "    arrow(x(12), 6, pi/2, 3, pi/7)\n",
    "end\n",
    "\n",
    "render_view()"
   ]
  },
  {
   "cell_type": "markdown",
   "metadata": {
    "slideshow": {
     "slide_type": "slide"
    }
   },
   "source": [
    "## Iteration"
   ]
  },
  {
   "cell_type": "markdown",
   "metadata": {
    "slideshow": {
     "slide_type": "subslide"
    }
   },
   "source": [
    "#### <span style=\"color:#cfa1cf\">For/Loop</span> Implementation in Julia"
   ]
  },
  {
   "cell_type": "markdown",
   "metadata": {
    "slideshow": {
     "slide_type": "fragment"
    }
   },
   "source": [
    "\n",
    "<div style=\"display: flex; align-items: flex-start;\">\n",
    "  <div style=\"flex: 1; padding-right: 50px;\">\n",
    "\n",
    "\n",
    "<pre>\n",
    "for <strong><span style=\"color:#B4F8C8;\">variable</span></strong> in <strong><span style=\"color:#A0E7E5;\">collection</span>\n",
    "    <span style=\"color:#bb99ff;\">loop body</span></strong>\n",
    "end </pre>\n",
    "\n",
    "<strong><span style=\"color:#FFAEBC\">Partial result</span></strong> stored in a *local variable* \n",
    "\n",
    "</div> \n",
    "<div style=\"flex: 1; padding-left: 1px;\">\n",
    "\n",
    "> <span style=\"color:#B4F8C8\">Variable</span>: takes the value of each element in the collection for each iteration.\n",
    "\n",
    "> <span style=\"color:#A0E7E5\">Collection</span>: the range, array, or iterable object over which to iterate.\n",
    "\n",
    "> <span style=\"color:#bb99ff\">Loop Body</span>: the code that will execute on each iteration."
   ]
  },
  {
   "cell_type": "markdown",
   "metadata": {
    "slideshow": {
     "slide_type": "subslide"
    }
   },
   "source": [
    "### <span style=\"color:#cfa1cf;\">Scenario 1:</span> For/loop with secondary effects only"
   ]
  },
  {
   "cell_type": "markdown",
   "metadata": {
    "slideshow": {
     "slide_type": "fragment"
    }
   },
   "source": [
    "##### <span style=\"color:#cfa1a1\">**Example:**</span> $N$ Diagonal Circles (iterative version)\n",
    "\n",
    "<img src=\"images/circles_diagonalN.png\" width=\"900\" height=\"300\">"
   ]
  },
  {
   "cell_type": "markdown",
   "metadata": {
    "slideshow": {
     "slide_type": "subslide"
    }
   },
   "source": [
    "<span style=\"color:#cfa1a1\">Step 1</span> - Parameters "
   ]
  },
  {
   "cell_type": "markdown",
   "metadata": {
    "slideshow": {
     "slide_type": "fragment"
    }
   },
   "source": [
    "\n",
    "<div style=\"display: flex; align-items: flex-start;\">\n",
    "  <div style=\"flex: 1; padding-right: 100px;\">\n",
    "      \n",
    "- The center of the largest circle: $P$\n",
    "- The orientation of the circles' distribution: $\\alpha$\n",
    "- The radius of the largest circle: $r$\n",
    "- The number of circles $n$\n",
    "\n",
    "</div> \n",
    "\n",
    "<div style=\"flex: 1; padding-right: 10px;\">\n",
    "<center><img src=\"images/circles_diagonal-params.jpg\" width=\"350\" height=\"350\"></center>\n",
    "</div>\n",
    "\n",
    "</div>\n"
   ]
  },
  {
   "cell_type": "markdown",
   "metadata": {
    "slideshow": {
     "slide_type": "fragment"
    }
   },
   "source": [
    "<pre>\n",
    "\n",
    "diagonal_circles(p, α, r, n) =\n",
    "    ...\n",
    "</pre>"
   ]
  },
  {
   "cell_type": "markdown",
   "metadata": {
    "slideshow": {
     "slide_type": "subslide"
    }
   },
   "source": [
    "<span style=\"color:#cfa1a1\">Step 2</span> - Rules"
   ]
  },
  {
   "cell_type": "markdown",
   "metadata": {
    "slideshow": {
     "slide_type": "fragment"
    }
   },
   "source": [
    "- The first circle is centered at $P$ and has radius $r$.\n",
    "- The other circles are centered on the boundary of the previous circle with an inclination $\\alpha$.\n",
    "- The other circles have half the size of the previous circle.\n",
    "- Stops when $n$ circles have been created."
   ]
  },
  {
   "cell_type": "markdown",
   "metadata": {
    "slideshow": {
     "slide_type": "fragment"
    }
   },
   "source": [
    "Radius size <span style=\"color:#cfa1a1;\">progression</span>:\n",
    "\n",
    "\n",
    "$ r, \\frac{r}{2}, \\frac{r}{4}, \\frac{r}{8}, \\ldots \\rightarrow r_i = \\frac{r}{2^i} $\n",
    "\n",
    "where $i = 1, 2, 3, \\ldots, n $"
   ]
  },
  {
   "cell_type": "markdown",
   "metadata": {
    "slideshow": {
     "slide_type": "subslide"
    }
   },
   "source": [
    "**Implementation**\n",
    "\n",
    "\n",
    "</div> \n",
    "<div style=\"flex: 1; padding-left: 10px;\">\n",
    "\n",
    "```julia\n",
    "diagonal_circles(p, r, α, n) =\n",
    "  ...\n",
    "```"
   ]
  },
  {
   "cell_type": "markdown",
   "metadata": {
    "slideshow": {
     "slide_type": "fragment"
    }
   },
   "source": [
    "**1**. Setting the initial displacement value from point P ($\\rho_i$)"
   ]
  },
  {
   "cell_type": "markdown",
   "metadata": {
    "slideshow": {
     "slide_type": "-"
    }
   },
   "source": [
    "```julia\n",
    "diagonal_circles(p, r, α, n) =\n",
    "  let ρ_i = 0\n",
    "    ...\n",
    "  end\n",
    "```"
   ]
  },
  {
   "cell_type": "markdown",
   "metadata": {
    "slideshow": {
     "slide_type": "subslide"
    }
   },
   "source": [
    "**2**. Initializing the loop"
   ]
  },
  {
   "cell_type": "markdown",
   "metadata": {
    "slideshow": {
     "slide_type": "-"
    }
   },
   "source": [
    "\n",
    "```julia\n",
    "diagonal_circles(p, r, α, n) =\n",
    "  let ρ_i = 0\n",
    "    for i in 0:n-1\n",
    "      ...\n",
    "    end\n",
    "  end\n",
    "```"
   ]
  },
  {
   "cell_type": "markdown",
   "metadata": {
    "slideshow": {
     "slide_type": "fragment"
    }
   },
   "source": [
    "**3**. Calculating the radius size of the $i^{th}$ circle ($r_i$)"
   ]
  },
  {
   "cell_type": "markdown",
   "metadata": {
    "slideshow": {
     "slide_type": "-"
    }
   },
   "source": [
    "```julia\n",
    "diagonal_circles(p, r, α, n) =\n",
    "  let ρ_i = 0\n",
    "    for i in 0:n-1\n",
    "      let r_i = r/2^i\n",
    "        ...\n",
    "      end\n",
    "    end\n",
    "  end\n",
    "```"
   ]
  },
  {
   "cell_type": "markdown",
   "metadata": {
    "slideshow": {
     "slide_type": "subslide"
    }
   },
   "source": [
    "**4**. Creating the $i^{th}$ circle"
   ]
  },
  {
   "cell_type": "markdown",
   "metadata": {
    "slideshow": {
     "slide_type": "-"
    }
   },
   "source": [
    "```julia\n",
    "diagonal_circles(p, r, α, n) =\n",
    "  let ρ_i = 0\n",
    "    for i in 0:n-1\n",
    "      let r_i = r/2^i\n",
    "        circle(...)\n",
    "        ...\n",
    "      end\n",
    "    end\n",
    "  end\n",
    "```"
   ]
  },
  {
   "cell_type": "markdown",
   "metadata": {
    "slideshow": {
     "slide_type": "subslide"
    }
   },
   "source": [
    "Calculating its center point from point $P$ (distance and angle).\n"
   ]
  },
  {
   "cell_type": "markdown",
   "metadata": {
    "slideshow": {
     "slide_type": "-"
    }
   },
   "source": [
    "\n",
    "```julia\n",
    "diagonal_circles(p, r, α, n) =\n",
    "  let ρ_i = 0\n",
    "    for i in 0:n-1\n",
    "      let r_i = r/2^i\n",
    "        circle(p + vpol(ρ_i, α), ...)\n",
    "        ...\n",
    "      end\n",
    "    end\n",
    "  end\n",
    "```"
   ]
  },
  {
   "cell_type": "markdown",
   "metadata": {
    "slideshow": {
     "slide_type": "subslide"
    }
   },
   "source": [
    "Setting the radius size.\n"
   ]
  },
  {
   "cell_type": "markdown",
   "metadata": {
    "slideshow": {
     "slide_type": "-"
    }
   },
   "source": [
    "\n",
    "```julia\n",
    "diagonal_circles(p, r, α, n) =\n",
    "  let ρ_i = 0\n",
    "    for i in 0:n-1\n",
    "      let r_i = r/2^i\n",
    "        circle(p + vpol(ρ_i, α), r_i)\n",
    "        ...\n",
    "      end\n",
    "    end\n",
    "  end\n",
    "```"
   ]
  },
  {
   "cell_type": "markdown",
   "metadata": {
    "slideshow": {
     "slide_type": "subslide"
    }
   },
   "source": [
    "**5**. Updating the displacement value ($\\rho_i$) for the next iteration"
   ]
  },
  {
   "cell_type": "markdown",
   "metadata": {
    "slideshow": {
     "slide_type": "-"
    }
   },
   "source": [
    "\n",
    "```julia\n",
    "diagonal_circles(p, r, α, n) =\n",
    "  let ρ_i = 0\n",
    "    for i in 0:n-1\n",
    "      let r_i = r/2^i\n",
    "        circle(p + vpol(ρ_i, α), r_i)\n",
    "        ρ_i += r_i\n",
    "      end\n",
    "    end\n",
    "  end\n",
    "```"
   ]
  },
  {
   "cell_type": "markdown",
   "metadata": {
    "slideshow": {
     "slide_type": "subslide"
    }
   },
   "source": [
    "**Testing**"
   ]
  },
  {
   "cell_type": "code",
   "execution_count": null,
   "metadata": {
    "slideshow": {
     "slide_type": "fragment"
    }
   },
   "outputs": [],
   "source": [
    "diagonal_circles(p, r, α, n) =\n",
    "  let ρ_i = 0\n",
    "    for i in 0:n-1\n",
    "      let r_i = r/2^i\n",
    "        circle(p + vpol(ρ_i, α), r_i)\n",
    "        ρ_i += r_i\n",
    "      end\n",
    "    end\n",
    "  end;"
   ]
  },
  {
   "cell_type": "code",
   "execution_count": null,
   "metadata": {
    "slideshow": {
     "slide_type": "fragment"
    }
   },
   "outputs": [],
   "source": [
    "delete_all_shapes()\n",
    "render_size(400, 400)\n",
    "diagonal_circles(u0(), 4, pi/4, 10)\n",
    "render_view()"
   ]
  },
  {
   "cell_type": "markdown",
   "metadata": {
    "slideshow": {
     "slide_type": "subslide"
    }
   },
   "source": [
    "**Illustration**"
   ]
  },
  {
   "cell_type": "code",
   "execution_count": null,
   "metadata": {
    "slideshow": {
     "slide_type": "fragment"
    }
   },
   "outputs": [],
   "source": [
    "@illustrator diagonal_circles(p, r, α, n) =\n",
    "  let ρ_i = 0\n",
    "    for i in 0:n-1\n",
    "      let r_i = r/2^i\n",
    "        circle(p + vpol(ρ_i, α), r_i)\n",
    "        ρ_i += r_i\n",
    "      end\n",
    "    end\n",
    "  end;"
   ]
  },
  {
   "cell_type": "code",
   "execution_count": null,
   "metadata": {
    "slideshow": {
     "slide_type": "fragment"
    }
   },
   "outputs": [],
   "source": [
    "delete_all_shapes()\n",
    "@illustrator diagonal_circles(u0(), 2.5, pi/4, 5)\n",
    "render_view()"
   ]
  },
  {
   "cell_type": "code",
   "execution_count": null,
   "metadata": {
    "slideshow": {
     "slide_type": "subslide"
    }
   },
   "outputs": [],
   "source": [
    "@illustrator diagonal_circles(p, r, α, n) =\n",
    "  let ρ_i = 0\n",
    "    for i in 0:n-1\n",
    "      let r_i = r/2^i\n",
    "        circle(p + vpol(ρ_i, α), r_i)\n",
    "        ρ_i += r_i\n",
    "      end\n",
    "    end\n",
    "  end;"
   ]
  },
  {
   "cell_type": "code",
   "execution_count": null,
   "metadata": {
    "slideshow": {
     "slide_type": "-"
    }
   },
   "outputs": [],
   "source": [
    "delete_all_shapes()\n",
    "\n",
    "with(for_steps_limit, 2) do \n",
    "    @illustrator diagonal_circles(u0(), 3, pi/2, 4)\n",
    "end\n",
    "\n",
    "render_view()"
   ]
  },
  {
   "cell_type": "code",
   "execution_count": null,
   "metadata": {
    "slideshow": {
     "slide_type": "skip"
    }
   },
   "outputs": [],
   "source": [
    "@illustrator diagonal_circles(p, r, α, n) =\n",
    "  let ρ_i = 0\n",
    "    for i in 0:n-1\n",
    "      let r_i = r/2^i\n",
    "        circle(p + vpol(ρ_i, α), r_i)\n",
    "        ρ_i += r_i\n",
    "      end\n",
    "    end\n",
    "  end;"
   ]
  },
  {
   "cell_type": "code",
   "execution_count": null,
   "metadata": {
    "slideshow": {
     "slide_type": "skip"
    }
   },
   "outputs": [],
   "source": [
    "delete_all_shapes()\n",
    "render_size(500, 500)\n",
    "with(for_steps_limit, 2) do \n",
    "    @illustrator diagonal_circles(u0(), 2.5, pi/4, 3)\n",
    "end\n",
    "render_view()"
   ]
  },
  {
   "cell_type": "markdown",
   "metadata": {
    "slideshow": {
     "slide_type": "subslide"
    }
   },
   "source": [
    "### <span style=\"color:#cfa1cf;\">Scenario 2:</span> Storing and returning values"
   ]
  },
  {
   "cell_type": "markdown",
   "metadata": {
    "slideshow": {
     "slide_type": "fragment"
    }
   },
   "source": [
    "**<span style=\"color:#cfa1b8\">Arrays</span>**: **data structures** to store collections of elements.\n",
    "\n",
    "[$a_1, a_2, ..., a_n$]"
   ]
  },
  {
   "cell_type": "markdown",
   "metadata": {
    "slideshow": {
     "slide_type": "fragment"
    }
   },
   "source": [
    "**<span style=\"color:#cfa1b8\">Index</span>**: to **access** elements in an Array.\n",
    "\n",
    "$\\text{array}[\\text{index}]$\n",
    "\n"
   ]
  },
  {
   "cell_type": "markdown",
   "metadata": {
    "slideshow": {
     "slide_type": "skip"
    }
   },
   "source": [
    "In **Julia**, indices start at $1$.\n",
    "\n",
    "$\\text{array}[1] = a_1$\n",
    "\n",
    "$\\text{array}[\\text{end}] = a_n$"
   ]
  },
  {
   "cell_type": "code",
   "execution_count": null,
   "metadata": {
    "scrolled": false,
    "slideshow": {
     "slide_type": "skip"
    }
   },
   "outputs": [],
   "source": [
    "numbers = [1, 2, 3, 4, 5]"
   ]
  },
  {
   "cell_type": "code",
   "execution_count": null,
   "metadata": {
    "scrolled": false,
    "slideshow": {
     "slide_type": "skip"
    }
   },
   "outputs": [],
   "source": [
    "numbers[1]"
   ]
  },
  {
   "cell_type": "code",
   "execution_count": null,
   "metadata": {
    "slideshow": {
     "slide_type": "skip"
    }
   },
   "outputs": [],
   "source": [
    "numbers[end]"
   ]
  },
  {
   "cell_type": "code",
   "execution_count": null,
   "metadata": {
    "scrolled": false,
    "slideshow": {
     "slide_type": "skip"
    }
   },
   "outputs": [],
   "source": [
    "numbers[end-1]"
   ]
  },
  {
   "cell_type": "markdown",
   "metadata": {
    "slideshow": {
     "slide_type": "fragment"
    }
   },
   "source": [
    "**<span style=\"color:#cfa1b8\">Slicing</span>**: to access a **subset** of elements. \n",
    "\n",
    "$\\text{array}[i_{start}, i_{end}]$"
   ]
  },
  {
   "cell_type": "code",
   "execution_count": null,
   "metadata": {
    "scrolled": false,
    "slideshow": {
     "slide_type": "skip"
    }
   },
   "outputs": [],
   "source": [
    "numbers[2:4]"
   ]
  },
  {
   "cell_type": "code",
   "execution_count": null,
   "metadata": {
    "scrolled": false,
    "slideshow": {
     "slide_type": "skip"
    }
   },
   "outputs": [],
   "source": [
    "numbers[2:end]"
   ]
  },
  {
   "cell_type": "markdown",
   "metadata": {
    "slideshow": {
     "slide_type": "subslide"
    }
   },
   "source": [
    "**<span style=\"color:#cfa1b8\">Concatenation</span>**: to **add** elements to an array.\n",
    "```julia\n",
    "numbers = [1, 2, 3, 4, 5]\n",
    "```\n"
   ]
  },
  {
   "cell_type": "markdown",
   "metadata": {
    "slideshow": {
     "slide_type": "fragment"
    }
   },
   "source": [
    " \n",
    "**Option 1**: Using the <span style=\"color:#cfa1a1\">splatting operator</span> ```...```\n",
    "\n"
   ]
  },
  {
   "cell_type": "markdown",
   "metadata": {
    "slideshow": {
     "slide_type": "skip"
    }
   },
   "source": [
    "$[\\text{array}...,\\text{elem}]$\n",
    "\n"
   ]
  },
  {
   "cell_type": "code",
   "execution_count": null,
   "metadata": {
    "slideshow": {
     "slide_type": "skip"
    }
   },
   "outputs": [],
   "source": [
    "[[1,2,3,4,5]..., 6] "
   ]
  },
  {
   "cell_type": "markdown",
   "metadata": {
    "slideshow": {
     "slide_type": "skip"
    }
   },
   "source": [
    "$[\\text{array}_1...,\\text{array}_2...]$\n",
    "\n"
   ]
  },
  {
   "cell_type": "code",
   "execution_count": null,
   "metadata": {
    "slideshow": {
     "slide_type": "skip"
    }
   },
   "outputs": [],
   "source": [
    "[[1,2,3,4,5]..., [6,7,8]...]"
   ]
  },
  {
   "cell_type": "markdown",
   "metadata": {
    "slideshow": {
     "slide_type": "subslide"
    }
   },
   "source": [
    "**Option 2**: Using the <span style=\"color:#cfa1a1\">vertical concatenation</span> function `vcat`\n",
    "\n",
    "vcat($\\text{array},\\text{elem}$)\n"
   ]
  },
  {
   "cell_type": "code",
   "execution_count": null,
   "metadata": {
    "slideshow": {
     "slide_type": "fragment"
    }
   },
   "outputs": [],
   "source": [
    "vcat([1,2,3,4,5], 6)"
   ]
  },
  {
   "cell_type": "code",
   "execution_count": null,
   "metadata": {
    "slideshow": {
     "slide_type": "skip"
    }
   },
   "outputs": [],
   "source": [
    "vcat([1,2,3,4,5], [6,7,8])"
   ]
  },
  {
   "cell_type": "markdown",
   "metadata": {
    "slideshow": {
     "slide_type": "skip"
    }
   },
   "source": [
    "Storing the results in a <span style=\"color:#cfa1a1\">variable</span>:"
   ]
  },
  {
   "cell_type": "code",
   "execution_count": null,
   "metadata": {
    "slideshow": {
     "slide_type": "skip"
    }
   },
   "outputs": [],
   "source": [
    "numbers = vcat([1,2,3,4,5], 6)\n",
    "numbers"
   ]
  },
  {
   "cell_type": "markdown",
   "metadata": {
    "slideshow": {
     "slide_type": "skip"
    }
   },
   "source": [
    "*How to access number $3$ in...*"
   ]
  },
  {
   "cell_type": "markdown",
   "metadata": {
    "slideshow": {
     "slide_type": "skip"
    }
   },
   "source": [
    "```julia\n",
    "numbers = [1, 2, 3, 4, 5, 6]\n",
    "```"
   ]
  },
  {
   "cell_type": "code",
   "execution_count": null,
   "metadata": {
    "slideshow": {
     "slide_type": "skip"
    }
   },
   "outputs": [],
   "source": [
    "#TODO"
   ]
  },
  {
   "cell_type": "markdown",
   "metadata": {
    "slideshow": {
     "slide_type": "skip"
    }
   },
   "source": [
    "*How to access number $8$ in...*\n",
    "\n",
    "```julia\n",
    "new_numbers = [numbers, [7,8]]\n",
    "```"
   ]
  },
  {
   "cell_type": "code",
   "execution_count": null,
   "metadata": {
    "slideshow": {
     "slide_type": "skip"
    }
   },
   "outputs": [],
   "source": [
    "new_numbers = [numbers, [7,8]]"
   ]
  },
  {
   "cell_type": "code",
   "execution_count": null,
   "metadata": {
    "slideshow": {
     "slide_type": "skip"
    }
   },
   "outputs": [],
   "source": [
    "#TODO"
   ]
  },
  {
   "cell_type": "markdown",
   "metadata": {
    "slideshow": {
     "slide_type": "subslide"
    }
   },
   "source": [
    "#### <span style=\"color:#cfa1b8\">Example</span>: Storing the squares of a range of number "
   ]
  },
  {
   "cell_type": "markdown",
   "metadata": {
    "slideshow": {
     "slide_type": "fragment"
    }
   },
   "source": [
    "\n",
    "<div style=\"display: flex; align-items: flex-start;\">\n",
    "  <div style=\"flex: 1; padding-right: 50px;\">\n",
    "\n",
    "\n",
    "<pre>\n",
    "<strong>\n",
    "[<span style=\"color:#bb99ff;\">loop body</span> for <span style=\"color:#B4F8C8;\">variable</span></strong> in <strong><span style=\"color:#A0E7E5;\">collection</span>]\n",
    "</strong>\n",
    "</pre>\n",
    "\n",
    "\n",
    "</div> \n",
    "<div style=\"flex: 1; padding-left: 1px;\">\n",
    "\n",
    "<pre>\n",
    "for <strong><span style=\"color:#B4F8C8;\">variable</span></strong> in <strong><span style=\"color:#A0E7E5;\">collection</span>\n",
    "    <span style=\"color:#bb99ff;\">loop body</span></strong>\n",
    "end </pre"
   ]
  },
  {
   "cell_type": "code",
   "execution_count": null,
   "metadata": {
    "slideshow": {
     "slide_type": "fragment"
    }
   },
   "outputs": [],
   "source": [
    "squares(ns) = [i^2 for i in ns]"
   ]
  },
  {
   "cell_type": "code",
   "execution_count": null,
   "metadata": {
    "slideshow": {
     "slide_type": "fragment"
    }
   },
   "outputs": [],
   "source": [
    "squares([1,2,3])"
   ]
  },
  {
   "cell_type": "code",
   "execution_count": null,
   "metadata": {
    "slideshow": {
     "slide_type": "fragment"
    }
   },
   "outputs": [],
   "source": [
    "# numbers = [1, 2, 3, 4, 5]\n",
    "squares(numbers)"
   ]
  },
  {
   "cell_type": "markdown",
   "metadata": {
    "slideshow": {
     "slide_type": "skip"
    }
   },
   "source": [
    "**Step-by-step**"
   ]
  },
  {
   "cell_type": "markdown",
   "metadata": {
    "slideshow": {
     "slide_type": "skip"
    }
   },
   "source": [
    "$i$ iterates over the range $[1,2,3]$\n",
    "\n",
    "```julia\n",
    "[... for i in [1,2,3]]\n",
    "```"
   ]
  },
  {
   "cell_type": "markdown",
   "metadata": {
    "slideshow": {
     "slide_type": "skip"
    }
   },
   "source": [
    "For each value, the respective square is computed: $i^2$"
   ]
  },
  {
   "cell_type": "markdown",
   "metadata": {
    "slideshow": {
     "slide_type": "skip"
    }
   },
   "source": [
    "* when $i=1 \\rightarrow 1^2$"
   ]
  },
  {
   "cell_type": "markdown",
   "metadata": {
    "slideshow": {
     "slide_type": "skip"
    }
   },
   "source": [
    "```julia\n",
    "    [1 ...\n"
   ]
  },
  {
   "cell_type": "markdown",
   "metadata": {
    "slideshow": {
     "slide_type": "skip"
    }
   },
   "source": [
    "* when $i=2 \\rightarrow 2^2$"
   ]
  },
  {
   "cell_type": "markdown",
   "metadata": {
    "slideshow": {
     "slide_type": "skip"
    }
   },
   "source": [
    "```julia\n",
    "    [1, 4, ...\n"
   ]
  },
  {
   "cell_type": "markdown",
   "metadata": {
    "slideshow": {
     "slide_type": "skip"
    }
   },
   "source": [
    "* when $i=3 \\rightarrow 3^2$"
   ]
  },
  {
   "cell_type": "markdown",
   "metadata": {
    "slideshow": {
     "slide_type": "skip"
    }
   },
   "source": [
    "```julia\n",
    "    [1, 4, 9]\n"
   ]
  },
  {
   "cell_type": "markdown",
   "metadata": {
    "slideshow": {
     "slide_type": "subslide"
    }
   },
   "source": [
    "#### <span style=\"color:#cfa1b8;\">Examples</span> using geometric primitives"
   ]
  },
  {
   "cell_type": "markdown",
   "metadata": {
    "slideshow": {
     "slide_type": "skip"
    }
   },
   "source": [
    "##### <span style=\"color:#cfa1a1\">**1.**</span> Regular Polygon"
   ]
  },
  {
   "cell_type": "markdown",
   "metadata": {
    "slideshow": {
     "slide_type": "fragment"
    }
   },
   "source": [
    "\n",
    "<center><img src=\"images/polygon.jpg\" width=\"400\" height=\"400\"></center>"
   ]
  },
  {
   "cell_type": "markdown",
   "metadata": {
    "slideshow": {
     "slide_type": "fragment"
    }
   },
   "source": [
    "<pre>\n",
    "poligono_regular(p, r, αi, n) =\n",
    "    ...\n",
    "</pre>\n",
    "\n",
    "Parameters:\n",
    "- The centre point $P$.\n",
    "- The radius size $r$. \n",
    "- The number of sides $n$.\n",
    "- The inclination of the first vertice $\\alpha_i$.\n",
    "\n"
   ]
  },
  {
   "cell_type": "markdown",
   "metadata": {
    "slideshow": {
     "slide_type": "subslide"
    }
   },
   "source": [
    "**<span style=\"color:#cfa1a1\">Step 1</span>**: Calculating the angular distance between vertices ($Δ\\alpha$)"
   ]
  },
  {
   "cell_type": "markdown",
   "metadata": {
    "slideshow": {
     "slide_type": "fragment"
    }
   },
   "source": [
    "<div style=\"display: flex; align-items: flex-start;\">\n",
    "  <div style=\"flex: 1; padding-right: 100px;\">\n",
    "  \n",
    "<pre>\n",
    "\n",
    "poligono_regular(p, r, αi, n) =\n",
    "    let <strong>Δα</strong> = 2pi/n\n",
    "     ...\n",
    "    end\n",
    "</pre>\n",
    "\n",
    " </div> \n",
    "  <div style=\"flex: 1; padding-left: 10px;\">\n",
    "  \n",
    "<center><img src=\"images/regular_polygon1.jpg\" width=\"400\" height=\"400\"></center>"
   ]
  },
  {
   "cell_type": "markdown",
   "metadata": {
    "slideshow": {
     "slide_type": "fragment"
    }
   },
   "source": [
    "**<span style=\"color:#cfa1a1\">Step 2</span>**: Calculating the vertices' coordinates ($pts$)"
   ]
  },
  {
   "cell_type": "markdown",
   "metadata": {
    "slideshow": {
     "slide_type": "fragment"
    }
   },
   "source": [
    "<div style=\"display: flex; align-items: flex-start;\">\n",
    "  <div style=\"flex: 1; padding-right: 100px;\">\n",
    "\n",
    "$ pts \\rightarrow [p_1, \\dots, p_n] $\n",
    "\n",
    "<pre>\n",
    "\n",
    "poligono_regular(p, r, αi, n) =\n",
    "    let Δα = 2pi/n\n",
    "        <strong>pts</strong> = ???\n",
    "     ...\n",
    "    end\n",
    "</pre>\n",
    "\n",
    "\n",
    "\n",
    "\n",
    "</div> \n",
    "  <div style=\"flex: 1; padding-left: 10px;\">\n",
    "  \n",
    "<center><img src=\"images/regular_polygon2.jpg\" width=\"400\" height=\"400\"></center>"
   ]
  },
  {
   "cell_type": "markdown",
   "metadata": {
    "slideshow": {
     "slide_type": "subslide"
    }
   },
   "source": [
    "**<span style=\"color:#cfa1a1\">Step 3</span>**: Drawing a line through the points"
   ]
  },
  {
   "cell_type": "markdown",
   "metadata": {
    "slideshow": {
     "slide_type": "fragment"
    }
   },
   "source": [
    "<div style=\"display: flex; align-items: flex-start;\">\n",
    "  <div style=\"flex: 1; padding-right: 100px;\">\n",
    "  \n",
    "<pre>\n",
    "\n",
    "poligono_regular(p, r, αi, n) =\n",
    "    let Δα = 2pi/n\n",
    "        pts = ???\n",
    "     <strong>line</strong>(pts)\n",
    "    end\n",
    "</pre>\n",
    "\n",
    " </div> \n",
    "  <div style=\"flex: 1; padding-left: 10px;\">\n",
    "  \n",
    "<center><img src=\"images/regular_polygon3.jpg\" width=\"290\" height=\"290\"></center>"
   ]
  },
  {
   "cell_type": "markdown",
   "metadata": {
    "slideshow": {
     "slide_type": "fragment"
    }
   },
   "source": [
    "**Calculating the vertices**: $ pts \\rightarrow [p_1, \\dots, p_n] $"
   ]
  },
  {
   "cell_type": "markdown",
   "metadata": {
    "slideshow": {
     "slide_type": "subslide"
    }
   },
   "source": [
    "<div style=\"display: flex; align-items: flex-start;\">\n",
    "  <div style=\"flex: 1; padding-right: 100px;\">\n",
    "  \n",
    "```julia\n",
    "p1 = p + vpol(r, αi)\n",
    "```\n",
    "\n",
    " </div> \n",
    "  <div style=\"flex: 1; padding-left: 10px;\">\n",
    "  \n",
    "<center><img src=\"images/regular_polygon4.jpg\" width=\"400\" height=\"400\"></center>"
   ]
  },
  {
   "cell_type": "markdown",
   "metadata": {
    "slideshow": {
     "slide_type": "fragment"
    }
   },
   "source": [
    "<div style=\"display: flex; align-items: flex-start;\">\n",
    "  <div style=\"flex: 1; padding-right: 100px;\">\n",
    "  \n",
    "```julia\n",
    "p2 = p + vpol(r, αi + Δα)\n",
    "```\n",
    "\n",
    " </div> \n",
    "  <div style=\"flex: 1; padding-left: 10px;\">\n",
    "  \n",
    "<center><img src=\"images/regular_polygon5.jpg\" width=\"400\" height=\"400\"></center>"
   ]
  },
  {
   "cell_type": "markdown",
   "metadata": {
    "slideshow": {
     "slide_type": "subslide"
    }
   },
   "source": [
    "\n",
    "<div style=\"display: flex; align-items: flex-start;\">\n",
    "  <div style=\"flex: 1; padding-right: 100px;\">\n",
    "  \n",
    "```julia\n",
    "p3 = p + vpol(r, αi + 2*Δα)\n",
    "```\n",
    "\n",
    " </div> \n",
    "  <div style=\"flex: 1; padding-left: 10px;\">\n",
    "  \n",
    "<center><img src=\"images/regular_polygon6.jpg\" width=\"400\" height=\"400\"></center>"
   ]
  },
  {
   "cell_type": "markdown",
   "metadata": {
    "slideshow": {
     "slide_type": "fragment"
    }
   },
   "source": [
    "\n",
    "<div style=\"display: flex; align-items: flex-start;\">\n",
    "  <div style=\"flex: 1; padding-right: 100px;\">\n",
    "...\n",
    "\n",
    "```julia\n",
    "pn = p + vpol(r, αi + (n-1)*Δα)\n",
    "```\n",
    "\n",
    " </div> \n",
    "  <div style=\"flex: 1; padding-left: 10px;\">\n",
    "  \n",
    "<center><img src=\"images/regular_polygon8.jpg\" width=\"400\" height=\"400\"></center>"
   ]
  },
  {
   "cell_type": "markdown",
   "metadata": {
    "slideshow": {
     "slide_type": "subslide"
    }
   },
   "source": [
    "**1**. Generalizing the expression:"
   ]
  },
  {
   "cell_type": "markdown",
   "metadata": {
    "slideshow": {
     "slide_type": "fragment"
    }
   },
   "source": [
    "<div style=\"display: flex; align-items: flex-start;\">\n",
    "  <div style=\"flex: 1; padding-right: 100px;\">\n",
    "  \n",
    "```julia\n",
    "p1 = p + vpol(r, αi + 0*Δα)\n",
    "p2 = p + vpol(r, αi + 1*Δα)\n",
    "p3 = p + vpol(r, αi + 2*Δα)\n",
    "...\n",
    "pn = p + vpol(r, αi + (n-1)*Δα)\n",
    "```\n",
    "\n",
    " </div> \n",
    "  <div style=\"flex: 1; padding-left: 10px;\">\n",
    "  \n",
    "<center><img src=\"images/regular_polygon8.jpg\" width=\"400\" height=\"400\"></center>"
   ]
  },
  {
   "cell_type": "markdown",
   "metadata": {
    "slideshow": {
     "slide_type": "fragment"
    }
   },
   "source": [
    "```julia\n",
    "p + vpol(r, αi + i*Δα)\n",
    "```"
   ]
  },
  {
   "cell_type": "markdown",
   "metadata": {
    "slideshow": {
     "slide_type": "subslide"
    }
   },
   "source": [
    "**2**. Calculating each vertice iteratively:"
   ]
  },
  {
   "cell_type": "markdown",
   "metadata": {
    "slideshow": {
     "slide_type": "fragment"
    }
   },
   "source": [
    "\n",
    "<div style=\"display: flex; align-items: flex-start;\">\n",
    "  <div style=\"flex: 1; padding-right: 100px;\">\n",
    "\n",
    "```julia\n",
    "p + vpol(r, αi + i*Δα) for i in 0:n-1\n",
    "\n",
    "```\n",
    "\n",
    " </div> \n",
    "  <div style=\"flex: 1; padding-left: 10px;\">\n",
    "  \n",
    "<center><img src=\"images/regular_polygon9.jpg\" width=\"400\" height=\"400\"></center>"
   ]
  },
  {
   "cell_type": "markdown",
   "metadata": {
    "slideshow": {
     "slide_type": "fragment"
    }
   },
   "source": [
    "**3**. Storing the results in an *array*:"
   ]
  },
  {
   "cell_type": "markdown",
   "metadata": {
    "slideshow": {
     "slide_type": "fragment"
    }
   },
   "source": [
    "```julia\n",
    "pts = [p + vpol(r, αi + i*Δα) for i in 0:n-1]\n",
    "```\n"
   ]
  },
  {
   "cell_type": "code",
   "execution_count": null,
   "metadata": {
    "slideshow": {
     "slide_type": "subslide"
    }
   },
   "outputs": [],
   "source": [
    "@illustrator poligono_regular(p, r, α_i, n) =\n",
    "    let Δα = 2pi/n\n",
    "        pts = [p + vpol(r, α_i + i*Δα) for i in 0:n-1]\n",
    "      polygon(pts)\n",
    "    end;"
   ]
  },
  {
   "cell_type": "code",
   "execution_count": null,
   "metadata": {
    "slideshow": {
     "slide_type": "fragment"
    }
   },
   "outputs": [],
   "source": [
    "delete_all_shapes()\n",
    "render_size(1200, 700)\n",
    "@illustrator begin\n",
    "    poligono_regular(x(0), 4, pi/5, 5)\n",
    "    poligono_regular(x(10), 5, pi/8, 6)\n",
    "end\n",
    "render_view()"
   ]
  },
  {
   "cell_type": "code",
   "execution_count": null,
   "metadata": {
    "slideshow": {
     "slide_type": "skip"
    }
   },
   "outputs": [],
   "source": [
    "delete_all_shapes()\n",
    "@illustrator poligono_regular(x(4), 6, pi/8, 6)\n",
    "render_view()"
   ]
  },
  {
   "cell_type": "markdown",
   "metadata": {
    "slideshow": {
     "slide_type": "subslide"
    }
   },
   "source": [
    "##### <span style=\"color:#cfa1a1\">**Example:**</span> Star-shape"
   ]
  },
  {
   "cell_type": "markdown",
   "metadata": {},
   "source": [
    "<center><img src=\"images/star.jpg\" width=\"450\" height=\"420\"></center>"
   ]
  },
  {
   "cell_type": "markdown",
   "metadata": {
    "slideshow": {
     "slide_type": "subslide"
    }
   },
   "source": [
    "**Parameters**"
   ]
  },
  {
   "cell_type": "markdown",
   "metadata": {
    "slideshow": {
     "slide_type": "fragment"
    }
   },
   "source": [
    "\n",
    "<div style=\"display: flex; align-items: flex-start;\">\n",
    "  <div style=\"flex: 1; padding-right: 200px;\">\n",
    "  \n",
    "- The star's centre point $P$.\n",
    "- The number of outer vertices $n$.\n",
    "- The inner vertices radius size $r_{in}$.\n",
    "- The outer vertices radius size $r_{out}$. \n",
    "- The inclination of the first outer vertice $\\alpha_i$.\n",
    "\n",
    " </div> \n",
    "  <div style=\"flex: 1; padding-left: 10px;\">\n",
    "  \n",
    "<center><img src=\"images/star1.jpg\" width=\"400\" height=\"400\"></center>\n"
   ]
  },
  {
   "cell_type": "markdown",
   "metadata": {
    "slideshow": {
     "slide_type": "subslide"
    }
   },
   "source": [
    "<span style=\"color:#cfa1a1\">Step 1</span> - Calculating the angular distance $Δ\\alpha$ between inner and outer vertices"
   ]
  },
  {
   "cell_type": "markdown",
   "metadata": {
    "slideshow": {
     "slide_type": "fragment"
    }
   },
   "source": [
    "$n=Nº$ outer vertices\n",
    "\n",
    "$2n= $ Total $Nº$ vertices\n"
   ]
  },
  {
   "cell_type": "markdown",
   "metadata": {
    "slideshow": {
     "slide_type": "fragment"
    }
   },
   "source": [
    "\n",
    "\n",
    "<div style=\"display: flex; align-items: flex-start;\">\n",
    "  <div style=\"flex: 1; padding-right: 320px;\">\n",
    "  \n",
    "<pre>\n",
    "star(p, n, r_in, r_out, αi) =\n",
    "    let <strong>Δα</strong> = 2pi/(2n)\n",
    "      ...\n",
    "    end\n",
    "</pre>\n",
    "\n",
    " </div> \n",
    "  <div style=\"flex: 1; padding-left: 10px;\">\n",
    "  \n",
    "<center><img src=\"images/star4.jpg\" width=\"400\" height=\"400\"></center>"
   ]
  },
  {
   "cell_type": "markdown",
   "metadata": {
    "slideshow": {
     "slide_type": "subslide"
    }
   },
   "source": [
    "<span style=\"color:#cfa1a1\">Step 2</span> - Calculating the vertices coordinates"
   ]
  },
  {
   "cell_type": "markdown",
   "metadata": {
    "slideshow": {
     "slide_type": "fragment"
    }
   },
   "source": [
    "<div style=\"display: flex; align-items: flex-start;\">\n",
    "  <div style=\"flex: 1; padding-right: 320px;\">\n",
    "\n",
    "\n",
    "$ pts \\rightarrow [p_1, \\dots, p_{2n}] $\n",
    "\n",
    "<pre>\n",
    "\n",
    "star(p, n, r_in, r_out, αi) =\n",
    "    let Δα = 2pi/(2n)\n",
    "        <strong>pts</strong> = ??\n",
    "      ...\n",
    "    end\n",
    "</pre>\n",
    "\n",
    " </div> \n",
    "  <div style=\"flex: 1; padding-left: 10px;\">\n",
    "  \n",
    "<center><img src=\"images/star6.jpg\" width=\"400\" height=\"400\"></center>"
   ]
  },
  {
   "cell_type": "markdown",
   "metadata": {
    "slideshow": {
     "slide_type": "subslide"
    }
   },
   "source": [
    "<div style=\"display: flex; align-items: flex-start;\">\n",
    "  <div style=\"flex: 1; padding-right: 200px;\">\n",
    "  \n",
    "```julia\n",
    "p1 = p + vpol(r_out, αi)\n",
    "p2 = p + vpol(r_in, αi + Δα)\n",
    "p3 = p + vpol(r_out, αi + 2*Δα)\n",
    "p4 = p + vpol(r_in, αi + 3*Δα)\n",
    "...\n",
    "pn = p + vpol(r_in, αi + (2n-1)*Δα)\n",
    "```\n",
    "\n",
    " </div> \n",
    "  <div style=\"flex: 1; padding-left: 10px;\">\n",
    "  \n",
    "<center><img src=\"images/star7.jpg\" width=\"400\" height=\"400\"></center>\n",
    "\n"
   ]
  },
  {
   "cell_type": "markdown",
   "metadata": {
    "slideshow": {
     "slide_type": "fragment"
    }
   },
   "source": [
    "<pre>p + vpol(<strong><span style=\"color:#a1a1cf\">r</span></strong>, αi + (2n-1)*Δα) </pre>\n",
    "\n",
    "where <span style=\"color:#a1a1cf\">**r**</span> alternates between <span style=\"color:#b8a1cf\">r_out</span> and <span style=\"color:#b8a1cf\">r_in</span>"
   ]
  },
  {
   "cell_type": "markdown",
   "metadata": {
    "slideshow": {
     "slide_type": "subslide"
    }
   },
   "source": [
    "<div style=\"display: flex; align-items: flex-start;\">\n",
    "  <div style=\"flex: 1; padding-right: 355px;\">\n",
    "\n",
    "<pre>\n",
    "p + vpol(<strong><span style=\"color:#a1a1cf\">r</span></strong>, αi + <strong><span style=\"color:#cfa1b8\">i</span></strong>*Δα) </pre>\n",
    "\n",
    "<center>where</center>\n",
    "\n",
    "<span style=\"color:#cfa1b8\">**i**</span> iterates over $[0,1,2,\\dots,2n-1]$\n",
    "\n",
    "<span style=\"color:#a1a1cf\">**r**</span> iterates over $[r_{out}, r_{in}, r_{out}, \\dots, r_{in}]$\n",
    "\n",
    "\n",
    " </div> \n",
    "  <div style=\"flex: 1; padding-left: 10px;\">\n",
    "  \n",
    "<center><img src=\"images/star8.jpg\" width=\"400\" height=\"400\"></center>"
   ]
  },
  {
   "cell_type": "markdown",
   "metadata": {
    "slideshow": {
     "slide_type": "fragment"
    }
   },
   "source": [
    "```julia\n",
    "p + vpol(r, αi + i*Δα)\n",
    "for (i,r) in \n",
    "zip(0:2*n-1, \n",
    "    cycle([r_out,r_in]))\n",
    "\n",
    "```"
   ]
  },
  {
   "cell_type": "markdown",
   "metadata": {
    "slideshow": {
     "slide_type": "subslide"
    }
   },
   "source": [
    "<span style=\"color:#cfa1a1\">Step 3</span> - Storing the results in an *array*"
   ]
  },
  {
   "cell_type": "markdown",
   "metadata": {
    "slideshow": {
     "slide_type": "fragment"
    }
   },
   "source": [
    "```julia\n",
    "pts = [p + vpol(r, αi + i*Δα)\n",
    "       for (i,r) in \n",
    "       zip(0:2*n-1, \n",
    "           cycle([r_out,r_in]))]\n",
    "```"
   ]
  },
  {
   "cell_type": "code",
   "execution_count": null,
   "metadata": {
    "slideshow": {
     "slide_type": "subslide"
    }
   },
   "outputs": [],
   "source": [
    "using Base.Iterators"
   ]
  },
  {
   "cell_type": "code",
   "execution_count": null,
   "metadata": {
    "slideshow": {
     "slide_type": "fragment"
    }
   },
   "outputs": [],
   "source": [
    "star(p, n, r_in, r_out, αi) =\n",
    "    let Δα = 2*pi/(2n)\n",
    "        pts = [p + vpol(r, αi + i*Δα)\n",
    "               for (i,r) in \n",
    "               zip(0:2*n-1, cycle([r_out, r_in]))]\n",
    "        polygon(pts)\n",
    "    end;"
   ]
  },
  {
   "cell_type": "code",
   "execution_count": null,
   "metadata": {
    "slideshow": {
     "slide_type": "fragment"
    }
   },
   "outputs": [],
   "source": [
    "delete_all_shapes()\n",
    "star(u0(), 5, 2, 6, 0)\n",
    "render_view()"
   ]
  },
  {
   "cell_type": "code",
   "execution_count": null,
   "metadata": {
    "slideshow": {
     "slide_type": "subslide"
    }
   },
   "outputs": [],
   "source": [
    "@illustrator star(p, n, r_in, r_out, αi) =\n",
    "    let Δα = 2*pi/(2n)\n",
    "        pts = [p + vpol(r, αi + i*Δα)\n",
    "               for (i,r) in \n",
    "               zip(0:2*n-1, cycle([r_out, r_in]))]\n",
    "        polygon(pts)\n",
    "        end;"
   ]
  },
  {
   "cell_type": "code",
   "execution_count": null,
   "metadata": {
    "slideshow": {
     "slide_type": "fragment"
    }
   },
   "outputs": [],
   "source": [
    "delete_all_shapes()\n",
    "\n",
    "with(for_steps_limit, 2) do \n",
    "    @illustrator star(u0(), 5, 2, 4, 0)\n",
    "end\n",
    "\n",
    "render_view()"
   ]
  },
  {
   "cell_type": "code",
   "execution_count": null,
   "metadata": {
    "slideshow": {
     "slide_type": "subslide"
    }
   },
   "outputs": [],
   "source": [
    "@illustrator star(p, n, r_in, r_out, αi) =\n",
    "    let Δα = 2*pi/(2n)\n",
    "        pts = [p + vpol(r, αi + i*Δα)\n",
    "               for (i,r) in \n",
    "               zip(0:2*n-1, cycle([r_out, r_in]))]\n",
    "        polygon(pts)\n",
    "         end;"
   ]
  },
  {
   "cell_type": "code",
   "execution_count": null,
   "metadata": {
    "slideshow": {
     "slide_type": "-"
    }
   },
   "outputs": [],
   "source": [
    "delete_all_shapes()\n",
    "\n",
    "@illustrator star(u0(), 8, 2, 4, 0)\n",
    "render_view()"
   ]
  },
  {
   "cell_type": "markdown",
   "metadata": {
    "slideshow": {
     "slide_type": "slide"
    }
   },
   "source": [
    "## Randomness"
   ]
  },
  {
   "cell_type": "markdown",
   "metadata": {
    "slideshow": {
     "slide_type": "subslide"
    }
   },
   "source": [
    "The previous designs are <span style=\"color:#cfa1cf\">**predictable**</span>.\n",
    "\n"
   ]
  },
  {
   "cell_type": "markdown",
   "metadata": {
    "slideshow": {
     "slide_type": "fragment"
    }
   },
   "source": [
    "To obtain more unpredictable results, <span style=\"color:#cfa1cf\">**randomness**</span> can be incorporated."
   ]
  },
  {
   "cell_type": "markdown",
   "metadata": {
    "slideshow": {
     "slide_type": "fragment"
    }
   },
   "source": [
    "```random(a)``` to generate a random number $n$ between 0 and $a$, with $0≤n<a$."
   ]
  },
  {
   "cell_type": "code",
   "execution_count": null,
   "metadata": {
    "slideshow": {
     "slide_type": "fragment"
    }
   },
   "outputs": [],
   "source": [
    "random(10)"
   ]
  },
  {
   "cell_type": "code",
   "execution_count": null,
   "metadata": {
    "slideshow": {
     "slide_type": "fragment"
    }
   },
   "outputs": [],
   "source": [
    "random(5.0)"
   ]
  },
  {
   "cell_type": "markdown",
   "metadata": {
    "slideshow": {
     "slide_type": "subslide"
    }
   },
   "source": [
    "```random_range(a,b)``` to generate a random number $n$ between two values $(a,b)$, with $a≤n<b$."
   ]
  },
  {
   "cell_type": "code",
   "execution_count": null,
   "metadata": {
    "slideshow": {
     "slide_type": "fragment"
    }
   },
   "outputs": [],
   "source": [
    "random_range(1,3) "
   ]
  },
  {
   "cell_type": "code",
   "execution_count": null,
   "metadata": {
    "slideshow": {
     "slide_type": "fragment"
    }
   },
   "outputs": [],
   "source": [
    "random_range(1.5,5)"
   ]
  },
  {
   "cell_type": "markdown",
   "metadata": {
    "slideshow": {
     "slide_type": "subslide"
    }
   },
   "source": [
    "Examples of <span style=\"color:#cfa1cf\">**random**</span> choices:"
   ]
  },
  {
   "cell_type": "markdown",
   "metadata": {
    "slideshow": {
     "slide_type": "fragment"
    }
   },
   "source": [
    "- Randomly varying an element **size** within a range."
   ]
  },
  {
   "cell_type": "code",
   "execution_count": null,
   "metadata": {
    "slideshow": {
     "slide_type": "fragment"
    }
   },
   "outputs": [],
   "source": [
    "delete_all_shapes()\n",
    "render_size(500,400)\n",
    "\n",
    "rectangle(u0(), random_range(1,8.0), random_range(1,8.0))\n",
    "rectangle(u0(), random_range(1,8.0), random_range(1,8.0))\n",
    "rectangle(u0(), random_range(1,8.0), random_range(1,8.0))\n",
    "rectangle(u0(), random_range(1,8.0), random_range(1,8.0))\n",
    "render_view()"
   ]
  },
  {
   "cell_type": "markdown",
   "metadata": {
    "slideshow": {
     "slide_type": "subslide"
    }
   },
   "source": [
    "- Randomnly **placing** an element in space."
   ]
  },
  {
   "cell_type": "code",
   "execution_count": null,
   "metadata": {
    "slideshow": {
     "slide_type": "fragment"
    }
   },
   "outputs": [],
   "source": [
    "delete_all_shapes()\n",
    "\n",
    "circle(xy(random(10), random(10)), 0.5)\n",
    "circle(xy(random(10), random(10)), 1)\n",
    "circle(xy(random(10), random(10)), 1.5)\n",
    "circle(xy(random(10), random(10)), 2)\n",
    "circle(xy(random(10), random(10)), 2.5)\n",
    "circle(xy(random(10), random(10)), 3)\n",
    "render_view()"
   ]
  },
  {
   "cell_type": "markdown",
   "metadata": {
    "slideshow": {
     "slide_type": "subslide"
    }
   },
   "source": [
    "- Randomly selecting the **number of sides** of an element."
   ]
  },
  {
   "cell_type": "code",
   "execution_count": null,
   "metadata": {
    "slideshow": {
     "slide_type": "fragment"
    }
   },
   "outputs": [],
   "source": [
    "delete_all_shapes()\n",
    "\n",
    "star(x(0), random_range(3,10), 1, 2.5, 0)\n",
    "star(x(6), random_range(3,10), 1, 2.5, 0)\n",
    "star(x(12), random_range(3,10), 1, 2.5, 0)\n",
    "star(xy(0,6), random_range(3,10), 1, 2.5, 0)\n",
    "star(xy(6,6), random_range(3,10), 1, 2.5, 0)\n",
    "star(xy(12,6), random_range(3,10), 1, 2.5, 0)\n",
    "render_view()"
   ]
  },
  {
   "cell_type": "markdown",
   "metadata": {
    "slideshow": {
     "slide_type": "subslide"
    }
   },
   "source": [
    "#### <span style=\"color:#cfa1b8\">**1.**</span> Circles inside a circle"
   ]
  },
  {
   "cell_type": "markdown",
   "metadata": {},
   "source": [
    "Imagine a function that creates randomly sized circles inside a circle:\n",
    "\n",
    "<center><img src=\"images/circulos_torus.png\" width=\"450\" height=\"440\"></center>"
   ]
  },
  {
   "cell_type": "markdown",
   "metadata": {
    "slideshow": {
     "slide_type": "subslide"
    }
   },
   "source": [
    "**Parameters**"
   ]
  },
  {
   "cell_type": "markdown",
   "metadata": {
    "slideshow": {
     "slide_type": "fragment"
    }
   },
   "source": [
    "<div style=\"display: flex; align-items: flex-start;\">\n",
    "  <div style=\"flex: 1; padding-right: 140px;\">\n",
    "\n",
    "- The centre point: $P$.\n",
    "      \n",
    "- The minimum distance between <br> the circles centers and $P$: $r_{min}$\n",
    "      \n",
    "- The maximum distance between <br> the circles centers and $P$: $r_{max}$\n",
    "      \n",
    "- The number of circles to create: $n$\n",
    "\n",
    "\n",
    " </div> \n",
    "  <div style=\"flex: 1; padding-left: 100px;\">\n",
    "  \n",
    "<center><img src=\"images/random_circles1.jpg\" width=\"500\" height=\"500\"></center>"
   ]
  },
  {
   "cell_type": "markdown",
   "metadata": {
    "slideshow": {
     "slide_type": "fragment"
    }
   },
   "source": [
    "<pre> circulos_no_circulo(p, r_min, r_max, n) = \n",
    "    ...\n",
    "    </pre>"
   ]
  },
  {
   "cell_type": "markdown",
   "metadata": {
    "slideshow": {
     "slide_type": "subslide"
    }
   },
   "source": [
    "To create $n$ circles:"
   ]
  },
  {
   "cell_type": "markdown",
   "metadata": {
    "slideshow": {
     "slide_type": "fragment"
    }
   },
   "source": [
    "<pre> circulos_no_circulo(p, r_min, r_max, n) = \n",
    "    for i in 1:n\n",
    "        circle(..., ...)\n",
    "    end\n",
    "    </pre>"
   ]
  },
  {
   "cell_type": "markdown",
   "metadata": {
    "slideshow": {
     "slide_type": "fragment"
    }
   },
   "source": [
    "To randomly control the circles' <span style=\"color:#cfa1cf\">position</span></strong> and <span style=\"color:#a1a1cf\">size</span>:"
   ]
  },
  {
   "cell_type": "markdown",
   "metadata": {
    "slideshow": {
     "slide_type": "fragment"
    }
   },
   "source": [
    "<pre> circulos_no_circulo(p, r_min, r_max, n) = \n",
    "    for i in 1:n\n",
    "        circle(<strong><span style=\"color:#cfa1cf\">pt</span></strong>, <strong><span style=\"color:#a1a1cf\">r</span></strong>)\n",
    "    end\n",
    "    </pre>\n",
    "\n",
    "where <span style=\"color:#cfa1cf\">pt</span> and <span style=\"color:#a1a1cf\">r</span> randomnly change at each iteration."
   ]
  },
  {
   "cell_type": "markdown",
   "metadata": {
    "slideshow": {
     "slide_type": "subslide"
    }
   },
   "source": [
    "<div style=\"display: flex; align-items: flex-start;\">\n",
    "  <div style=\"flex: 1; padding-right: 305px;\">\n",
    "\n",
    "$ \\color{#cfa1cf}{pt}= \\text{p} + \\text{vpol}(\\rho_{rand}, \\alpha_{rand})$\n",
    "\n",
    "$\\rho_{rand} \\rightarrow [r_{min},r_{max}]$\n",
    "\n",
    "$\\alpha_{rand} \\rightarrow [0,2\\pi]$\n",
    "\n",
    "\n",
    "\n",
    " </div> \n",
    "  <div style=\"flex: 1; padding-left: 100px;\">\n",
    "  \n",
    "<center><img src=\"images/random_circles2.jpg\" width=\"500\" height=\"460\"></center>"
   ]
  },
  {
   "cell_type": "markdown",
   "metadata": {
    "slideshow": {
     "slide_type": "fragment"
    }
   },
   "source": [
    "```julia\n",
    "ρ_rand = random_range(r_int, r_ext)\n",
    "α_rand = random(2π)\n",
    "```"
   ]
  },
  {
   "cell_type": "markdown",
   "metadata": {
    "slideshow": {
     "slide_type": "subslide"
    }
   },
   "source": [
    "<div style=\"display: flex; align-items: flex-start;\">\n",
    "  <div style=\"flex: 1; padding-right: 400px;\">\n",
    "\n",
    "<strong><span style=\"color:#a1a1cf\">r</span></strong> $∈[0,Δr]$\n",
    "\n",
    "where Δr = $r_{max}$ $-$ $r_{min}$\n",
    "\n",
    "\n",
    " </div>\n",
    "  <div style=\"flex: 1; padding-left: 100px;\">\n",
    "  \n",
    "<center><img src=\"images/random_circles3.jpg\" width=\"500\" height=\"400\"></center>"
   ]
  },
  {
   "cell_type": "markdown",
   "metadata": {
    "slideshow": {
     "slide_type": "fragment"
    }
   },
   "source": [
    "```julia\n",
    "r_rand = r_max - ρ_rand\n",
    "```"
   ]
  },
  {
   "cell_type": "markdown",
   "metadata": {
    "slideshow": {
     "slide_type": "subslide"
    }
   },
   "source": [
    "<pre> circulos_no_circulo(p, r_min, r_max, n) = \n",
    "    for i in 1:n\n",
    "        let <strong><span style=\"color:#a1a1cf\">ρ_rand</span></strong> = random_range(r_min, r_max)\n",
    "            <strong><span style=\"color:#b8a1cf\">α_rand</span></strong> = random(2π)\n",
    "            <strong><span style=\"color:#cfa1cf\">r_rand</span></strong> = r_max - <strong><span style=\"color:#a1a1cf\">ρ_rand</span></strong>\n",
    "            ...\n",
    "          circle(<span style=\"color:#d7dbdd\">...</span>, <span style=\"color:#d7dbdd\">...</span>)\n",
    "        end\n",
    "    end\n",
    "    </pre>"
   ]
  },
  {
   "cell_type": "markdown",
   "metadata": {
    "slideshow": {
     "slide_type": "subslide"
    }
   },
   "source": [
    "<pre> circulos_no_circulo(p, r_min, r_max, n) = \n",
    "    for i in 1:n\n",
    "        let <strong><span style=\"color:#a1a1cf\">ρ_rand</span></strong> = random_range(r_min, r_max)\n",
    "            <strong><span style=\"color:#b8a1cf\">α_rand</span></strong> = random(2π)\n",
    "            <strong><span style=\"color:#cfa1cf\">r_rand</span></strong> = r_max - <strong><span style=\"color:#a1a1cf\">ρ_rand</span></strong>\n",
    "            <strong><span style=\"color:#cfa1a1\">p_rand</span></strong> = p + vpol(<strong><span style=\"color:#a1a1cf\">ρ_rand</span></strong>, <strong><span style=\"color:#b8a1cf\">α_rand</span></strong>)\n",
    "          circle(<span style=\"color:#d7dbdd\">...</span>, <span style=\"color:#d7dbdd\">...</span>)\n",
    "        end\n",
    "    end\n",
    "    </pre>"
   ]
  },
  {
   "cell_type": "markdown",
   "metadata": {
    "slideshow": {
     "slide_type": "subslide"
    }
   },
   "source": [
    "<pre> circulos_no_circulo(p, r_min, r_max, n) = \n",
    "    for i in 1:n\n",
    "        let <strong><span style=\"color:#a1a1cf\">ρ_rand</span></strong> = random_range(r_min, r_max)\n",
    "            <strong><span style=\"color:#b8a1cf\">α_rand</span></strong> = random(2π)\n",
    "            <strong><span style=\"color:#cfa1cf\">r_rand</span></strong> = r_max - <strong><span style=\"color:#a1a1cf\">ρ_rand</span></strong>\n",
    "            <strong><span style=\"color:#cfa1a1\">p_rand</span></strong> = p + vpol(<strong><span style=\"color:#a1a1cf\">ρ_rand</span></strong>, <strong><span style=\"color:#b8a1cf\">α_rand</span></strong>)\n",
    "          circle(<strong><span style=\"color:#cfa1a1\">p_rand</span></strong>, <strong><span style=\"color:#cfa1cf\">r_rand</span></strong>)\n",
    "        end\n",
    "    end\n",
    "    </pre>"
   ]
  },
  {
   "cell_type": "code",
   "execution_count": null,
   "metadata": {
    "slideshow": {
     "slide_type": "subslide"
    }
   },
   "outputs": [],
   "source": [
    "circulos_no_circulo(p, r_min, r_max, n) =\n",
    "    for i in 1:n\n",
    "        let ρ_rand = random_range(r_min, r_max),\n",
    "            α_rand = random_range(0, 2π),\n",
    "            r_rand = r_max - ρ_rand,\n",
    "            p_rand = p + vpol(ρ_rand, α_rand)\n",
    "        circle(p_rand, r_rand)\n",
    "        end\n",
    "    end;"
   ]
  },
  {
   "cell_type": "code",
   "execution_count": null,
   "metadata": {
    "slideshow": {
     "slide_type": "fragment"
    }
   },
   "outputs": [],
   "source": [
    "delete_all_shapes()\n",
    "render_size(1000, 500)\n",
    "\n",
    "circulos_no_circulo(x(0), 4, 6.0, 100)\n",
    "circulos_no_circulo(x(12), 4.5, 5.5, 100)\n",
    "circulos_no_circulo(x(24), 4.5, 6.0, 100)\n",
    "render_view()"
   ]
  },
  {
   "cell_type": "code",
   "execution_count": null,
   "metadata": {
    "slideshow": {
     "slide_type": "subslide"
    }
   },
   "outputs": [],
   "source": [
    "@illustrator circulos_no_circulo(p, r_min, r_max, n) =\n",
    "    for i in 1:n\n",
    "        let ρ_rand = random_range(r_min, r_max)\n",
    "            α_rand = random(2π)\n",
    "            r_rand = r_max - ρ_rand\n",
    "            p_rand = p + vpol(ρ_rand, α_rand)\n",
    "        circle(p_rand, r_rand)\n",
    "        end\n",
    "    end;"
   ]
  },
  {
   "cell_type": "code",
   "execution_count": null,
   "metadata": {
    "slideshow": {
     "slide_type": "fragment"
    }
   },
   "outputs": [],
   "source": [
    "delete_all_shapes()\n",
    "render_size(600, 600)\n",
    "@illustrator circulos_no_circulo(x(0), 3.5, 5.0, 70)\n",
    "render_view()"
   ]
  },
  {
   "cell_type": "code",
   "execution_count": null,
   "metadata": {
    "slideshow": {
     "slide_type": "subslide"
    }
   },
   "outputs": [],
   "source": [
    "delete_all_shapes()\n",
    "render_size(1500, 600)\n",
    "@illustrator circulos_no_circulo(x(0), 3, 5.0, 80)\n",
    "@illustrator circulos_no_circulo(x(10), 3.5, 4.5, 80)\n",
    "@illustrator circulos_no_circulo(x(20), 3.5, 5.0, 80)\n",
    "render_view()"
   ]
  },
  {
   "cell_type": "markdown",
   "metadata": {
    "slideshow": {
     "slide_type": "slide"
    }
   },
   "source": [
    "# Let's have lunch!"
   ]
  }
 ],
 "metadata": {
  "celltoolbar": "Slideshow",
  "kernelspec": {
   "display_name": "Julia 1.11.5",
   "language": "julia",
   "name": "julia-1.11"
  },
  "language_info": {
   "file_extension": ".jl",
   "mimetype": "application/julia",
   "name": "julia",
   "version": "1.11.5"
  },
  "toc": {
   "base_numbering": 1,
   "nav_menu": {},
   "number_sections": true,
   "sideBar": false,
   "skip_h1_title": true,
   "title_cell": "Table of Contents",
   "title_sidebar": "Contents",
   "toc_cell": false,
   "toc_position": {
    "height": "731px",
    "left": "78px",
    "top": "211px",
    "width": "341.438px"
   },
   "toc_section_display": true,
   "toc_window_display": false
  }
 },
 "nbformat": 4,
 "nbformat_minor": 2
}
