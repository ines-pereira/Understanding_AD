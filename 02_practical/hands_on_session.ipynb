{
 "cells": [
  {
   "cell_type": "markdown",
   "metadata": {},
   "source": [
    "# Part III: Hands-on Session"
   ]
  },
  {
   "cell_type": "code",
   "execution_count": null,
   "metadata": {},
   "outputs": [],
   "source": [
    "using KhepriTikZ\n",
    "using KhepriIllustrator"
   ]
  },
  {
   "cell_type": "code",
   "execution_count": null,
   "metadata": {},
   "outputs": [],
   "source": [
    "render_size(1000, 600)"
   ]
  },
  {
   "cell_type": "markdown",
   "metadata": {},
   "source": [
    "## Exercise <span style=\"color:#a1a1cf\">**1**</span>"
   ]
  },
  {
   "cell_type": "markdown",
   "metadata": {},
   "source": [
    "As an example, consider a flight of stairs as outlined in this figure:\n",
    "\n",
    "<div style=\"display: flex; align-items: flex-start;\">\n",
    "  <div style=\"flex: 1; padding-right: 10px;\">\n",
    "\n",
    "Define a function `stairs` that, given the point $P$, the tread depth $d$, the rise height $h$, and the number of steps $n$, creates a flight of stairs with the first step starting at $P$.\n",
    "\n",
    "**<span style=\"color:#a1a1cf\">Suggestion</span>**: \n",
    "- Create a function that creates one step (e.g., `step`).\n",
    "- Iteratively call this function within the function `stairs` to create $n$ steps.\n",
    "\n",
    "</div> \n",
    "  <div style=\"flex: 1; padding-left: 10px;\">\n",
    "\n",
    "<center><img src=\"images/stair.jpg\" width=\"500\" height=\"300\"></center>\n",
    "\n"
   ]
  },
  {
   "cell_type": "markdown",
   "metadata": {},
   "source": [
    "### Solutions"
   ]
  },
  {
   "cell_type": "markdown",
   "metadata": {},
   "source": [
    "##### Option 1"
   ]
  },
  {
   "cell_type": "code",
   "execution_count": null,
   "metadata": {},
   "outputs": [],
   "source": [
    "# Option 1\n",
    "@illustrator stairs1(p, d, h, n) =\n",
    "    for i in 1:n\n",
    "        let p_1 = p,\n",
    "            p_2 = p_1 + vy(h),\n",
    "            p_3 = p_1 + vx(d)\n",
    "          line(p_1, p_2, p_3)\n",
    "          p = p_3\n",
    "        end\n",
    "    end"
   ]
  },
  {
   "cell_type": "code",
   "execution_count": null,
   "metadata": {},
   "outputs": [],
   "source": [
    "delete_all_shapes()\n",
    "@illustrator stairs1(xy(0, 0), 3, 1.5, 5)\n",
    "render_view()"
   ]
  },
  {
   "cell_type": "markdown",
   "metadata": {},
   "source": [
    "##### Option 2"
   ]
  },
  {
   "cell_type": "code",
   "execution_count": null,
   "metadata": {},
   "outputs": [
    {
     "data": {
      "text/plain": [
       "<function>"
      ]
     },
     "metadata": {},
     "output_type": "display_data"
    }
   ],
   "source": [
    "@illustrator stairs2(p, c, e, n) =\n",
    "    for i in 1:n\n",
    "        let p_2 = p + vy(e),\n",
    "            p_3 = p + vxy(e, c)\n",
    "            line(p, p_2, p_3)\n",
    "            p = p_3\n",
    "        end\n",
    "    end"
   ]
  },
  {
   "cell_type": "code",
   "execution_count": null,
   "metadata": {},
   "outputs": [
    {
     "data": {
      "image/svg+xml": [
       "<?xml version=\"1.0\" encoding=\"UTF-8\"?>\n",
       "<svg xmlns=\"http://www.w3.org/2000/svg\" xmlns:xlink=\"http://www.w3.org/1999/xlink\" width=\"1000\" height=\"700\" viewBox=\"0 0 178.37 354.028\">\n",
       "<defs>\n",
       "<g>\n",
       "<g id=\"glyph-1755011480990089--0-0\">\n",
       "<path d=\"M 1.859375 -2.296875 C 2.140625 -2.296875 2.875 -2.3125 3.375 -2.515625 C 4.0625 -2.8125 4.125 -3.40625 4.125 -3.546875 C 4.125 -3.984375 3.734375 -4.390625 3.0625 -4.390625 C 1.953125 -4.390625 0.453125 -3.421875 0.453125 -1.6875 C 0.453125 -0.671875 1.046875 0.109375 2.015625 0.109375 C 3.4375 0.109375 4.265625 -0.9375 4.265625 -1.0625 C 4.265625 -1.125 4.203125 -1.1875 4.140625 -1.1875 C 4.09375 -1.1875 4.078125 -1.171875 4.015625 -1.09375 C 3.234375 -0.109375 2.15625 -0.109375 2.03125 -0.109375 C 1.265625 -0.109375 1.171875 -0.9375 1.171875 -1.265625 C 1.171875 -1.375 1.1875 -1.6875 1.328125 -2.296875 Z M 1.390625 -2.515625 C 1.78125 -4.015625 2.796875 -4.171875 3.0625 -4.171875 C 3.515625 -4.171875 3.796875 -3.875 3.796875 -3.546875 C 3.796875 -2.515625 2.203125 -2.515625 1.796875 -2.515625 Z M 1.390625 -2.515625 \"/>\n",
       "</g>\n",
       "<g id=\"glyph-1755011480990089--0-1\">\n",
       "<path d=\"M 3.921875 -3.765625 C 3.765625 -3.765625 3.625 -3.765625 3.5 -3.625 C 3.328125 -3.484375 3.3125 -3.3125 3.3125 -3.25 C 3.3125 -3 3.5 -2.890625 3.6875 -2.890625 C 3.96875 -2.890625 4.234375 -3.140625 4.234375 -3.53125 C 4.234375 -4.015625 3.765625 -4.390625 3.0625 -4.390625 C 1.71875 -4.390625 0.40625 -2.96875 0.40625 -1.5625 C 0.40625 -0.671875 0.984375 0.109375 2.015625 0.109375 C 3.4375 0.109375 4.265625 -0.9375 4.265625 -1.0625 C 4.265625 -1.125 4.203125 -1.1875 4.140625 -1.1875 C 4.09375 -1.1875 4.078125 -1.171875 4.015625 -1.09375 C 3.234375 -0.109375 2.15625 -0.109375 2.03125 -0.109375 C 1.40625 -0.109375 1.140625 -0.59375 1.140625 -1.1875 C 1.140625 -1.59375 1.34375 -2.5625 1.671875 -3.171875 C 1.984375 -3.734375 2.53125 -4.171875 3.078125 -4.171875 C 3.40625 -4.171875 3.796875 -4.03125 3.921875 -3.765625 Z M 3.921875 -3.765625 \"/>\n",
       "</g>\n",
       "<g id=\"glyph-1755011480990089--0-2\">\n",
       "<path d=\"M 0.453125 1.203125 C 0.359375 1.546875 0.34375 1.625 -0.09375 1.625 C -0.203125 1.625 -0.3125 1.625 -0.3125 1.8125 C -0.3125 1.890625 -0.265625 1.921875 -0.1875 1.921875 C 0.078125 1.921875 0.359375 1.890625 0.640625 1.890625 C 0.96875 1.890625 1.3125 1.921875 1.625 1.921875 C 1.671875 1.921875 1.8125 1.921875 1.8125 1.71875 C 1.8125 1.625 1.703125 1.625 1.5625 1.625 C 1.078125 1.625 1.078125 1.546875 1.078125 1.453125 C 1.078125 1.34375 1.484375 -0.28125 1.5625 -0.53125 C 1.6875 -0.234375 1.96875 0.109375 2.46875 0.109375 C 3.625 0.109375 4.859375 -1.34375 4.859375 -2.796875 C 4.859375 -3.734375 4.296875 -4.390625 3.546875 -4.390625 C 3.046875 -4.390625 2.5625 -4.03125 2.25 -3.640625 C 2.140625 -4.171875 1.71875 -4.390625 1.34375 -4.390625 C 0.890625 -4.390625 0.703125 -4 0.609375 -3.8125 C 0.4375 -3.484375 0.3125 -2.890625 0.3125 -2.859375 C 0.3125 -2.765625 0.40625 -2.765625 0.421875 -2.765625 C 0.53125 -2.765625 0.53125 -2.765625 0.59375 -2.984375 C 0.765625 -3.6875 0.96875 -4.171875 1.3125 -4.171875 C 1.484375 -4.171875 1.625 -4.09375 1.625 -3.703125 C 1.625 -3.484375 1.59375 -3.375 1.5625 -3.203125 Z M 2.1875 -3.09375 C 2.265625 -3.359375 2.53125 -3.640625 2.703125 -3.796875 C 3.0625 -4.09375 3.34375 -4.171875 3.515625 -4.171875 C 3.90625 -4.171875 4.140625 -3.8125 4.140625 -3.234375 C 4.140625 -2.65625 3.8125 -1.515625 3.640625 -1.125 C 3.296875 -0.4375 2.828125 -0.109375 2.453125 -0.109375 C 1.8125 -0.109375 1.671875 -0.9375 1.671875 -0.984375 C 1.671875 -1.015625 1.671875 -1.03125 1.703125 -1.15625 Z M 2.1875 -3.09375 \"/>\n",
       "</g>\n",
       "<g id=\"glyph-1755011480990089--1-0\">\n",
       "<path d=\"M 1.890625 -2.328125 C 2.4375 -2.328125 2.828125 -1.953125 2.828125 -1.203125 C 2.828125 -0.34375 2.328125 -0.078125 1.921875 -0.078125 C 1.640625 -0.078125 1.03125 -0.15625 0.75 -0.5625 C 1.078125 -0.578125 1.140625 -0.8125 1.140625 -0.953125 C 1.140625 -1.1875 0.984375 -1.34375 0.765625 -1.34375 C 0.5625 -1.34375 0.375 -1.21875 0.375 -0.9375 C 0.375 -0.28125 1.09375 0.140625 1.9375 0.140625 C 2.90625 0.140625 3.578125 -0.5 3.578125 -1.203125 C 3.578125 -1.75 3.125 -2.28125 2.359375 -2.453125 C 3.09375 -2.71875 3.359375 -3.234375 3.359375 -3.65625 C 3.359375 -4.203125 2.71875 -4.609375 1.953125 -4.609375 C 1.1875 -4.609375 0.59375 -4.234375 0.59375 -3.6875 C 0.59375 -3.453125 0.75 -3.3125 0.953125 -3.3125 C 1.171875 -3.3125 1.3125 -3.484375 1.3125 -3.671875 C 1.3125 -3.875 1.171875 -4.015625 0.953125 -4.03125 C 1.203125 -4.34375 1.671875 -4.421875 1.9375 -4.421875 C 2.25 -4.421875 2.6875 -4.265625 2.6875 -3.65625 C 2.6875 -3.359375 2.59375 -3.046875 2.40625 -2.828125 C 2.171875 -2.5625 1.984375 -2.546875 1.640625 -2.53125 C 1.453125 -2.515625 1.453125 -2.515625 1.40625 -2.515625 C 1.390625 -2.515625 1.34375 -2.5 1.34375 -2.421875 C 1.34375 -2.328125 1.40625 -2.328125 1.515625 -2.328125 Z M 1.890625 -2.328125 \"/>\n",
       "</g>\n",
       "<g id=\"glyph-1755011480990089--1-1\">\n",
       "<path d=\"M 3.515625 -1.265625 L 3.28125 -1.265625 C 3.25 -1.109375 3.1875 -0.703125 3.09375 -0.625 C 3.03125 -0.59375 2.5 -0.59375 2.40625 -0.59375 L 1.125 -0.59375 C 1.859375 -1.234375 2.09375 -1.4375 2.515625 -1.765625 C 3.03125 -2.171875 3.515625 -2.59375 3.515625 -3.265625 C 3.515625 -4.109375 2.78125 -4.609375 1.890625 -4.609375 C 1.015625 -4.609375 0.4375 -4.015625 0.4375 -3.375 C 0.4375 -3.015625 0.734375 -2.984375 0.8125 -2.984375 C 0.96875 -2.984375 1.171875 -3.09375 1.171875 -3.34375 C 1.171875 -3.484375 1.125 -3.71875 0.765625 -3.71875 C 0.984375 -4.21875 1.453125 -4.359375 1.78125 -4.359375 C 2.46875 -4.359375 2.84375 -3.828125 2.84375 -3.265625 C 2.84375 -2.65625 2.40625 -2.171875 2.1875 -1.921875 L 0.5 -0.265625 C 0.4375 -0.203125 0.4375 -0.1875 0.4375 0 L 3.296875 0 Z M 3.515625 -1.265625 \"/>\n",
       "</g>\n",
       "</g>\n",
       "<clipPath id=\"clip-1755011480990089--0\">\n",
       "<path clip-rule=\"nonzero\" d=\"M 129 0.140625 L 177.742188 0.140625 L 177.742188 91 L 129 91 Z M 129 0.140625 \"/>\n",
       "</clipPath>\n",
       "</defs>\n",
       "<path fill=\"none\" stroke-width=\"0.3985\" stroke-linecap=\"butt\" stroke-linejoin=\"miter\" stroke=\"rgb(0%, 0%, 0%)\" stroke-opacity=\"1\" stroke-miterlimit=\"10\" d=\"M -0.00102338 -0.0000555306 L -0.00102338 42.520692 L 42.519724 85.04144 \" transform=\"matrix(0.99648, 0, 0, -0.99648, 8.06352, 339.29682)\"/>\n",
       "<path fill=\"none\" stroke-width=\"0.3985\" stroke-linecap=\"butt\" stroke-linejoin=\"miter\" stroke=\"rgb(0%, 0%, 0%)\" stroke-opacity=\"1\" stroke-miterlimit=\"10\" d=\"M 42.519724 85.04144 L 42.519724 127.562188 L 85.040472 170.079016 \" transform=\"matrix(0.99648, 0, 0, -0.99648, 8.06352, 339.29682)\"/>\n",
       "<path fill=\"none\" stroke-width=\"0.3985\" stroke-linecap=\"butt\" stroke-linejoin=\"miter\" stroke=\"rgb(0%, 0%, 0%)\" stroke-opacity=\"1\" stroke-miterlimit=\"10\" d=\"M 85.040472 170.079016 L 85.040472 212.599763 L 127.56122 255.120511 \" transform=\"matrix(0.99648, 0, 0, -0.99648, 8.06352, 339.29682)\"/>\n",
       "<g clip-path=\"url(#clip-1755011480990089--0)\">\n",
       "<path fill=\"none\" stroke-width=\"0.3985\" stroke-linecap=\"butt\" stroke-linejoin=\"miter\" stroke=\"rgb(0%, 0%, 0%)\" stroke-opacity=\"1\" stroke-miterlimit=\"10\" d=\"M 127.56122 255.120511 L 127.56122 297.641259 L 170.081968 340.162007 \" transform=\"matrix(0.99648, 0, 0, -0.99648, 8.06352, 339.29682)\"/>\n",
       "</g>\n",
       "<path fill=\"none\" stroke-width=\"0.19925\" stroke-linecap=\"butt\" stroke-linejoin=\"miter\" stroke=\"rgb(50.979614%, 67.83905%, 99.21875%)\" stroke-opacity=\"1\" stroke-miterlimit=\"10\" d=\"M -0.00102338 3.78671 L -0.00102338 38.733927 \" transform=\"matrix(0.99648, 0, 0, -0.99648, 8.06352, 339.29682)\"/>\n",
       "<path fill-rule=\"nonzero\" fill=\"rgb(50.979614%, 67.83905%, 99.21875%)\" fill-opacity=\"1\" stroke-width=\"0.19925\" stroke-linecap=\"butt\" stroke-linejoin=\"miter\" stroke=\"rgb(50.979614%, 67.83905%, 99.21875%)\" stroke-opacity=\"1\" stroke-miterlimit=\"10\" d=\"M 3.374281 -0.00102338 C 2.958756 0.100898 1.139854 0.665385 -0.000879691 1.284752 L -0.000879691 -1.282879 C 1.139854 -0.667431 2.958756 -0.0990245 3.374281 -0.00102338 Z M 3.374281 -0.00102338 \" transform=\"matrix(0, 0.99648, 0.99648, 0, 8.06352, 335.524314)\"/>\n",
       "<path fill-rule=\"nonzero\" fill=\"rgb(50.979614%, 67.83905%, 99.21875%)\" fill-opacity=\"1\" stroke-width=\"0.19925\" stroke-linecap=\"butt\" stroke-linejoin=\"miter\" stroke=\"rgb(50.979614%, 67.83905%, 99.21875%)\" stroke-opacity=\"1\" stroke-miterlimit=\"10\" d=\"M 3.374727 0.00102338 C 2.959202 0.0990245 1.140301 0.667431 -0.000432973 1.282879 L -0.000432973 -1.284752 C 1.140301 -0.665385 2.959202 -0.100898 3.374727 0.00102338 Z M 3.374727 0.00102338 \" transform=\"matrix(0, -0.99648, -0.99648, 0, 8.06352, 300.698787)\"/>\n",
       "<g fill=\"rgb(50.979614%, 67.83905%, 99.21875%)\" fill-opacity=\"1\">\n",
       "<use xlink:href=\"#glyph-1755011480990089--0-0\" x=\"8.559767\" y=\"320.249096\"/>\n",
       "</g>\n",
       "<path fill=\"none\" stroke-width=\"0.19925\" stroke-linecap=\"butt\" stroke-linejoin=\"miter\" stroke=\"rgb(50.979614%, 67.83905%, 99.21875%)\" stroke-opacity=\"1\" stroke-miterlimit=\"10\" d=\"M 3.785742 -0.0000555306 L 38.732959 -0.0000555306 \" transform=\"matrix(0.99648, 0, 0, -0.99648, 8.06352, 339.29682)\"/>\n",
       "<path fill-rule=\"nonzero\" fill=\"rgb(50.979614%, 67.83905%, 99.21875%)\" fill-opacity=\"1\" stroke-width=\"0.19925\" stroke-linecap=\"butt\" stroke-linejoin=\"miter\" stroke=\"rgb(50.979614%, 67.83905%, 99.21875%)\" stroke-opacity=\"1\" stroke-miterlimit=\"10\" d=\"M 3.375248 0.0000555306 C 2.959724 0.0980567 1.136902 0.666463 0.0000881572 1.281911 L 0.0000881572 -1.2818 C 1.136902 -0.666352 2.959724 -0.101866 3.375248 0.0000555306 Z M 3.375248 0.0000555306 \" transform=\"matrix(-0.99648, 0, 0, 0.99648, 11.836025, 339.29682)\"/>\n",
       "<path fill-rule=\"nonzero\" fill=\"rgb(50.979614%, 67.83905%, 99.21875%)\" fill-opacity=\"1\" stroke-width=\"0.19925\" stroke-linecap=\"butt\" stroke-linejoin=\"miter\" stroke=\"rgb(50.979614%, 67.83905%, 99.21875%)\" stroke-opacity=\"1\" stroke-miterlimit=\"10\" d=\"M 3.373759 -0.0000555306 C 2.962155 0.101866 1.139333 0.666352 -0.00140082 1.2818 L -0.00140082 -1.281911 C 1.139333 -0.666463 2.962155 -0.0980567 3.373759 -0.0000555306 Z M 3.373759 -0.0000555306 \" transform=\"matrix(0.99648, 0, 0, -0.99648, 46.661552, 339.29682)\"/>\n",
       "<g fill=\"rgb(50.979614%, 67.83905%, 99.21875%)\" fill-opacity=\"1\">\n",
       "<use xlink:href=\"#glyph-1755011480990089--0-0\" x=\"26.937856\" y=\"344.067968\"/>\n",
       "</g>\n",
       "<path fill=\"none\" stroke-width=\"0.19925\" stroke-linecap=\"butt\" stroke-linejoin=\"miter\" stroke=\"rgb(50.979614%, 67.83905%, 99.21875%)\" stroke-opacity=\"1\" stroke-miterlimit=\"10\" d=\"M 42.519724 3.78671 L 42.519724 81.254675 \" transform=\"matrix(0.99648, 0, 0, -0.99648, 8.06352, 339.29682)\"/>\n",
       "<path fill-rule=\"nonzero\" fill=\"rgb(50.979614%, 67.83905%, 99.21875%)\" fill-opacity=\"1\" stroke-width=\"0.19925\" stroke-linecap=\"butt\" stroke-linejoin=\"miter\" stroke=\"rgb(50.979614%, 67.83905%, 99.21875%)\" stroke-opacity=\"1\" stroke-miterlimit=\"10\" d=\"M 3.374281 -0.0004756 C 2.958756 0.101446 1.139854 0.665932 -0.000879691 1.2853 L -0.000879691 -1.282331 C 1.139854 -0.666884 2.958756 -0.0984768 3.374281 -0.0004756 Z M 3.374281 -0.0004756 \" transform=\"matrix(0, 0.99648, 0.99648, 0, 50.434068, 335.524314)\"/>\n",
       "<path fill-rule=\"nonzero\" fill=\"rgb(50.979614%, 67.83905%, 99.21875%)\" fill-opacity=\"1\" stroke-width=\"0.19925\" stroke-linecap=\"butt\" stroke-linejoin=\"miter\" stroke=\"rgb(50.979614%, 67.83905%, 99.21875%)\" stroke-opacity=\"1\" stroke-miterlimit=\"10\" d=\"M 3.375255 0.0004756 C 2.95973 0.0984768 1.136908 0.666884 0.0000948052 1.282331 L 0.0000948052 -1.2853 C 1.136908 -0.665932 2.95973 -0.101446 3.375255 0.0004756 Z M 3.375255 0.0004756 \" transform=\"matrix(0, -0.99648, -0.99648, 0, 50.434068, 258.328219)\"/>\n",
       "<g fill=\"rgb(50.979614%, 67.83905%, 99.21875%)\" fill-opacity=\"1\">\n",
       "<use xlink:href=\"#glyph-1755011480990089--0-1\" x=\"50.930116\" y=\"299.063922\"/>\n",
       "</g>\n",
       "<path fill-rule=\"nonzero\" fill=\"rgb(50.979614%, 67.83905%, 99.21875%)\" fill-opacity=\"1\" d=\"M 9.054688 339.296875 C 9.054688 338.75 8.613281 338.304688 8.0625 338.304688 C 7.515625 338.304688 7.070312 338.75 7.070312 339.296875 C 7.070312 339.84375 7.515625 340.289062 8.0625 340.289062 C 8.613281 340.289062 9.054688 339.84375 9.054688 339.296875 Z M 9.054688 339.296875 \"/>\n",
       "<g fill=\"rgb(50.979614%, 67.83905%, 99.21875%)\" fill-opacity=\"1\">\n",
       "<use xlink:href=\"#glyph-1755011480990089--0-2\" x=\"12.174002\" y=\"347.681206\"/>\n",
       "</g>\n",
       "<path fill-rule=\"nonzero\" fill=\"rgb(50.979614%, 67.83905%, 99.21875%)\" fill-opacity=\"1\" d=\"M 51.425781 254.554688 C 51.425781 254.007812 50.980469 253.5625 50.433594 253.5625 C 49.886719 253.5625 49.441406 254.007812 49.441406 254.554688 C 49.441406 255.105469 49.886719 255.546875 50.433594 255.546875 C 50.980469 255.546875 51.425781 255.105469 51.425781 254.554688 Z M 51.425781 254.554688 \"/>\n",
       "<g fill=\"rgb(50.979614%, 67.83905%, 99.21875%)\" fill-opacity=\"1\">\n",
       "<use xlink:href=\"#glyph-1755011480990089--0-2\" x=\"54.543354\" y=\"262.941505\"/>\n",
       "</g>\n",
       "<g fill=\"rgb(50.979614%, 67.83905%, 99.21875%)\" fill-opacity=\"1\">\n",
       "<use xlink:href=\"#glyph-1755011480990089--1-0\" x=\"59.53871\" y=\"264.430247\"/>\n",
       "</g>\n",
       "<path fill-rule=\"nonzero\" fill=\"rgb(50.979614%, 67.83905%, 99.21875%)\" fill-opacity=\"1\" d=\"M 9.054688 296.925781 C 9.054688 296.378906 8.613281 295.933594 8.0625 295.933594 C 7.515625 295.933594 7.070312 296.378906 7.070312 296.925781 C 7.070312 297.472656 7.515625 297.917969 8.0625 297.917969 C 8.613281 297.917969 9.054688 297.472656 9.054688 296.925781 Z M 9.054688 296.925781 \"/>\n",
       "<g fill=\"rgb(50.979614%, 67.83905%, 99.21875%)\" fill-opacity=\"1\">\n",
       "<use xlink:href=\"#glyph-1755011480990089--0-2\" x=\"12.174002\" y=\"305.311854\"/>\n",
       "</g>\n",
       "<g fill=\"rgb(50.979614%, 67.83905%, 99.21875%)\" fill-opacity=\"1\">\n",
       "<use xlink:href=\"#glyph-1755011480990089--1-1\" x=\"17.168362\" y=\"306.800596\"/>\n",
       "</g>\n",
       "</svg>\n"
      ],
      "text/plain": [
       "PDFFile(\"C:\\\\Users\\\\iicpe\\\\Render\\\\View.pdf\")"
      ]
     },
     "metadata": {},
     "output_type": "display_data"
    }
   ],
   "source": [
    "delete_all_shapes()\n",
    "@illustrator stairs2(xy(0, 0), 3, 1.5, 4)\n",
    "render_view()"
   ]
  },
  {
   "cell_type": "markdown",
   "metadata": {},
   "source": [
    "##### Option 3"
   ]
  },
  {
   "cell_type": "code",
   "execution_count": null,
   "metadata": {},
   "outputs": [],
   "source": [
    "# First define a stair step\n",
    "@illustrator step(p1, p2, p3) =\n",
    "    line(p1, p2, p3)"
   ]
  },
  {
   "cell_type": "code",
   "execution_count": null,
   "metadata": {},
   "outputs": [],
   "source": [
    "render_size(400, 200)\n",
    "delete_all_shapes()\n",
    "@illustrator step(u0(), y(1.5), xy(3, 1.5))\n",
    "render_view()"
   ]
  },
  {
   "cell_type": "code",
   "execution_count": null,
   "metadata": {},
   "outputs": [],
   "source": [
    "# Then define the stairs function by calling the function step.\n",
    "@illustrator stairs3(p, c, e, n) =\n",
    "    let ρ = sqrt(c^2 + e^2),\n",
    "        α = atan(e/c)\n",
    "        for i in 0:n-1\n",
    "            let v = vpol(i*ρ,i*α),\n",
    "                p_1 = p + v,\n",
    "                p_2 = p_1 + vy(e),\n",
    "                p_3 = p_2 + vx(c)\n",
    "                step(p_1, p_2, p_3)\n",
    "            end\n",
    "        end\n",
    "    end"
   ]
  },
  {
   "cell_type": "code",
   "execution_count": null,
   "metadata": {},
   "outputs": [],
   "source": [
    "render_size(1000, 800)\n",
    "delete_all_shapes()\n",
    "# illustrate 4 steps\n",
    "with(for_steps_limit, 4) do \n",
    "    @illustrator stairs3(u0(), 3, 1.5, 5)\n",
    "end\n",
    "render_view()"
   ]
  },
  {
   "cell_type": "markdown",
   "metadata": {},
   "source": [
    "##### Option 4"
   ]
  },
  {
   "cell_type": "code",
   "execution_count": null,
   "metadata": {},
   "outputs": [],
   "source": [
    "# using array comprehension\n",
    "@illustrator stairs4(p, c, e, n) =\n",
    "    let p_i = p,\n",
    "        ps = [p_i + vxy(c*i, e*i) \n",
    "              for i in 1:n]\n",
    "    [step(p, p + vy(e), p + vxy(c, e)) for p in ps]\n",
    "    end\n"
   ]
  },
  {
   "cell_type": "code",
   "execution_count": null,
   "metadata": {},
   "outputs": [],
   "source": [
    "render_size(1000, 800)\n",
    "delete_all_shapes()\n",
    "@illustrator stairs4(u0(), 3, 1.5, 5)\n",
    "render_view()"
   ]
  },
  {
   "cell_type": "markdown",
   "metadata": {},
   "source": [
    "## Exercise <span style=\"color:#a1a1cf\">**2**</span>"
   ]
  },
  {
   "cell_type": "markdown",
   "metadata": {},
   "source": [
    "<div style=\"display: flex; align-items: flex-start;\">\n",
    "  <div style=\"flex: 1; padding-right: 10px;\">\n",
    "\n",
    "Define a function `equilateral_triangles` that generates the result shown on the right, given the following input:\n",
    "- the centre $P$ of the sequence of equilateral triangles, \n",
    "- the side length $s$ of the largest triangle, \n",
    "- the orientation angle $\\alpha_i$ of the first triangle, \n",
    "- the number of triangles $n$ to create.\n",
    "\n",
    "</div> \n",
    "  <div style=\"flex: 1; padding-left: 10px;\">\n",
    "\n",
    "<center><img src=\"images/triangulos_altern.png\" width=\"480\" height=\"430\"></center>\n"
   ]
  },
  {
   "cell_type": "markdown",
   "metadata": {},
   "source": [
    "### Solution"
   ]
  },
  {
   "cell_type": "code",
   "execution_count": null,
   "metadata": {},
   "outputs": [],
   "source": [
    "@illustrator equilateral_triangles(p, s, α_i, n) = \n",
    "    let Δα = 2π/3.0 # triangle internal angles\n",
    "        # create N triangles\n",
    "        for i in 1:n\n",
    "            let ρ = s/2/sin(Δα/2),\n",
    "                α_1 = i%2==0 ? α_i : α_i - pi,\n",
    "                α_2 = α_1 + Δα,\n",
    "                α_3 = α_1 + Δα\n",
    "                polygon(p + vpol(ρ, α_1), \n",
    "                        p + vpol(ρ, α_2), \n",
    "                        p + vpol(ρ, α_3))\n",
    "                s = s/2\n",
    "            end \n",
    "        end\n",
    "    end\n"
   ]
  },
  {
   "cell_type": "code",
   "execution_count": null,
   "metadata": {},
   "outputs": [],
   "source": [
    "render_size(600, 500)\n",
    "delete_all_shapes()\n",
    "@illustrator equilateral_triangles(xy(0, 0), 6, π/2, 4)\n",
    "render_view()"
   ]
  },
  {
   "cell_type": "code",
   "execution_count": null,
   "metadata": {},
   "outputs": [],
   "source": [
    "render_size(800, 400)\n",
    "delete_all_shapes()\n",
    "equilateral_triangles(xy(0, 0), 3, π/2, 4)\n",
    "equilateral_triangles(xy(5, 0), 5, π/4, 6)\n",
    "equilateral_triangles(xy(11, 0), 6, -π/2, 8)\n",
    "render_view()"
   ]
  },
  {
   "cell_type": "markdown",
   "metadata": {},
   "source": [
    "## Exercise <span style=\"color:#a1a1cf\">**3**</span>"
   ]
  },
  {
   "cell_type": "markdown",
   "metadata": {},
   "source": [
    "<div style=\"display: flex; align-items: flex-start;\">\n",
    "  <div style=\"flex: 1; padding-right: 10px;\">\n",
    "\n",
    "Define a function `centred_polygons` that generates centered regular polygons that rotate and progressively decrease in size (see right-side image) given:\n",
    "- the sequence centre $P$, \n",
    "- the polygons' number of sides $n_{sides}$, \n",
    "- the radius $r$ of the largest polygon, \n",
    "- the radii's reduction factor $f$, \n",
    "- the number of polygons $n$ to create.\n",
    "\n",
    "</div> \n",
    "  <div style=\"flex: 1; padding-left: 10px;\">\n",
    "\n",
    "<center><img src=\"images/poligono_rec.png\" width=\"450\" height=\"410\"></center>\n",
    "\n",
    "\n",
    "\n"
   ]
  },
  {
   "cell_type": "markdown",
   "metadata": {},
   "source": [
    "### Solutions"
   ]
  },
  {
   "cell_type": "code",
   "execution_count": null,
   "metadata": {},
   "outputs": [],
   "source": [
    "# Solution\n",
    "@illustrator centred_polygons(p, n_sides, r, f, n) =\n",
    "    for i in 1:n\n",
    "      let r_i = r*f,\n",
    "          α_i = pi/n_sides\n",
    "          # regular_polygon(nsides, center, radius, initial α, inscribed (true) or circumscribed (false))\n",
    "          regular_polygon(n_sides, p, r_i, α_i, true)\n",
    "      end\n",
    "    end"
   ]
  },
  {
   "cell_type": "code",
   "execution_count": null,
   "metadata": {},
   "outputs": [],
   "source": [
    "render_size(800, 400)\n",
    "delete_all_shapes()\n",
    "n_polygons = 5\n",
    "# illustrate all steps\n",
    "with(for_steps_limit, n_polygons) do \n",
    "    @illustrator centred_polygons(x(0), 4, 10, 0.5, n_polygons)\n",
    "end\n",
    "render_view()"
   ]
  },
  {
   "cell_type": "code",
   "execution_count": null,
   "metadata": {},
   "outputs": [],
   "source": [
    "render_size(500,500)\n",
    "delete_all_shapes()\n",
    "@illustrator centred_polygons(x(0), 4, 5, 0.7, 8)\n",
    "render_view()"
   ]
  },
  {
   "cell_type": "code",
   "execution_count": null,
   "metadata": {},
   "outputs": [],
   "source": [
    "delete_all_shapes()\n",
    "@illustrator centred_polygons(x(0), 5, 5, 0.8, 8)\n",
    "render_view()"
   ]
  },
  {
   "cell_type": "code",
   "execution_count": null,
   "metadata": {},
   "outputs": [],
   "source": [
    "delete_all_shapes()\n",
    "@illustrator centred_polygons(x(0), 6, 5, 0.85, 8)\n",
    "render_view()"
   ]
  },
  {
   "cell_type": "markdown",
   "metadata": {},
   "source": [
    "## Exercise <span style=\"color:#a1a1cf\">**4**</span>"
   ]
  },
  {
   "cell_type": "markdown",
   "metadata": {},
   "source": [
    "<div style=\"display: flex; align-items: flex-start;\">\n",
    "  <div style=\"flex: 1; padding-right: 10px;\">\n",
    "\n",
    "\n",
    "Define a function `diagonal_squares` that generates the sequences of squares shown on the right, given:\n",
    "- the bottom-left corner $P$ of the leftmost and largest square,\n",
    "- the side length $l$ of this square, \n",
    "- the reduction factor $f$ applied to successive squares,\n",
    "- the number of squares $n$ to create.\n",
    "\n",
    "</div> \n",
    "  <div style=\"flex: 1; padding-left: 10px;\">\n",
    "  \n",
    "  <center><img src=\"images/seq_quadrados.png\" width=\"550\" height=\"240\"></center>"
   ]
  },
  {
   "cell_type": "markdown",
   "metadata": {},
   "source": [
    "### Solution"
   ]
  },
  {
   "cell_type": "code",
   "execution_count": null,
   "metadata": {},
   "outputs": [],
   "source": [
    "# Solutions\n",
    "@illustrator diagonal_squares(p, l, f, n) =\n",
    "    for i in 0:n-1\n",
    "        let f_i = f^i,\n",
    "            l_i = l*f,\n",
    "            p_i = p + vxy(l_i, l_i)\n",
    "        rectangle(p_i, l_i, l_i)\n",
    "        p = p_i\n",
    "        end\n",
    "    end"
   ]
  },
  {
   "cell_type": "code",
   "execution_count": null,
   "metadata": {},
   "outputs": [],
   "source": [
    "render_size(1200, 600)\n",
    "delete_all_shapes()\n",
    "# illustrate 3 steps\n",
    "with(for_steps_limit, 3) do\n",
    "    @illustrator diagonal_squares(u0(), 2, 0.8, 5)\n",
    "end\n",
    "render_view()"
   ]
  },
  {
   "cell_type": "code",
   "execution_count": null,
   "metadata": {},
   "outputs": [],
   "source": [
    "delete_all_shapes()\n",
    "@illustrator diagonal_squares(x(0), 4, 0.65, 8)\n",
    "@illustrator diagonal_squares(x(12), 5, 0.35, 6)\n",
    "render_view()"
   ]
  },
  {
   "cell_type": "markdown",
   "metadata": {},
   "source": [
    "## Exercise <span style=\"color:#a1a1cf\">**5**</span>"
   ]
  },
  {
   "cell_type": "markdown",
   "metadata": {},
   "source": [
    "\n",
    "\n",
    "<div style=\"display: flex; align-items: flex-start;\">\n",
    "  <div style=\"flex: 1; padding-right: 10px;\">\n",
    "\n",
    "Create a function `rosette` that generates shapes similar to the one shown n the right, given the following parameters:\n",
    "\n",
    "- the shape centre ($P$),\n",
    "- the number of \"petals\" ($n$),\n",
    "- the orientation angle of the first \"petal\" ($\\alpha$),\n",
    "- the inner, middle, and outer radii of the petals ($r_{in},r_{mid},r_{out}$).\n",
    "\n",
    "</div> \n",
    "  <div style=\"flex: 1; padding-left: 10px;\">\n",
    "\n",
    "<center><img src=\"images/rosette.jpg\" width=\"300\" height=\"300\"></center>"
   ]
  },
  {
   "cell_type": "markdown",
   "metadata": {},
   "source": [
    "### Solution"
   ]
  },
  {
   "cell_type": "code",
   "execution_count": null,
   "metadata": {},
   "outputs": [],
   "source": [
    "# solution\n",
    "@illustrator roseta(p, n, α, r_in, r_mid, r_out) =\n",
    "    let Δα = 2pi/n\n",
    "     for i in 0:n\n",
    "        let α_i = α + Δα,, \n",
    "            p_1 = p + vpol(r_in, α_i),\n",
    "            p_2 = p + vpol(r_mid, α_i + Δα/4),\n",
    "            p_3 = p + vpol(r_in, α_i + 2Δα/4),\n",
    "            p_4 = p + vpol(r_mid, α_i + 3Δα/4),\n",
    "            p_5 = p + vpol(r_in, α_i + 4Δα/4)\n",
    "        line(p_1,p_2,p_3,p_4,p_5)\n",
    "        end\n",
    "     end\n",
    "    end"
   ]
  },
  {
   "cell_type": "code",
   "execution_count": null,
   "metadata": {},
   "outputs": [],
   "source": [
    "render_size(700, 700)\n",
    "delete_all_shapes()\n",
    "@illustrator roseta(xy(0,0), 4, 0, 2, 4.5, 6)\n",
    "render_view()"
   ]
  },
  {
   "cell_type": "code",
   "execution_count": null,
   "metadata": {},
   "outputs": [],
   "source": [
    "delete_all_shapes()\n",
    "@illustrator roseta(xy(0,0), 6, pi/4, 1, 3, 3.5)\n",
    "render_view()"
   ]
  },
  {
   "cell_type": "code",
   "execution_count": null,
   "metadata": {},
   "outputs": [],
   "source": [
    "render_size(800, 500)\n",
    "delete_all_shapes()\n",
    "@illustrator roseta(xy(0,0), 3, 0, 1.5, 3.5, 3)\n",
    "@illustrator roseta(xy(9,0), 5, pi/2, 1.5, 5.5, 4.5)\n",
    "render_view()"
   ]
  },
  {
   "cell_type": "code",
   "execution_count": null,
   "metadata": {},
   "outputs": [],
   "source": [
    "render_size(500,500)\n",
    "delete_all_shapes()\n",
    "@illustrator roseta(xy(0,0), 5, pi, 1.5, 3.5, 4)\n",
    "render_view()"
   ]
  },
  {
   "cell_type": "markdown",
   "metadata": {},
   "source": [
    "## Exercise <span style=\"color:#a1a1cf\">**6**</span>"
   ]
  },
  {
   "cell_type": "markdown",
   "metadata": {},
   "source": [
    "\n",
    "\n",
    "<div style=\"display: flex; align-items: flex-start;\">\n",
    "  <div style=\"flex: 1; padding-right: 10px;\">\n",
    "\n",
    "Consider the sequence of **increasingly smaller** circles arranged vertically and tangent to one another, as shown on the right.\n",
    "\n",
    "<span style=\"color:#a1a1cf\">**6.1.**</span> Define a function `stacked_circles` that creates this sequence, given:\n",
    "- the bottom point $P$ of the lowest circle,\n",
    "- the radius size $r$ of the lowest circle,\n",
    "- the reduction factor $f$ applied to successive circles,\n",
    "- the number of circles $n$ to stack.\n",
    "\n",
    "\n",
    "</div> \n",
    "  <div style=\"flex: 1; padding-left: 10px;\">\n",
    "\n",
    "  <center><img src=\"images/stacked_circles1.jpg\" width=\"600\" height=\"420\"></center>"
   ]
  },
  {
   "cell_type": "markdown",
   "metadata": {},
   "source": [
    "### Solution"
   ]
  },
  {
   "cell_type": "code",
   "execution_count": null,
   "metadata": {},
   "outputs": [],
   "source": [
    " @illustrator stacked_circles(p, r, f, n) =\n",
    "    for i in 0:n-1\n",
    "        let r_i = r*f^i,\n",
    "            p_c = p + vy(r_i)\n",
    "            circle(p_c, r)\n",
    "            p = p + vy(r_i)\n",
    "        end\n",
    "    end"
   ]
  },
  {
   "cell_type": "code",
   "execution_count": null,
   "metadata": {},
   "outputs": [],
   "source": [
    "delete_all_shapes()\n",
    "with(for_steps_limit, 3) do\n",
    "    @illustrator stacked_circles(u0(), 2.5, 0.65, 5)\n",
    "end\n",
    "render_view()"
   ]
  },
  {
   "cell_type": "code",
   "execution_count": null,
   "metadata": {},
   "outputs": [],
   "source": [
    "render_size(1000,700)\n",
    "delete_all_shapes()\n",
    "@illustrator stacked_circles(x(0), 3, 0.35, 3)\n",
    "@illustrator stacked_circles(x(6), 3, 0.55, 5)\n",
    "@illustrator stacked_circles(x(12), 2.5, 0.75, 6)\n",
    "@illustrator stacked_circles(x(17), 1.5, 0.9, 6)\n",
    "render_view()"
   ]
  },
  {
   "cell_type": "markdown",
   "metadata": {},
   "source": [
    "\n",
    "\n",
    "<div style=\"display: flex; align-items: flex-start;\">\n",
    "  <div style=\"width: 700px; padding-right: 10px;\">\n",
    "\n",
    "\n",
    "\n",
    "<span style=\"color:#a1a1cf\">**6.2.**</span> Redefine the `stacked_circles` function to make the circles decrease according to a **random factor** ranging between 25% and $f$, as shown on the right.\n",
    "\n",
    "\n",
    "</div> \n",
    "\n",
    "<div style=\"flex: 1; padding-left: 10px;\">\n",
    "  \n",
    "\n",
    "<center><img src=\"images/stacked_circles_rand.svg\" width=\"500\" height=\"550\"></center>\n",
    "\n",
    "</div>"
   ]
  },
  {
   "cell_type": "markdown",
   "metadata": {},
   "source": [
    "### Solution"
   ]
  },
  {
   "cell_type": "code",
   "execution_count": null,
   "metadata": {},
   "outputs": [],
   "source": [
    " @illustrator stacked_circles(p, r, f, n) =\n",
    "    for i in 0:n-1\n",
    "        let f = random_range(0.25, f),\n",
    "            r_i = r*f,\n",
    "            p_c = p + vy(r_i)\n",
    "            circle(p_c, r_i)\n",
    "            p = p + vy(2*r_i)\n",
    "        end\n",
    "    end"
   ]
  },
  {
   "cell_type": "code",
   "execution_count": null,
   "metadata": {},
   "outputs": [],
   "source": [
    "render_size(1000,600)\n",
    "\n",
    "delete_all_shapes()\n",
    "# illustrate 2 steps\n",
    "with(for_steps_limit, 2) do\n",
    "    @illustrator stacked_circles(u0(), 3, 1.0, 6)\n",
    "end\n",
    "render_view()"
   ]
  },
  {
   "cell_type": "code",
   "execution_count": null,
   "metadata": {},
   "outputs": [],
   "source": [
    "render_size(1000,600)\n",
    "\n",
    "delete_all_shapes()\n",
    "@illustrator stacked_circles(u0(), 5, 1.0, 6)\n",
    "@illustrator stacked_circles(x(7), 6, 0.8, 7)\n",
    "@illustrator stacked_circles(x(16), 5, 1.0, 8)\n",
    "render_view()"
   ]
  },
  {
   "cell_type": "markdown",
   "metadata": {},
   "source": [
    "## Exercise <span style=\"color:#a1a1cf\">**7**</span>"
   ]
  },
  {
   "cell_type": "markdown",
   "metadata": {},
   "source": [
    "\n",
    "<div style=\"display: flex; align-items: flex-start;\">\n",
    "  <div style=\"flex: 0.4; padding-right: 10px;\">\n",
    "  \n",
    "Create a function `tangle` that generates $n$ segments with random lengths and random orientation in increments of $\\pi/2$, as shown on the right.\n",
    "\n",
    "The function should receive:\n",
    "- the starting point $P$,\n",
    "- the segments maximum length $l_{max}$, and \n",
    "- the number of segments to create $n$.\n",
    "\n",
    "The segments should vary their length according to a random factor between 50% to 100% of the maximum length allowed $l_{max}$.\n",
    "\n",
    "\n",
    "\n",
    "</div> \n",
    "  <div style=\"flex: 0.6; padding-left: 10px;\">\n",
    "\n",
    "\n",
    "<center><img src=\"images/random_walk1.jpg\" width=\"300\" height=\"390\"></center>"
   ]
  },
  {
   "cell_type": "markdown",
   "metadata": {},
   "source": [
    "### Solution"
   ]
  },
  {
   "cell_type": "code",
   "execution_count": null,
   "metadata": {},
   "outputs": [],
   "source": [
    "@illustrator tangle(p, l_max, n) =\n",
    "    # create N segments\n",
    "    for i in 1:n\n",
    "        rand_ρ = random_range(0.50, 1.0)*l_max\n",
    "        rand_α = random(4)*π/2\n",
    "        q = p + vpol(rand_ρ, rand_α)\n",
    "        line(p, q)\n",
    "    end"
   ]
  },
  {
   "cell_type": "code",
   "execution_count": null,
   "metadata": {},
   "outputs": [],
   "source": [
    "render_size(600,600)\n",
    "delete_all_shapes()\n",
    "# illustrate 2 steps\n",
    "with(for_steps_limit, 5) do\n",
    "    @illustrator tangle(u0(), 2, 40)\n",
    "end\n",
    "render_view()"
   ]
  },
  {
   "cell_type": "markdown",
   "metadata": {},
   "source": [
    "## <span style=\"color:#a1a1cf\">**Final**</span> Exercise "
   ]
  },
  {
   "cell_type": "markdown",
   "metadata": {},
   "source": [
    "### Introduction\n",
    "\n",
    "\n",
    "<div style=\"display: flex; align-items: flex-start;\">\n",
    "  <div style=\"flex: 0.35; padding-right: 10px;\">\n",
    "  \n",
    "In architecture, numerous examples showcase buildings façades whose design is driven by the repetition of a single element, with or without variations in form, visually creating a **pattern**. \n",
    "\n",
    "On the right are examples of buildings where the repetition of façade elements generates visually complex effects.\n",
    "\n",
    "```\n",
    "\n",
    "\n",
    "\n",
    "\n",
    "```\n",
    "\n",
    "In this context, consider the following set of examples, where a single element is mapped across a surface, creating a **pattern**.\n",
    "\n",
    "These elements can not only move through space but also adjust their dimensions and other shape-related parameters according to different rules.\n",
    "\n",
    "\n",
    "#####  <span style=\"color:#a1a1cf\">**Step 1**</span> - Defining the `Pattern` function\n",
    "\n",
    "To create a pattern, we can use the `pattern` function, which takes:\n",
    "- the **element** to distribute ($shape$),\n",
    "- the **number** of times the element is repeated along $X$ ($n$) and $Y$ ($m$) dimensions:\n",
    "\n",
    "Then, it maps the element (`shape`) onto a $10$ *X* $10$ rectangular grid consisting of $N$ *X* $M$ cells.\n",
    "\n",
    "</div> \n",
    "<div style=\"flex: 0.65; padding-left: 10px;\">\n",
    "\n",
    "\n",
    "<center><img src=\"images/facades2.jpg\" width=\"900\" height=\"600\"></center>\n"
   ]
  },
  {
   "cell_type": "markdown",
   "metadata": {},
   "source": [
    "\n",
    "\n",
    "<div style=\"display: flex; align-items: flex-start;\">\n",
    "  <div style=\"flex: 0.4; padding-right: 10px;\">\n",
    "\n",
    "\n",
    "\n",
    "```julia\n",
    "grid_size = 10\n",
    "\n",
    "pattern(shape, n, m) = \n",
    "    iterate_quads(shape, \n",
    "                  # grid creation\n",
    "                  map_division(xy, \n",
    "                               0, grid_size, n,    # starting X, ending X, Nº divisions\n",
    "                               0, grid_size, m))    # starting Y, ending Y, Nº divisions\n",
    "```\n",
    "\n",
    "\n",
    "The example on the right shows the division of a squared area into a $4 \\times 4$ grid.\n",
    "\n",
    "</div> \n",
    "  <div style=\"flex: 0.6; padding-left: 10px;\">\n",
    "\n",
    "<center><img src=\"images/grid.svg\" width=\"350\" height=\"350\"></center>"
   ]
  },
  {
   "cell_type": "code",
   "execution_count": null,
   "metadata": {},
   "outputs": [],
   "source": [
    "#implementing Pattern function\n",
    "grid_size = 10\n",
    "\n",
    "pattern(shape, n, m) = \n",
    "    iterate_quads(shape, map_division(xy, 0, grid_size, n, 0, grid_size, m))"
   ]
  },
  {
   "cell_type": "markdown",
   "metadata": {},
   "source": [
    "#####  <span style=\"color:#a1a1cf\">**Step 2**</span> - Creating a *pattern* based on circular elements\n",
    "\n",
    "<div style=\"display: flex; align-items: flex-start;\">\n",
    "  <div style=\"flex: 1; padding-right: 10px;\">\n",
    "\n",
    "The pattern on the **right** is the result of calling the `pattern` function with:\n",
    "- the `centered_circle` function (*which generates a circle centered between 4 given points*):\n",
    "\n",
    "```julia\n",
    "centered_circle(p1,p2,p3,p4) =           # grid cell corners\n",
    "    let c = quad_center(p1,p2,p3,p4),    # calculating the centroid\n",
    "        r = min(distance(p1, p2),        # calculating the circle radius\n",
    "                distance(p1, p4))/2      # (must remain within the limits in both directions)\n",
    "        circle(c, r)\n",
    "    end\n",
    "```\n",
    "\n",
    "- and both $n$ and $m$ parameters set to `4`.\n",
    "\n",
    "```julia\n",
    "pattern(centered_circle, 4, 4)\n",
    "\n",
    "```\n",
    "\n",
    "**Note:** `quad_center` is a predefined function that calculates the midpoint between 4 points.\n",
    "\n",
    "</div> \n",
    "  <div style=\"flex: 1; padding-left: 10px;\">\n",
    "\n",
    "<center><img src=\"images/circles.svg\" width=\"350\" height=\"350\"></center>"
   ]
  },
  {
   "cell_type": "markdown",
   "metadata": {},
   "source": [
    "<div style=\"display: flex; align-items: flex-start;\">\n",
    "  <div style=\"flex: 0.4; padding-right: 20px;\">\n",
    "\n",
    "\n",
    "The example on the left is the result of:\n",
    "\n",
    "```julia\n",
    "centered_circle(x(0), x(2), xy(2,2), y(2))\n",
    "```\n",
    "\n",
    "\n",
    "</div> \n",
    "  <div style=\"flex: 1; padding-left: 10px;\">\n",
    "\n",
    "<center><img src=\"images/circle.svg\" width=\"300\" height=\"300\"></center>"
   ]
  },
  {
   "cell_type": "code",
   "execution_count": null,
   "metadata": {},
   "outputs": [],
   "source": [
    "# Defining centered_circle \n",
    "centered_circle(p1,p2,p3,p4) = \n",
    "    let c = quad_center(p1,p2,p3,p4),\n",
    "        r = min(distance(p1, p2), distance(p1, p4))/2\n",
    "        circle(c, r)\n",
    "    end"
   ]
  },
  {
   "cell_type": "code",
   "execution_count": null,
   "metadata": {},
   "outputs": [],
   "source": [
    "# Testing    \n",
    "delete_all_shapes()\n",
    "render_size(400, 400)\n",
    "delete_all_shapes()\n",
    "pattern(centered_circle, 4, 4)\n",
    "render_view()"
   ]
  },
  {
   "cell_type": "markdown",
   "metadata": {},
   "source": [
    "##### <span style=\"color:#a1a1cf\">**Step 3**</span> - Testing *pattern* variations\n",
    "\n",
    "<div style=\"display: flex; align-items: flex-start;\">\n",
    "  <div style=\"flex: 1; padding-right: 10px;\">\n",
    "\n",
    "Let's adjust `centered_circle` to create circles with random radii, varying between **30%** and **100%** of the maximum possible radius.\n",
    "\n",
    "\n",
    "```julia\n",
    "centered_circle(p1, p2, p3, p4) = \n",
    "    let c = quad_center(p1, p2, p3, p4),\n",
    "        r = min(distance(p1, p2), \n",
    "                distance(p1, p4))/2\n",
    "        circle(c, r*random_range(0.30, 1))    # radius is multiplied by a random factor\n",
    "    end\n",
    "\n",
    "```\n",
    "\n",
    "The example on the right is the result of calling the `pattern` function with the new `centered_circle` definition.\n",
    "\n",
    "</div> \n",
    "  <div style=\"flex: 1; padding-left: 10px;\">\n",
    "\n",
    "<center><img src=\"images/circles_rand.svg\" width=\"350\" height=\"350\"></center>"
   ]
  },
  {
   "cell_type": "code",
   "execution_count": null,
   "metadata": {},
   "outputs": [],
   "source": [
    "# Redefining the function\n",
    "centered_circle(p1, p2, p3, p4) = \n",
    "    let c = quad_center(p1, p2, p3, p4),\n",
    "        r = min(distance(p1, p2), distance(p1, p4))/2\n",
    "        circle(c, r*random_range(0.3,1))\n",
    "    end"
   ]
  },
  {
   "cell_type": "code",
   "execution_count": null,
   "metadata": {},
   "outputs": [],
   "source": [
    "# testing \n",
    "delete_all_shapes()\n",
    "render_size(400, 400)\n",
    "delete_all_shapes()\n",
    "pattern(centered_circle, 4, 4)\n",
    "render_view()"
   ]
  },
  {
   "cell_type": "markdown",
   "metadata": {},
   "source": [
    "### <span style=\"color:#a1a1cf\">**Pattern**</span> application examples\n",
    "\n",
    "<div style=\"display: flex; align-items: flex-start;\">\n",
    "  <div style=\"flex: 1; padding-right: 10px;\">\n",
    "\n",
    "\n",
    "\n",
    "#### <span style=\"color:#a1a1cf\">**1.**</span> Random polygons\n",
    "\n",
    "\n",
    "The image on the right illustrates the result of calling the `pattern` function with:\n",
    "- a function that creates random polygons (`rand_polygon`) \n",
    "- and both $n$ and $m$ set to $10$.\n",
    "\n",
    "\n",
    "```julia\n",
    "\n",
    "pattern(rand_polygon, 10, 10)\n",
    "\n",
    "```\n",
    "\n",
    "</div> \n",
    "  <div style=\"flex: 1; padding-left: 10px;\">\n",
    "\n",
    "<center>\n",
    "\n",
    "<img src=\"images/rand_polygons.jpg\" width=\"350\" height=\"350\"></center>\n",
    "\n"
   ]
  },
  {
   "cell_type": "markdown",
   "metadata": {},
   "source": [
    "<div style=\"display: flex; align-items: flex-start;\">\n",
    "  <div style=\"flex: 1; padding-right: 10px;\">\n",
    "\n",
    "  \n",
    "Like the `centered_circle` function, `rand_polygon` takes *four* points (the *grid cell* corners), returning a four-sides polygon with randomly sized edges.\n",
    "\n",
    "```julia\n",
    "\n",
    "rand_polygon(p1, p2, p3, p4) =\n",
    "    # calculating polygon's (random) corners\n",
    "    let pm1 = intermediate_loc(p1, p2, random(1.0)),\n",
    "        pm2 = intermediate_loc(p2, p3, random(1.0)),\n",
    "        pm3 = intermediate_loc(p3, p4, random(1.0)),\n",
    "        pm4 = intermediate_loc(p4, p1, random(1.0))\n",
    "        surface_polygon(pm1, pm2, pm3, pm4)\n",
    "    end\n",
    "\n",
    "```\n",
    "\n",
    "**Notes**: \n",
    "- `intermediate_loc` is a predefined function that calculates a point between two given points (`p`, `q`) based on a factor `κ`. \n",
    "   (e.g., if `κ=0.5` $\\rightarrow$ returns the midpoint between `p` and `q`).\n",
    "\n",
    "\n",
    "- `surface_polygon` is a predefined function that creates a polygonal area between a set of $N$ points.\n",
    "\n",
    "</div> \n",
    "  <div style=\"flex: 1; padding-left: 10px;\">\n",
    "\n",
    "<center>\n",
    "\n",
    "<img src=\"images/rand_polygon.jpg\" width=\"700\" height=\"350\"></center>"
   ]
  },
  {
   "cell_type": "code",
   "execution_count": null,
   "metadata": {},
   "outputs": [],
   "source": [
    "# Defining rand_polygon for the illustrator \n",
    "@illustrator rand_polygon(p_1, p_2, p_3, p_4) =\n",
    "    let pm_1 = intermediate_loc(p_1, p_2, random(1.0)),\n",
    "        pm_2 = intermediate_loc(p_2, p_3, random(1.0)),\n",
    "        pm_3 = intermediate_loc(p_3, p_4, random(1.0)),\n",
    "        pm_4 = intermediate_loc(p_4, p_1, random(1.0))\n",
    "        surface_polygon(pm_1, pm_2, pm_3, pm_4)\n",
    "    end"
   ]
  },
  {
   "cell_type": "code",
   "execution_count": null,
   "metadata": {},
   "outputs": [],
   "source": [
    "# testing\n",
    "render_size(700, 700)\n",
    "delete_all_shapes()\n",
    "@illustrator rand_polygon(x(0), x(6), xy(6,6), y(6))\n",
    "render_view()"
   ]
  },
  {
   "cell_type": "code",
   "execution_count": null,
   "metadata": {},
   "outputs": [],
   "source": [
    "# Defining rand_polygon & testing with Pattern\n",
    "rand_polygon(p_1, p_2, p_3, p_4) =\n",
    "    let pm_1 = intermediate_loc(p_1, p_2, random(1.0)),\n",
    "        pm_2 = intermediate_loc(p_2, p_3, random(1.0)),\n",
    "        pm_3 = intermediate_loc(p_3, p_4, random(1.0)),\n",
    "        pm_4 = intermediate_loc(p_4, p_1, random(1.0))\n",
    "        surface_polygon(pm_1, pm_2, pm_3, pm_4)\n",
    "    end\n",
    "    \n",
    "render_size(400, 400)\n",
    "delete_all_shapes()\n",
    "# Creating a 7x7 random polygons pattern\n",
    "pattern(rand_polygon, 7, 7)\n",
    "render_view()"
   ]
  },
  {
   "cell_type": "markdown",
   "metadata": {},
   "source": [
    "#### <span style=\"color:#a1a1cf\">**2.**</span> Framed windows\n",
    "\n",
    "<div style=\"display: flex; align-items: flex-start;\">\n",
    "  <div style=\"flex: 1; padding-right: 10px;\">\n",
    "\n",
    "\n",
    "The `frame` function creates a window frame between *four* given points, as illustrated on the right.\n",
    "\n",
    "According to the definition below, the window *opening factor* `κ` is set to $0.5$.\n",
    "\n",
    "```julia\n",
    "frame(p1, p2, p3, p4) =\n",
    "    let c = quad_center(p1, p2, p3, p4),    # calculating the centroid    \n",
    "        κ = 0.5,\n",
    "        # calculating the midpoints bewteen each given point and the centroid\n",
    "        pm1 = intermediate_loc(c, p1, κ),\n",
    "        pm2 = intermediate_loc(c, p2, κ),\n",
    "        pm3 = intermediate_loc(c, p3, κ),\n",
    "        pm4 = intermediate_loc(c, p4, κ)\n",
    "        # creating the frame\n",
    "        surface_polygon([p1, p2, pm2, pm1])\n",
    "        surface_polygon([p2, p3, pm3, pm2])\n",
    "        surface_polygon([p3, p4, pm4, pm3])\n",
    "        surface_polygon([p4, p1, pm1, pm4])\n",
    "    end\n",
    "\n",
    "```\n",
    "\n",
    "\n",
    "</div> \n",
    "  <div style=\"flex: 1; padding-left: 10px;\">\n",
    "\n",
    "<center><img src=\"images/frame.jpg\" width=\"440\" height=\"320\"></center>\n",
    "\n",
    "</div></div>\n"
   ]
  },
  {
   "cell_type": "code",
   "execution_count": null,
   "metadata": {},
   "outputs": [],
   "source": [
    "# Defining the function for the Illustrator\n",
    "@illustrator frame(p_1, p_2, p_3, p_4) =\n",
    "    let c = quad_center(p_1, p_2, p_3, p_4),\n",
    "        κ = 0.5 ,\n",
    "        pm_1 = intermediate_loc(c, p_1, κ),\n",
    "        pm_2 = intermediate_loc(c, p_2, κ),\n",
    "        pm_3 = intermediate_loc(c, p_3, κ),\n",
    "        pm_4 = intermediate_loc(c, p_4, κ)\n",
    "        surface_polygon([p_1, p_2, pm_2, pm_1])\n",
    "        surface_polygon([p_2, p_3, pm_3, pm_2])\n",
    "        surface_polygon([p_3, p_4, pm_4, pm_3])\n",
    "        surface_polygon([p_4, p_1, pm_1, pm_4])\n",
    "    end"
   ]
  },
  {
   "cell_type": "code",
   "execution_count": null,
   "metadata": {},
   "outputs": [],
   "source": [
    "# testing it\n",
    "render_size(400, 400)\n",
    "delete_all_shapes()\n",
    "@illustrator frame(x(0), x(4), xy(4,4), y(4))\n",
    "render_view()"
   ]
  },
  {
   "cell_type": "markdown",
   "metadata": {},
   "source": [
    "<div style=\"display: flex; align-items: flex-start;\">\n",
    "  <div style=\"flex: 1; padding-right: 10px;\">\n",
    "\n",
    "\n",
    "The result of calling the `pattern` function with the `frame` function and setting both $n$ and $m$ parameters to $4$ is illustrated on the right:\n",
    "\n",
    "```julia\n",
    "pattern(frame, 4, 4)\n",
    "```\n",
    "\n",
    "</div> \n",
    "  <div style=\"flex: 1; padding-left: 10px;\">\n",
    "\n",
    "<center><img src=\"images/pattern.jpg\" width=\"350\" height=\"350\"></center>"
   ]
  },
  {
   "cell_type": "code",
   "execution_count": null,
   "metadata": {},
   "outputs": [],
   "source": [
    "# Implementing frame function  \n",
    "frame(p_1, p_2, p_3, p_4) =\n",
    "    let c = quad_center(p_1, p_2, p_3, p_4),\n",
    "        κ = 0.5,        # try changing this value and see the result.\n",
    "        pm_1 = intermediate_loc(c, p_1, κ),\n",
    "        pm_2 = intermediate_loc(c, p_2, κ),\n",
    "        pm_3 = intermediate_loc(c, p_3, κ),\n",
    "        pm_4 = intermediate_loc(c, p_4, κ)\n",
    "        surface_polygon([p_1, p_2, pm_2, pm_1])\n",
    "        surface_polygon([p_2, p_3, pm_3, pm_2])\n",
    "        surface_polygon([p_3, p_4, pm_4, pm_3])\n",
    "        surface_polygon([p_4, p_1, pm_1, pm_4])\n",
    "    end\n"
   ]
  },
  {
   "cell_type": "code",
   "execution_count": null,
   "metadata": {},
   "outputs": [],
   "source": [
    "# testing\n",
    "render_size(400, 400)\n",
    "delete_all_shapes()\n",
    "pattern(frame, 4, 4)\n",
    "render_view()"
   ]
  },
  {
   "cell_type": "markdown",
   "metadata": {},
   "source": [
    "\n",
    "<div style=\"display: flex; align-items: flex-start;\">\n",
    "  <div style=\"flex: 0.65; padding-right: 10px;\">\n",
    "\n",
    "##### <span style=\"color:#a1a1cf\">**2.1.**</span> Variation 1 - **Random κ**\n",
    "\n",
    "The function below is a variation of the `frame` function that creates window frames with randomly sized *openings*.\n",
    "\n",
    "This means that, unlike the `frame` function where it is fixed, the *opening factor* (`κ`) varies randomly.\n",
    "\n",
    "```julia\n",
    "rand_frame(p_1, p_2, p_3, p_4) =\n",
    "    let c = quad_center(p_1, p_2, p_3, p_4),\n",
    "        # random variation between 0.1 and 1\n",
    "        κ = random_range(0.1, 1),             \n",
    "        pm_1 = intermediate_loc(c, p_1, κ),\n",
    "        pm_2 = intermediate_loc(c, p_2, κ),\n",
    "        pm_3 = intermediate_loc(c, p_3, κ),\n",
    "        pm_4 = intermediate_loc(c, p_4, κ)\n",
    "        surface_polygon([p_1, p_2, pm_2, pm_1])\n",
    "        surface_polygon([p_2, p_3, pm_3, pm_2])\n",
    "        surface_polygon([p_3, p_4, pm_4, pm_3])\n",
    "        surface_polygon([p_4, p_1, pm_1, pm_4])\n",
    "    end\n",
    "```\n",
    "\n",
    "\n",
    "The result of calling `pattern` with the `rand_frame` function and both $n$ and $m$ parameters set to $10$ is illustrated on the top-right:\n",
    "\n",
    "```julia\n",
    "pattern(rand_frame, 10, 10)\n",
    "```\n",
    "\n",
    "\n",
    "As observed, each frame presents a distinct *opening factor* `κ`, creating a **randomly** variable pattern.\n",
    "\n",
    "</div> \n",
    "  <div style=\"flex: 1; padding-left: 10px;\">\n",
    "\n",
    "<center><img src=\"images/rand_frame.jpg\" width=\"400\" height=\"400\">\n",
    "\n",
    "<br><br>\n",
    "\n",
    "<img src=\"images/random_squares_ex.jpg\" width=\"400\" height=\"270\">\n",
    "\n",
    "<p style=\"font-size: 11px;\"> White Walls by Ateliers Jean Nouvel, Nicosia , Cyprus </p></center>\n",
    "\n",
    "\n",
    "</div> </div> \n",
    "\n"
   ]
  },
  {
   "cell_type": "code",
   "execution_count": null,
   "metadata": {},
   "outputs": [],
   "source": [
    "# test\n",
    "rand_frame(p_1, p_2, p_3, p_4) =\n",
    "    let c = quad_center(p_1, p_2, p_3, p_4)\n",
    "        κ = random_range(0.1, 1)\n",
    "        pm_1 = intermediate_loc(p_1, c, κ)\n",
    "        pm_2 = intermediate_loc(p_2, c, κ)\n",
    "        pm_3 = intermediate_loc(p_3, c, κ)\n",
    "        pm_4 = intermediate_loc(p_4, c, κ)\n",
    "        surface_polygon([p_1, p_2, pm_2, pm_1])\n",
    "        surface_polygon([p_2, p_3, pm_3, pm_2])\n",
    "        surface_polygon([p_3, p_4, pm_4, pm_3])\n",
    "        surface_polygon([p_4, p_1, pm_1, pm_4])\n",
    "    end\n",
    "    \n",
    "render_size(400, 400)\n",
    "delete_all_shapes()\n",
    "pattern(rand_frame, 10, 10)\n",
    "render_view()"
   ]
  },
  {
   "cell_type": "markdown",
   "metadata": {},
   "source": [
    "##### <span style=\"color:#a1a1cf\">**2.2.**</span> Variation 2 - **Incremental κ**\n",
    "\n",
    "The `sin_frame` is another variation of the `frame` function that creates window frames with **progressively larger openings** along X. \n",
    "\n",
    "In this case, the *opening factor* `κ` **depends** on the given **positions**, increasing with the $X$-coordinate of their center (`c`):\n",
    "\n",
    "\n",
    "\n",
    "<div style=\"display: flex; align-items: flex-start;\">\n",
    "  <div style=\"flex: 0.65; padding-right: 10px;\">\n",
    "\n",
    "$$κ = \\sin\\!\\left(c_x \\dfrac{\\dfrac{\\pi}{2}}{\\text{lenght}_x}\\right)\n",
    "\n",
    "$$\n",
    "\n",
    "where $c_x$ is the $X$-value of central point `c`, and $\\text{lenght}_x$ is the total length along $X$-axis.\n",
    "\n",
    "```julia\n",
    "\n",
    "sin_frame(p_1, p_2, p_3, p_4) =\n",
    "    let c = quad_center(p_1, p_2, p_3, p_4),\n",
    "        # X is multiplied by π/2 to ensure increasing sin values\n",
    "        κ = sin(c.x*π/2/grid_size),               \n",
    "        pm_1 = intermediate_loc(c, p_1, κ),\n",
    "        pm_2 = intermediate_loc(c, p_2, κ),\n",
    "        pm_3 = intermediate_loc(c, p_3, κ),\n",
    "        pm_4 = intermediate_loc(c, p_4, κ)\n",
    "        surface_polygon([p_1, p_2, pm_2, pm_1])\n",
    "        surface_polygon([p_2, p_3, pm_3, pm_2])\n",
    "        surface_polygon([p_3, p_4, pm_4, pm_3])\n",
    "        surface_polygon([p_4, p_1, pm_1, pm_4])\n",
    "    end\n",
    "    \n",
    "```\n",
    "\n",
    "The result of calling the function `pattern` with the function `sin_frame` and an $n$ and $m$ of $10$ is illustrated on the right:\n",
    "\n",
    "```julia\n",
    "pattern(sin_frame, 10, 10)\n",
    "\n",
    "```\n",
    "\n",
    "\n",
    "</div> \n",
    "  <div style=\"flex: 1; padding-left: 10px;\">\n",
    "\n",
    "\n",
    "<center><img src=\"images/incre_frame.jpg\" width=\"400\" height=\"400\">\n",
    "\n",
    "<br><br>\n",
    "\n",
    "<img src=\"images/incre_openings_ex2.jpg\" width=\"420\" height=\"300\">\n",
    "\n",
    "<p style=\"font-size: 11px;\">FORMSTELLE by Format Elf Architekten, Töging am Inn, Germany </p></center>\n",
    "\n",
    "</div> </div> "
   ]
  },
  {
   "cell_type": "code",
   "execution_count": null,
   "metadata": {},
   "outputs": [],
   "source": [
    "# implementing \n",
    "sin_frame(p_1, p_2, p_3, p_4) =\n",
    "    let c = quad_center(p_1, p_2, p_3, p_4),\n",
    "        κ = sin(c.x*π/2/grid_size),            # test changing π/2 by π or 2π and see the results\n",
    "        pm_1 = intermediate_loc(c, p_1, κ),\n",
    "        pm_2 = intermediate_loc(c, p_2, κ),\n",
    "        pm_3 = intermediate_loc(c, p_3, κ),\n",
    "        pm_4 = intermediate_loc(c, p_4, κ)\n",
    "        surface_polygon([p_1, p_2, pm_2, pm_1])\n",
    "        surface_polygon([p_2, p_3, pm_3, pm_2])\n",
    "        surface_polygon([p_3, p_4, pm_4, pm_3])\n",
    "        surface_polygon([p_4, p_1, pm_1, pm_4])\n",
    "    end\n",
    "    "
   ]
  },
  {
   "cell_type": "code",
   "execution_count": null,
   "metadata": {},
   "outputs": [],
   "source": [
    "# testing \n",
    "render_size(400, 400)\n",
    "delete_all_shapes()\n",
    "pattern(sin_frame, 10, 10)\n",
    "render_view()"
   ]
  },
  {
   "cell_type": "markdown",
   "metadata": {},
   "source": [
    "### Design your <span style=\"color:#a1a1cf\">**Pattern**</span>\n",
    "\n",
    "Based on the previous examples, develop a **new pattern** (or more) of your own. \n",
    "\n",
    "Bellow are some ideas for inspiration, but feel free to explore other directions as well.\n",
    "\n",
    "<img src=\"images/rand_sides_roseta.jpg\" width=\"300\" height=\"300\">\n",
    "<img src=\"images/sin_stars.svg\" width=\"300\" height=\"300\">\n",
    "<img src=\"images/rot_rand_roseta.jpg\" width=\"300\" height=\"300\">\n",
    "<br>\n",
    "<img src=\"images/sin_trigs.svg\" width=\"300\" height=\"300\">\n",
    "<img src=\"images/sin_hexs.svg\" width=\"300\" height=\"300\">\n",
    "<img src=\"images/rand_lines.svg\" width=\"300\" height=\"300\">"
   ]
  },
  {
   "cell_type": "markdown",
   "metadata": {},
   "source": [
    "### Solutions"
   ]
  },
  {
   "cell_type": "code",
   "execution_count": null,
   "metadata": {},
   "outputs": [],
   "source": []
  }
 ],
 "metadata": {
  "kernelspec": {
   "display_name": "Julia 1.11.5",
   "language": "julia",
   "name": "julia-1.11"
  },
  "language_info": {
   "file_extension": ".jl",
   "mimetype": "application/julia",
   "name": "julia",
   "version": "1.11.5"
  },
  "toc": {
   "base_numbering": 1,
   "nav_menu": {},
   "number_sections": true,
   "sideBar": true,
   "skip_h1_title": true,
   "title_cell": "Table of Contents",
   "title_sidebar": "Contents",
   "toc_cell": false,
   "toc_position": {},
   "toc_section_display": true,
   "toc_window_display": false
  }
 },
 "nbformat": 4,
 "nbformat_minor": 2
}
