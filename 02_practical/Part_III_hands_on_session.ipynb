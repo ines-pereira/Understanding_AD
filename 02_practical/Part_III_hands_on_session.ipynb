{
 "cells": [
  {
   "cell_type": "markdown",
   "metadata": {},
   "source": [
    "# Part III: Hands-on Session"
   ]
  },
  {
   "cell_type": "code",
   "execution_count": null,
   "metadata": {},
   "outputs": [],
   "source": [
    "using KhepriTikZ\n",
    "using KhepriIllustrator"
   ]
  },
  {
   "cell_type": "code",
   "execution_count": null,
   "metadata": {},
   "outputs": [],
   "source": [
    "render_size(600, 600)"
   ]
  },
  {
   "cell_type": "markdown",
   "metadata": {},
   "source": [
    "## Exercise <span style=\"color:#a1a1cf\">**1**</span>"
   ]
  },
  {
   "cell_type": "markdown",
   "metadata": {},
   "source": [
    "As an example, consider a flight of stairs as outlined in this figure:\n",
    "\n",
    "<center><img src=\"images/stair.jpg\" width=\"500\" height=\"300\"></center>\n",
    "\n",
    "Define a function `stairs` that receives as arguments:\n",
    "- the point $P$,\n",
    "- the tread depth $d$,\n",
    "- the rise height $h$,\n",
    "- the number of steps $n$.\n",
    "\n",
    "The function should create a flight of stairs with the first step starting at $P$.\n",
    "\n",
    "**<span style=\"color:#a1a1cf\">Suggestion</span>**: \n",
    "- Create a function that creates one step (e.g., `step`).\n",
    "- Iteratively call this function within the function `stairs` to create $n$ steps."
   ]
  },
  {
   "cell_type": "markdown",
   "metadata": {},
   "source": [
    "<span style=\"color:#a1a1cf\">**1.**</span> Define the function `stairs` without using the illustrator"
   ]
  },
  {
   "cell_type": "code",
   "execution_count": null,
   "metadata": {},
   "outputs": [],
   "source": [
    "# Define\n"
   ]
  },
  {
   "cell_type": "code",
   "execution_count": null,
   "metadata": {},
   "outputs": [],
   "source": [
    "# Visualize\n",
    "delete_all_shapes()\n",
    "\n",
    "render_view()"
   ]
  },
  {
   "cell_type": "markdown",
   "metadata": {},
   "source": [
    "<span style=\"color:#a1a1cf\">**2.**</span> Use the **Illustrator** to improve or redefine your function(s)"
   ]
  },
  {
   "cell_type": "code",
   "execution_count": null,
   "metadata": {},
   "outputs": [],
   "source": [
    "# Define\n"
   ]
  },
  {
   "cell_type": "code",
   "execution_count": null,
   "metadata": {},
   "outputs": [],
   "source": [
    "# Visualize\n",
    "delete_all_shapes()\n",
    "\n",
    "render_view()"
   ]
  },
  {
   "cell_type": "markdown",
   "metadata": {},
   "source": [
    "## Exercise <span style=\"color:#a1a1cf\">**2**</span>"
   ]
  },
  {
   "cell_type": "markdown",
   "metadata": {},
   "source": [
    "<div style=\"display: flex; align-items: flex-start;\">\n",
    "  <div style=\"flex: 1; padding-right: 10px;\">\n",
    "  \n",
    "Define the function `equilateral_triangles` that receives:\n",
    "- the centre of all triangles $P$,\n",
    "- the length of the edge of the innermost equilateral triangle $l$,\n",
    "- the rotation angle of the first triangle $\\alpha_i$,\n",
    "- the number of triangles to create $n$.\n",
    "\n",
    "The function should produce a shape similar to the one illustrated.\n",
    "\n",
    "The example on the right is the result of:\n",
    "\n",
    "```julia\n",
    "equilateral_triangles(xy(0,0), 3, π/2, 4)\n",
    "```\n",
    "\n",
    "\n",
    "</div> \n",
    "  <div style=\"flex: 1; padding-left: 10px;\">\n",
    "\n",
    "<center><img src=\"images/triangulos_altern.png\" width=\"480\" height=\"430\"></center>  "
   ]
  },
  {
   "cell_type": "markdown",
   "metadata": {},
   "source": [
    "<span style=\"color:#a1a1cf\">**1.**</span> Define the function `equilateral_triangles` without using the illustrator"
   ]
  },
  {
   "cell_type": "code",
   "execution_count": null,
   "metadata": {},
   "outputs": [],
   "source": [
    "# Define\n"
   ]
  },
  {
   "cell_type": "code",
   "execution_count": null,
   "metadata": {},
   "outputs": [],
   "source": [
    "# Visualize\n",
    "delete_all_shapes()\n",
    "\n",
    "render_view()"
   ]
  },
  {
   "cell_type": "markdown",
   "metadata": {},
   "source": [
    "<span style=\"color:#a1a1cf\">**2.**</span> Use the **Illustrator** to improve or redefine your function(s)"
   ]
  },
  {
   "cell_type": "code",
   "execution_count": null,
   "metadata": {},
   "outputs": [],
   "source": [
    "# Define\n"
   ]
  },
  {
   "cell_type": "code",
   "execution_count": null,
   "metadata": {},
   "outputs": [],
   "source": [
    "# Visualize\n",
    "delete_all_shapes()\n",
    "\n",
    "render_view()"
   ]
  },
  {
   "cell_type": "markdown",
   "metadata": {},
   "source": [
    "## Exercise <span style=\"color:#a1a1cf\">**3**</span>"
   ]
  },
  {
   "cell_type": "markdown",
   "metadata": {},
   "source": [
    "<div style=\"display: flex; align-items: flex-start;\">\n",
    "  <div style=\"flex: 1; padding-right: 10px;\">\n",
    "  \n",
    "Define a function `centred_polygons` that receives:\n",
    "- the centre $P$,\n",
    "- the number of sides $n_{sides}$,\n",
    "- the radius of the largest regular polygon $r$,\n",
    "- the reduction factor applied to the next polygon $f$,\n",
    "- the number of polygons $n$ to create.\n",
    "\n",
    "The function should generate a shape similar to the one illustrated on the right.\n",
    "\n",
    "The example illustrated results from the expression:\n",
    "```julia\n",
    "centred_polygons(x(0), 4, 1, 0.7, 10)\n",
    "\n",
    "```\n",
    "\n",
    "\n",
    "**<span style=\"color:#a1a1cf\">Suggestion</span>**: \n",
    "\n",
    "Use the predefined function `regular_polygon`, which receives:\n",
    "- the number of sides $n$, \n",
    "- the center $P$,\n",
    "- the radius $r$,\n",
    "- the inclination of the first vertice of a regular polygon $\\alpha$.\n",
    "\n",
    "</div> \n",
    "  <div style=\"flex: 1; padding-left: 10px;\">\n",
    "\n",
    "<center><img src=\"images/poligono_rec.png\" width=\"350\" height=\"320\"></center>"
   ]
  },
  {
   "cell_type": "markdown",
   "metadata": {},
   "source": [
    "<span style=\"color:#a1a1cf\">**1.**</span> Define the function `centred_polygons` without using the illustrator"
   ]
  },
  {
   "cell_type": "code",
   "execution_count": null,
   "metadata": {},
   "outputs": [],
   "source": [
    "# Define\n"
   ]
  },
  {
   "cell_type": "code",
   "execution_count": null,
   "metadata": {},
   "outputs": [],
   "source": [
    "# Visualize\n",
    "delete_all_shapes()\n",
    "\n",
    "render_view()"
   ]
  },
  {
   "cell_type": "markdown",
   "metadata": {},
   "source": [
    "<span style=\"color:#a1a1cf\">**2.**</span> Use the **Illustrator** to improve or redefine your function(s)"
   ]
  },
  {
   "cell_type": "code",
   "execution_count": null,
   "metadata": {},
   "outputs": [],
   "source": [
    "# Define\n"
   ]
  },
  {
   "cell_type": "code",
   "execution_count": null,
   "metadata": {},
   "outputs": [],
   "source": [
    "# Visualize\n",
    "delete_all_shapes()\n",
    "\n",
    "render_view()"
   ]
  },
  {
   "cell_type": "markdown",
   "metadata": {},
   "source": [
    "## Exercise <span style=\"color:#a1a1cf\">**4**</span>"
   ]
  },
  {
   "cell_type": "markdown",
   "metadata": {},
   "source": [
    "<div style=\"display: flex; align-items: flex-start;\">\n",
    "  <div style=\"flex: 1; padding-right: 10px;\">\n",
    "  \n",
    "Consider the sequences of squares on the right. \n",
    "\n",
    "Define a function capable of producing these images given:\n",
    "- the position of the bottom left corner $P$,\n",
    "- the length of the largest square $l$,\n",
    "- the reduction factor for the next square $f$,\n",
    "- the number of squares to create $n$.\n",
    "\n",
    "The left side example is the result of:\n",
    "```julia\n",
    "sequence_squares(x(0), 4, 0.5, 7)\n",
    "```\n",
    "\n",
    "</div> \n",
    "  <div style=\"flex: 1; padding-left: 10px;\">\n",
    "\n",
    "<center><img src=\"images/seq_quadrados.png\" width=\"550\" height=\"240\"></center>"
   ]
  },
  {
   "cell_type": "markdown",
   "metadata": {},
   "source": [
    "<span style=\"color:#a1a1cf\">**1.**</span> Define the function without using the illustrator"
   ]
  },
  {
   "cell_type": "code",
   "execution_count": null,
   "metadata": {},
   "outputs": [],
   "source": [
    "# Define\n"
   ]
  },
  {
   "cell_type": "code",
   "execution_count": null,
   "metadata": {},
   "outputs": [],
   "source": [
    "# Visualize\n",
    "delete_all_shapes()\n",
    "\n",
    "render_view()"
   ]
  },
  {
   "cell_type": "markdown",
   "metadata": {},
   "source": [
    "<span style=\"color:#a1a1cf\">**2.**</span> Use the **Illustrator** to improve or redefine your function(s)"
   ]
  },
  {
   "cell_type": "code",
   "execution_count": null,
   "metadata": {},
   "outputs": [],
   "source": [
    "# Define\n"
   ]
  },
  {
   "cell_type": "code",
   "execution_count": null,
   "metadata": {},
   "outputs": [],
   "source": [
    "# Visualize\n",
    "delete_all_shapes()\n",
    "\n",
    "render_view()"
   ]
  },
  {
   "cell_type": "markdown",
   "metadata": {},
   "source": [
    "## Exercise <span style=\"color:#a1a1cf\">**5**</span>"
   ]
  },
  {
   "cell_type": "markdown",
   "metadata": {},
   "source": [
    "Create the function `rosette` which can generate shapes as the ones illustrated below:\n",
    "\n",
    "<center><img src=\"images/rosettes.jpg\" width=\"950\" height=\"190\"></center>\n",
    "\n",
    "<div style=\"display: flex; align-items: flex-start;\">\n",
    "  <div style=\"flex: 1; padding-right: 10px;\">\n",
    "\n",
    "The function should receive:\n",
    "- the centre of the rosette $P$,\n",
    "- the number of \"petals\" $n$,\n",
    "- the inclination of the first \"petal\" $\\alpha$,\n",
    "- and the inner, middle and outer radii of these petals $r_{in}$, $r_{mid}$, and $r_{out}$.\n",
    "\n",
    "\n",
    "The image on the right results from the expression:\n",
    "```julia\n",
    "rosette(xy(0,0), 4, 0, 1, 3, 3.5)\n",
    "```\n",
    "\n",
    "</div> \n",
    "  <div style=\"flex: 1; padding-left: 10px;\">\n",
    "\n",
    "<center><img src=\"images/rosette.jpg\" width=\"300\" height=\"300\"></center>"
   ]
  },
  {
   "cell_type": "markdown",
   "metadata": {},
   "source": [
    "<span style=\"color:#a1a1cf\">**1.**</span> Define the function `rosette` without using the illustrator"
   ]
  },
  {
   "cell_type": "code",
   "execution_count": null,
   "metadata": {},
   "outputs": [],
   "source": [
    "# Define\n"
   ]
  },
  {
   "cell_type": "code",
   "execution_count": null,
   "metadata": {},
   "outputs": [],
   "source": [
    "# Visualize\n",
    "delete_all_shapes()\n",
    "\n",
    "render_view()"
   ]
  },
  {
   "cell_type": "markdown",
   "metadata": {},
   "source": [
    "<span style=\"color:#a1a1cf\">**2.**</span> Use the **Illustrator** to improve or redefine your function(s)"
   ]
  },
  {
   "cell_type": "code",
   "execution_count": null,
   "metadata": {},
   "outputs": [],
   "source": [
    "# Define\n"
   ]
  },
  {
   "cell_type": "code",
   "execution_count": null,
   "metadata": {},
   "outputs": [],
   "source": [
    "# Visualize\n",
    "delete_all_shapes()\n",
    "\n",
    "render_view()"
   ]
  },
  {
   "cell_type": "markdown",
   "metadata": {},
   "source": [
    "## Exercise <span style=\"color:#a1a1cf\">**6**</span>"
   ]
  },
  {
   "cell_type": "markdown",
   "metadata": {},
   "source": [
    "\n",
    "\n",
    "<div style=\"display: flex; align-items: flex-start;\">\n",
    "  <div style=\"flex: 1; padding-right: 10px;\">\n",
    "\n",
    "Consider the following sequence of circles arranged vertically and tangent to each other.\n",
    "\n",
    "Define the function `stacked_circles` that creates the sequence given:\n",
    "- the base point of the bottom circle $P$,\n",
    "- the radius of the bottom circle $r$,\n",
    "- the reduction factor to apply to the following circle $f$,\n",
    "- and the number of circles to stack $n$.\n",
    "\n",
    "The examples on the right correspond to the following expressions:\n",
    "\n",
    "```julia\n",
    "circulos_empilhados(x(0), 3, 0.35, 3)\n",
    "circulos_empilhados(x(6), 3, 0.55, 5)\n",
    "circulos_empilhados(x(12), 2.5, 0.75, 6)\n",
    "circulos_empilhados(x(17), 1.5, 0.9, 10)\n",
    "```\n",
    "\n",
    "</div> \n",
    "  <div style=\"flex: 1; padding-left: 10px;\">\n",
    "\n",
    "  <center><img src=\"images/stacked_circles1.jpg\" width=\"550\" height=\"430\"></center>"
   ]
  },
  {
   "cell_type": "markdown",
   "metadata": {},
   "source": [
    "<span style=\"color:#a1a1cf\">**1.**</span> Define the function `stacked_circles` without using the illustrator"
   ]
  },
  {
   "cell_type": "code",
   "execution_count": null,
   "metadata": {},
   "outputs": [],
   "source": [
    "# Define\n"
   ]
  },
  {
   "cell_type": "code",
   "execution_count": null,
   "metadata": {},
   "outputs": [],
   "source": [
    "# Visualize\n",
    "delete_all_shapes()\n",
    "\n",
    "render_view()"
   ]
  },
  {
   "cell_type": "markdown",
   "metadata": {},
   "source": [
    "<span style=\"color:#a1a1cf\">**2.**</span> Use the **Illustrator** to improve or redefine your function(s)"
   ]
  },
  {
   "cell_type": "code",
   "execution_count": null,
   "metadata": {},
   "outputs": [],
   "source": [
    "# Define\n"
   ]
  },
  {
   "cell_type": "code",
   "execution_count": null,
   "metadata": {},
   "outputs": [],
   "source": [
    "# Visualize\n",
    "delete_all_shapes()\n",
    "\n",
    "render_view()"
   ]
  },
  {
   "cell_type": "markdown",
   "metadata": {},
   "source": [
    "\n",
    "\n",
    "<div style=\"display: flex; align-items: flex-start;\">\n",
    "  <div style=\"flex: 1; padding-right: 10px;\">\n",
    "\n",
    "<span style=\"color:#a1a1cf\">**3.**</span> Redefine the function to make the circles' radii vary randomly between 25% and $f$ of the given radius $r$.\n",
    "\n",
    "The examples on the right correspond to these expressions:\n",
    "\n",
    "```julia\n",
    "stacked_circles(u0(), 3, 1.0, 4)\n",
    "stacked_circles(x(4), 3, 0.8, 7)\n",
    "stacked_circles(x(8), 2.5, 1.0, 8)\n",
    "```\n",
    "\n",
    "</div> \n",
    "  <div style=\"flex: 1; padding-left: 10px;\">\n",
    "\n",
    "<center><img src=\"images/stacked_circles_rand.svg\" width=\"500\" height=\"450\"></center>"
   ]
  },
  {
   "cell_type": "code",
   "execution_count": null,
   "metadata": {},
   "outputs": [],
   "source": [
    "# Define\n"
   ]
  },
  {
   "cell_type": "code",
   "execution_count": null,
   "metadata": {},
   "outputs": [],
   "source": [
    "# Visualize\n",
    "delete_all_shapes()\n",
    "\n",
    "render_view()"
   ]
  },
  {
   "cell_type": "markdown",
   "metadata": {},
   "source": [
    "## Exercise <span style=\"color:#a1a1cf\">**7**</span>"
   ]
  },
  {
   "cell_type": "markdown",
   "metadata": {},
   "source": [
    "Imagine a line that is always parallel to one of the coordinate axes but randomly changes direction in such a way that it ends up creating a ‘tangle.’ The following image shows three such tangles:\n",
    "\n",
    "<center><img src=\"images/random_walk.jpg\" width=\"700\" height=\"260\"></center>"
   ]
  },
  {
   "cell_type": "markdown",
   "metadata": {},
   "source": [
    "\n",
    "<div style=\"display: flex; align-items: flex-start;\">\n",
    "  <div style=\"flex: 1; padding-right: 10px;\">\n",
    "\n",
    "Create a function `tangle` that receives:\n",
    "- a point $P$,\n",
    "- a maximum distance $d$,\n",
    "- the number of segments to create $n$.\n",
    "\n",
    "The function should generate $n$ segments with a random length between 50% to 100% of the maximum distance $d$ and with a random orientation in increments of $\\pi/2$.\n",
    "\n",
    "\n",
    "</div> \n",
    "  <div style=\"flex: 1; padding-left: 10px;\">\n",
    "\n",
    "<center><img src=\"images/random_walk1.jpg\" width=\"250\" height=\"330\"></center>"
   ]
  },
  {
   "cell_type": "markdown",
   "metadata": {},
   "source": [
    "<span style=\"color:#a1a1cf\">**1.**</span> Define the function `tangle` without using the illustrator"
   ]
  },
  {
   "cell_type": "code",
   "execution_count": null,
   "metadata": {},
   "outputs": [],
   "source": [
    "# Define\n"
   ]
  },
  {
   "cell_type": "code",
   "execution_count": null,
   "metadata": {},
   "outputs": [],
   "source": [
    "# Visualize\n",
    "delete_all_shapes()\n",
    "\n",
    "render_view()"
   ]
  },
  {
   "cell_type": "markdown",
   "metadata": {},
   "source": [
    "<span style=\"color:#a1a1cf\">**2.**</span> Use the **Illustrator** to improve or redefine your function(s)"
   ]
  },
  {
   "cell_type": "code",
   "execution_count": null,
   "metadata": {},
   "outputs": [],
   "source": [
    "# Define\n"
   ]
  },
  {
   "cell_type": "code",
   "execution_count": null,
   "metadata": {},
   "outputs": [],
   "source": [
    "# Visualize\n",
    "delete_all_shapes()\n",
    "\n",
    "render_view()"
   ]
  },
  {
   "cell_type": "markdown",
   "metadata": {},
   "source": [
    "## <span style=\"color:#a1a1cf\">**Final**</span> Exercise "
   ]
  },
  {
   "cell_type": "markdown",
   "metadata": {},
   "source": [
    "In architecture, numerous examples showcase buildings where the façade design is driven by the repetition of a single element, with or without variations in form, visually creating a **pattern**. \n",
    "\n",
    "Below are examples of buildings where the repeated façade element generates visually complex effects.\n",
    "\n",
    "<center><img src=\"images/facades2.jpg\" width=\"800\" height=\"500\"></center>\n"
   ]
  },
  {
   "cell_type": "markdown",
   "metadata": {},
   "source": [
    "In this context, consider the following examples, where a single element is mapped across a surface to create a **pattern**.\n",
    "\n",
    "These elements can not only move through space but also adjust their dimensions and other shape-related parameters."
   ]
  },
  {
   "cell_type": "markdown",
   "metadata": {},
   "source": [
    "\n",
    "\n",
    "<div style=\"display: flex; align-items: flex-start;\">\n",
    "  <div style=\"flex: 1; padding-right: 10px;\">\n",
    "\n",
    "To create a pattern, we can use the `pattern` function, which takes:\n",
    "- the **element** that will be distributed ($shape$),\n",
    "- the **number** of times the element is repeated in the $X$ ($n$) and $Y$ ($m$) dimensions:\n",
    "\n",
    "```julia\n",
    "pattern(shape, n, m)\n",
    "\n",
    "```\n",
    "\n",
    "This function divides a $10 \\times 10$ unit area/surface into $N \\times M$ parts.\n",
    "\n",
    "The example on the right shows the division of a squared area into a $4 \\times 4$ grid.\n",
    "\n",
    "</div> \n",
    "  <div style=\"flex: 1; padding-left: 10px;\">\n",
    "\n",
    "<center><img src=\"images/grid.svg\" width=\"350\" height=\"350\"></center>"
   ]
  },
  {
   "cell_type": "code",
   "execution_count": null,
   "metadata": {},
   "outputs": [],
   "source": [
    "# Run\n",
    "pattern(shape, n, m) = iterate_quads(shape,  map_division(xy, 0, 10, n, 0, 10, m))"
   ]
  },
  {
   "cell_type": "markdown",
   "metadata": {},
   "source": [
    "<div style=\"display: flex; align-items: flex-start;\">\n",
    "  <div style=\"flex: 1; padding-right: 20px;\">\n",
    "\n",
    "To position **circles** across this grid, they must be **parameterized** based on the **four points** ($P_1, P_2, P_3, P_4$) that define each grid cell.\n",
    "\n",
    "```julia\n",
    "circles(p1,p2,p3,p4) = \n",
    "    let c = quad_center(p1,p2,p3,p4),\n",
    "        r = min(distance(p1, p2), distance(p1, p4))/2\n",
    "        circle(c, r)\n",
    "    end\n",
    "\n",
    "```\n",
    "\n",
    "**Note:** `quad_center` is a predefined function that calculates the midpoint between 4 points.\n",
    "\n",
    "\n",
    "The example on the left is the result of:\n",
    "\n",
    "```julia\n",
    "circles(x(0), x(2), xy(2,2), y(2))\n",
    "```\n",
    "\n",
    "\n",
    "</div> \n",
    "  <div style=\"flex: 1; padding-left: 10px;\">\n",
    "\n",
    "<center><img src=\"images/circle.svg\" width=\"300\" height=\"300\"></center>"
   ]
  },
  {
   "cell_type": "markdown",
   "metadata": {},
   "source": [
    "<div style=\"display: flex; align-items: flex-start;\">\n",
    "  <div style=\"flex: 1; padding-right: 10px;\">\n",
    "\n",
    "If we call the `pattern` function using `centered_circle` with both $n$ and $m$ set to 4, we obtain the following result.\n",
    "\n",
    "```julia\n",
    "pattern(centered_circle, 4, 4)\n",
    "\n",
    "```\n",
    "\n",
    "\n",
    "\n",
    "</div> \n",
    "  <div style=\"flex: 1; padding-left: 10px;\">\n",
    "\n",
    "<center><img src=\"images/circles.svg\" width=\"350\" height=\"350\"></center>"
   ]
  },
  {
   "cell_type": "code",
   "execution_count": null,
   "metadata": {},
   "outputs": [],
   "source": [
    "# Test\n",
    "centered_circle(p_1,p_2,p_3,p_4) = \n",
    "    let c = quad_center(p_1,p_2,p_3,p_4),\n",
    "        r = min(distance(p_1, p_2), distance(p_1, p_4))/2\n",
    "        circle(c, r)\n",
    "    end\n",
    "    \n",
    "delete_all_shapes()\n",
    "render_size(400, 400)\n",
    "delete_all_shapes()\n",
    "pattern(centered_circle, 4, 4)\n",
    "render_view()\n"
   ]
  },
  {
   "cell_type": "markdown",
   "metadata": {},
   "source": [
    "<div style=\"display: flex; align-items: flex-start;\">\n",
    "  <div style=\"flex: 1; padding-right: 10px;\">\n",
    "\n",
    "We can now slightly adjust the `centered_circle` function to enable the radii to vary randomly between 30% and 100% of the maximum radius.\n",
    "\n",
    "\n",
    "```julia\n",
    "centered_circle(p_1,p_2,p_3,p_4) = \n",
    "    let c = quad_center(p_1,p_2,p_3,p_4),\n",
    "        r = min(distance(p_1, p_2), distance(p_1, p_4))/2\n",
    "        circle(c, r*random_range(0.3,1))\n",
    "    end\n",
    "\n",
    "```\n",
    "\n",
    "The result of calling the `pattern` function with the same parameters but using the new `centered_circle` definition produces results similar to the one on the right.\n",
    "\n",
    "\n",
    "</div> \n",
    "  <div style=\"flex: 1; padding-left: 10px;\">\n",
    "\n",
    "<center><img src=\"images/circles_rand.svg\" width=\"350\" height=\"350\"></center>"
   ]
  },
  {
   "cell_type": "code",
   "execution_count": null,
   "metadata": {},
   "outputs": [],
   "source": [
    "# Test\n",
    "centered_circle(p_1,p_2,p_3,p_4) = \n",
    "    let c = quad_center(p_1,p_2,p_3,p_4),\n",
    "        r = min(distance(p_1, p_2), distance(p_1, p_4))/2\n",
    "        circle(c, r*random_range(0.3,1))\n",
    "    end\n",
    "    \n",
    "delete_all_shapes()\n",
    "render_size(400, 400)\n",
    "delete_all_shapes()\n",
    "pattern(centered_circle, 4, 4)\n",
    "render_view()"
   ]
  },
  {
   "cell_type": "markdown",
   "metadata": {},
   "source": [
    "<div style=\"display: flex; align-items: flex-start;\">\n",
    "  <div style=\"flex: 1; padding-right: 10px;\">\n",
    "\n",
    "\n",
    "### Example 1\n",
    "\n",
    "Consider the `rand_polygon` function implemented bellow and illustrated on the right:\n",
    "\n",
    "```julia\n",
    "rand_polygon(p_1, p_2, p_3, p_4) =\n",
    "    let pm_1 = intermediate_loc(p_1, p_2, random(1.0)),\n",
    "        pm_2 = intermediate_loc(p_2, p_3, random(1.0)),\n",
    "        pm_3 = intermediate_loc(p_3, p_4, random(1.0)),\n",
    "        pm_4 = intermediate_loc(p_4, p_1, random(1.0))\n",
    "        surface_polygon(pm_1, pm_2, pm_3, pm_4)\n",
    "    end\n",
    "```\n",
    "\n",
    "\n",
    "As visible, the element is defined in relation to four points ($P_1, P_2, P_3, P_4$), which determine its shape while controlling its position on the surface.\n",
    "\n",
    "\n",
    "**Notes**: \n",
    "- `intermediate_loc` calculates a point between two points based on a factor (e.g., $0.5$ corresponds to the midpoint).\n",
    "- `surface_polygon` creates a polygonal area between $N$ points.\n",
    "\n",
    "<br><br>\n",
    "\n",
    "</div> \n",
    "  <div style=\"flex: 1; padding-left: 10px;\">\n",
    "\n",
    "<center><img src=\"images/rand_polygon.jpg\" width=\"550\" height=\"330\"></center>\n",
    "\n",
    "</div> </div> \n",
    "\n",
    "\n",
    "\n",
    "<div style=\"display: flex; align-items: flex-start;\">\n",
    "  <div style=\"flex: 1; padding-right: 10px;\">\n",
    "\n",
    "The result of calling the function `pattern` with the function `rand_polygon` and $n$ and $m$ set to $10$ is illustrated on the right:\n",
    "\n",
    "```julia\n",
    "\n",
    "pattern(rand_polygon, 10, 10)\n",
    "\n",
    "```\n",
    "\n",
    "</div> \n",
    "  <div style=\"flex: 1; padding-left: 10px;\">\n",
    "\n",
    "<center>\n",
    "\n",
    "<img src=\"images/rand_polygons.jpg\" width=\"350\" height=\"350\"></center>\n",
    "\n"
   ]
  },
  {
   "cell_type": "code",
   "execution_count": null,
   "metadata": {},
   "outputs": [],
   "source": [
    "# test \n",
    "@illustrator rand_polygon(p_1, p_2, p_3, p_4) =\n",
    "    let pm_1 = intermediate_loc(p_1, p_2, random(1.0)),\n",
    "        pm_2 = intermediate_loc(p_2, p_3, random(1.0)),\n",
    "        pm_3 = intermediate_loc(p_3, p_4, random(1.0)),\n",
    "        pm_4 = intermediate_loc(p_4, p_1, random(1.0))\n",
    "        surface_polygon(pm_1, pm_2, pm_3, pm_4)\n",
    "    end\n",
    "\n",
    "render_size(500, 500)\n",
    "delete_all_shapes()\n",
    "@illustrator rand_polygon(x(0), x(4), xy(4,4), y(4))\n",
    "render_view()"
   ]
  },
  {
   "cell_type": "code",
   "execution_count": null,
   "metadata": {},
   "outputs": [],
   "source": [
    "# test\n",
    "rand_polygon(p_1, p_2, p_3, p_4) =\n",
    "    let pm_1 = intermediate_loc(p_1, p_2, random(1.0)),\n",
    "        pm_2 = intermediate_loc(p_2, p_3, random(1.0)),\n",
    "        pm_3 = intermediate_loc(p_3, p_4, random(1.0)),\n",
    "        pm_4 = intermediate_loc(p_4, p_1, random(1.0))\n",
    "        surface_polygon(pm_1, pm_2, pm_3, pm_4)\n",
    "    end\n",
    "    \n",
    "render_size(400, 400)\n",
    "delete_all_shapes()\n",
    "pattern(rand_polygon, 7, 7)\n",
    "render_view()"
   ]
  },
  {
   "cell_type": "markdown",
   "metadata": {},
   "source": [
    "\n",
    "### Example 2\n",
    "\n",
    "Consider the element defined by the following function.\n",
    "\n",
    "<div style=\"display: flex; align-items: flex-start;\">\n",
    "  <div style=\"flex: 1; padding-right: 10px;\">\n",
    "\n",
    "```julia\n",
    "frame(p_1, p_2, p_3, p_4) =\n",
    "    let c = quad_center(p_1, p_2, p_3, p_4),\n",
    "        κ = 0.5,\n",
    "        pm_1 = intermediate_loc(c, p_1, κ),\n",
    "        pm_2 = intermediate_loc(c, p_2, κ),\n",
    "        pm_3 = intermediate_loc(c, p_3, κ),\n",
    "        pm_4 = intermediate_loc(c, p_4, κ)\n",
    "        surface_polygon([p_1, p_2, pm_2, pm_1])\n",
    "        surface_polygon([p_2, p_3, pm_3, pm_2])\n",
    "        surface_polygon([p_3, p_4, pm_4, pm_3])\n",
    "        surface_polygon([p_4, p_1, pm_1, pm_4])\n",
    "    end\n",
    "\n",
    "```\n",
    "\n",
    "\n",
    "</div> \n",
    "  <div style=\"flex: 1; padding-left: 10px;\">\n",
    "\n",
    "<center><img src=\"images/frame.jpg\" width=\"400\" height=\"290\"></center>\n",
    "\n",
    "</div></div>\n"
   ]
  },
  {
   "cell_type": "code",
   "execution_count": null,
   "metadata": {},
   "outputs": [],
   "source": [
    "# run\n",
    "@illustrator frame(p_1, p_2, p_3, p_4) =\n",
    "    let c = quad_center(p_1, p_2, p_3, p_4),\n",
    "        κ = 0.5,\n",
    "        pm_1 = intermediate_loc(c, p_1, κ),\n",
    "        pm_2 = intermediate_loc(c, p_2, κ),\n",
    "        pm_3 = intermediate_loc(c, p_3, κ),\n",
    "        pm_4 = intermediate_loc(c, p_4, κ)\n",
    "        surface_polygon([p_1, p_2, pm_2, pm_1])\n",
    "        surface_polygon([p_2, p_3, pm_3, pm_2])\n",
    "        surface_polygon([p_3, p_4, pm_4, pm_3])\n",
    "        surface_polygon([p_4, p_1, pm_1, pm_4])\n",
    "    end"
   ]
  },
  {
   "cell_type": "code",
   "execution_count": null,
   "metadata": {},
   "outputs": [],
   "source": [
    "# test\n",
    "render_size(400, 400)\n",
    "delete_all_shapes()\n",
    "@illustrator frame(x(0), x(4), xy(4,4), y(4))\n",
    "render_view()"
   ]
  },
  {
   "cell_type": "markdown",
   "metadata": {},
   "source": [
    "<div style=\"display: flex; align-items: flex-start;\">\n",
    "  <div style=\"flex: 1; padding-right: 10px;\">\n",
    "\n",
    "\n",
    "\n",
    "The result of calling the function `pattern` with the function `frame` and $n$ and $m$ set to $4$ is illustrated on the right:\n",
    "\n",
    "```julia\n",
    "pattern(frame, 4, 4)\n",
    "```\n",
    "\n",
    "</div> \n",
    "  <div style=\"flex: 1; padding-left: 10px;\">\n",
    "\n",
    "<center><img src=\"images/pattern.jpg\" width=\"350\" height=\"350\"></center>"
   ]
  },
  {
   "cell_type": "code",
   "execution_count": null,
   "metadata": {},
   "outputs": [],
   "source": [
    "# test \n",
    "frame(p_1, p_2, p_3, p_4) =\n",
    "    let c = quad_center(p_1, p_2, p_3, p_4),\n",
    "        κ = 0.5,\n",
    "        pm_1 = intermediate_loc(c, p_1, κ),\n",
    "        pm_2 = intermediate_loc(c, p_2, κ),\n",
    "        pm_3 = intermediate_loc(c, p_3, κ),\n",
    "        pm_4 = intermediate_loc(c, p_4, κ)\n",
    "        surface_polygon([p_1, p_2, pm_2, pm_1])\n",
    "        surface_polygon([p_2, p_3, pm_3, pm_2])\n",
    "        surface_polygon([p_3, p_4, pm_4, pm_3])\n",
    "        surface_polygon([p_4, p_1, pm_1, pm_4])\n",
    "    end\n",
    "\n",
    "render_size(400, 400)\n",
    "delete_all_shapes()\n",
    "pattern(frame, 4, 4)\n",
    "render_view()"
   ]
  },
  {
   "cell_type": "markdown",
   "metadata": {},
   "source": [
    "To produce more **dynamic** patterns, we can slightly modify the `frame` function to make it **vary factor κ** across the surface.\n",
    "\n",
    "This variation can be **random** or **incremental**.\n",
    "\n",
    "<div style=\"display: flex; align-items: flex-start;\">\n",
    "  <div style=\"flex: 1; padding-right: 10px;\">\n",
    "\n",
    "### **Example 2 - Random κ**\n",
    "\n",
    "By changing **factor κ** from a fixed value to a **random** value between 0.1 and 1, we achieve the result displayed on the side.\n",
    "\n",
    "```julia\n",
    "rand_frame(p_1, p_2, p_3, p_4) =\n",
    "    let c = quad_center(p_1, p_2, p_3, p_4),\n",
    "        κ = random_range(0.1, 1),\n",
    "        pm_1 = intermediate_loc(c, p_1, κ),\n",
    "        pm_2 = intermediate_loc(c, p_2, κ),\n",
    "        pm_3 = intermediate_loc(c, p_3, κ),\n",
    "        pm_4 = intermediate_loc(c, p_4, κ)\n",
    "        surface_polygon([p_1, p_2, pm_2, pm_1])\n",
    "        surface_polygon([p_2, p_3, pm_3, pm_2])\n",
    "        surface_polygon([p_3, p_4, pm_4, pm_3])\n",
    "        surface_polygon([p_4, p_1, pm_1, pm_4])\n",
    "    end\n",
    "```\n",
    "\n",
    "\n",
    "The result of calling the function `pattern` with the function `rand_frame` and $n$ and $m$ set to $10$ is illustrated on the right:\n",
    "\n",
    "```julia\n",
    "pattern(rand_frame, 10, 10)\n",
    "```\n",
    "\n",
    "As observed, each element generated features a distinct **factor κ**, with variations that seem to follow a **random** pattern.\n",
    "\n",
    "</div> \n",
    "  <div style=\"flex: 1; padding-left: 10px;\">\n",
    "\n",
    "<center><img src=\"images/rand_frame.jpg\" width=\"350\" height=\"350\">\n",
    "\n",
    "<br><br>\n",
    "\n",
    "<img src=\"images/random_squares_ex.jpg\" width=\"400\" height=\"270\">\n",
    "\n",
    "<p style=\"font-size: 11px;\"> White Walls by Ateliers Jean Nouvel, Nicosia , Cyprus </p></center>\n",
    "\n",
    "</div> </div> \n",
    "\n"
   ]
  },
  {
   "cell_type": "code",
   "execution_count": null,
   "metadata": {},
   "outputs": [],
   "source": [
    "# test\n",
    "rand_frame(p_1, p_2, p_3, p_4) =\n",
    "    let c = quad_center(p_1, p_2, p_3, p_4)\n",
    "        κ = random_range(0.1, 1)\n",
    "        pm_1 = intermediate_loc(p_1, c, κ)\n",
    "        pm_2 = intermediate_loc(p_2, c, κ)\n",
    "        pm_3 = intermediate_loc(p_3, c, κ)\n",
    "        pm_4 = intermediate_loc(p_4, c, κ)\n",
    "        surface_polygon([p_1, p_2, pm_2, pm_1])\n",
    "        surface_polygon([p_2, p_3, pm_3, pm_2])\n",
    "        surface_polygon([p_3, p_4, pm_4, pm_3])\n",
    "        surface_polygon([p_4, p_1, pm_1, pm_4])\n",
    "    end\n",
    "    \n",
    "render_size(400, 400)\n",
    "delete_all_shapes()\n",
    "pattern(rand_frame, 10, 10)\n",
    "render_view()"
   ]
  },
  {
   "cell_type": "markdown",
   "metadata": {},
   "source": [
    "<div style=\"display: flex; align-items: flex-start;\">\n",
    "  <div style=\"flex: 1; padding-right: 10px;\">\n",
    "\n",
    "### **Example 2 - Incremental κ**\n",
    "\n",
    "By changing **factor κ** from a fixed to an **increasing value** along the $X$ dimension, we achieve the result displayed on the side.\n",
    "\n",
    "```julia\n",
    "\n",
    "sin_frame(p_1, p_2, p_3, p_4) =\n",
    "    let c = quad_center(p_1, p_2, p_3, p_4),\n",
    "        κ = sin(c.x*pi/2/10),\n",
    "        pm_1 = intermediate_loc(c, p_1, κ),\n",
    "        pm_2 = intermediate_loc(c, p_2, κ),\n",
    "        pm_3 = intermediate_loc(c, p_3, κ),\n",
    "        pm_4 = intermediate_loc(c, p_4, κ)\n",
    "        surface_polygon([p_1, p_2, pm_2, pm_1])\n",
    "        surface_polygon([p_2, p_3, pm_3, pm_2])\n",
    "        surface_polygon([p_3, p_4, pm_4, pm_3])\n",
    "        surface_polygon([p_4, p_1, pm_1, pm_4])\n",
    "    end\n",
    "    \n",
    "```\n",
    "\n",
    "The result of calling the function `pattern` with the function `sin_frame` and $n$ and $m$ set to $10$ is illustrated on the right:\n",
    "\n",
    "```julia\n",
    "pattern(sin_frame, 10, 10)\n",
    "\n",
    "```\n",
    "\n",
    "\n",
    "As observed, each element generated has a **factor κ** that **depends** on its **position**. In this case, the larger the $X$-coordinate of the grid cell's center (`c`) where the element is placed, the greater the factor `κ`.\n",
    "\n",
    "</div> \n",
    "  <div style=\"flex: 1; padding-left: 10px;\">\n",
    "\n",
    "\n",
    "<center><img src=\"images/incre_frame.jpg\" width=\"350\" height=\"350\">\n",
    "\n",
    "<br><br>\n",
    "\n",
    "<img src=\"images/incre_openings_ex2.jpg\" width=\"390\" height=\"280\">\n",
    "\n",
    "<p style=\"font-size: 11px;\">FORMSTELLE by Format Elf Architekten, Töging am Inn, Germany </p></center>\n",
    "\n",
    "\n",
    "</div> </div> "
   ]
  },
  {
   "cell_type": "code",
   "execution_count": null,
   "metadata": {},
   "outputs": [],
   "source": [
    "# test\n",
    "sin_frame(p_1, p_2, p_3, p_4) =\n",
    "    let c = quad_center(p_1, p_2, p_3, p_4),\n",
    "        κ = sin(c.x*pi/2/10),\n",
    "        pm_1 = intermediate_loc(c, p_1, κ),\n",
    "        pm_2 = intermediate_loc(c, p_2, κ),\n",
    "        pm_3 = intermediate_loc(c, p_3, κ),\n",
    "        pm_4 = intermediate_loc(c, p_4, κ)\n",
    "        surface_polygon([p_1, p_2, pm_2, pm_1])\n",
    "        surface_polygon([p_2, p_3, pm_3, pm_2])\n",
    "        surface_polygon([p_3, p_4, pm_4, pm_3])\n",
    "        surface_polygon([p_4, p_1, pm_1, pm_4])\n",
    "    end\n",
    "    \n",
    "render_size(400, 400)\n",
    "delete_all_shapes()\n",
    "pattern(sin_frame, 10, 10)\n",
    "render_view()"
   ]
  },
  {
   "cell_type": "markdown",
   "metadata": {},
   "source": [
    "### Design your **Pattern**\n",
    "\n",
    "Based on the previous functions (`frame`, `rand_frame`, `inc_frame`, and `rand_polygon`), create a function to generate an element of **your choice**, whose repetition allows for the creation of different patterns.\n",
    "\n",
    "**<span style=\"color:#a1a1cf\">Suggestion</span>**:  \n",
    "- Start by **sketching** ideas for your element/pattern by hand.  \n",
    "- Parameterize the base element in relation to **4 points** ($P_1,P_2,P_3,P_4$).  \n",
    "- Define the **parameters** of the base element(s) that can vary and the **ranges** of those variations.  \n",
    "- Finally, **implement** the function.\n",
    "\n",
    "The examples below show some possibilities:\n",
    "\n",
    "<img src=\"images/rand_sides_roseta.jpg\" width=\"300\" height=\"300\">\n",
    "<img src=\"images/sin_stars.svg\" width=\"300\" height=\"300\">\n",
    "<img src=\"images/rot_rand_roseta.jpg\" width=\"300\" height=\"300\">\n",
    "<br>\n",
    "<img src=\"images/sin_trigs.svg\" width=\"300\" height=\"300\">\n",
    "<img src=\"images/sin_hexs.svg\" width=\"300\" height=\"300\">\n",
    "<img src=\"images/rand_lines.svg\" width=\"300\" height=\"300\">"
   ]
  },
  {
   "cell_type": "code",
   "execution_count": null,
   "metadata": {},
   "outputs": [],
   "source": []
  },
  {
   "cell_type": "code",
   "execution_count": null,
   "metadata": {},
   "outputs": [],
   "source": []
  }
 ],
 "metadata": {
  "kernelspec": {
   "display_name": "Julia 1.10.5",
   "language": "julia",
   "name": "julia-1.10"
  },
  "language_info": {
   "file_extension": ".jl",
   "mimetype": "application/julia",
   "name": "julia",
   "version": "1.10.5"
  },
  "toc": {
   "base_numbering": 1,
   "nav_menu": {},
   "number_sections": true,
   "sideBar": true,
   "skip_h1_title": true,
   "title_cell": "Table of Contents",
   "title_sidebar": "Contents",
   "toc_cell": false,
   "toc_position": {},
   "toc_section_display": true,
   "toc_window_display": false
  }
 },
 "nbformat": 4,
 "nbformat_minor": 2
}
